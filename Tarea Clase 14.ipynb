{
 "cells": [
  {
   "cell_type": "markdown",
   "metadata": {},
   "source": [
    "# <font color = red> Tarea\n",
    "![imagen.png](attachment:imagen.png)\n",
    "Además use el método de estratificación donde se divide en B estratos, visto la clase pasada y compare el resultado con los métodos anteriores cuando se toman $2,4,6,10$ estratos respectivamente, concluya."
   ]
  },
  {
   "cell_type": "code",
   "execution_count": 1,
   "metadata": {},
   "outputs": [],
   "source": [
    "import numpy as np\n",
    "import matplotlib.pyplot as plt\n",
    "from itertools import cycle  # Librería para hacer ciclos\n",
    "import matplotlib.pyplot as plt\n",
    "import scipy.stats as st     # Librería estadística\n",
    "import pandas as pd"
   ]
  },
  {
   "cell_type": "code",
   "execution_count": 26,
   "metadata": {},
   "outputs": [],
   "source": [
    "def fun(x):\n",
    "    if x>=.5:\n",
    "        return (2*x-1)**(1/3)\n",
    "    else:\n",
    "        return -(-2*x+1)**(1/3)\n",
    "    \n",
    "def fun_estratificado(B):\n",
    "    U2 = np.random.rand(B)\n",
    "    i = np.arange(0,B)\n",
    "    v = (U2+i)/B\n",
    "    return np.mean(list(map(lambda x:fun(x),v)))"
   ]
  },
  {
   "cell_type": "code",
   "execution_count": 51,
   "metadata": {},
   "outputs": [
    {
     "data": {
      "text/plain": [
       "0.04144142329313799"
      ]
     },
     "execution_count": 51,
     "metadata": {},
     "output_type": "execute_result"
    }
   ],
   "source": [
    "N = 10\n",
    "u1 = np.random.rand(N)\n",
    "f_u1 = list(map(lambda x: fun(x),u1))\n",
    "media_montecarlo = np.mean(f_u1)\n",
    "\n",
    "\n",
    "u1 =np.random.uniform(0,.6,3)\n",
    "u2 =np.random.uniform(.6,.9,3)\n",
    "u3 =np.random.uniform(0.9,1,4)\n",
    "u  = [u1,u2,u3]\n",
    "m  = range(len(u))\n",
    "w  = [.5,1,4]\n",
    "xi = list(map(lambda y:list(map(lambda x:fun(x),y)),u))\n",
    "muestras = list(map(lambda y:list(map(lambda wi,xi:xi/wi,w,y)),xi))\n",
    "montecarlo_estratificado=np.concatenate(muestras).mean()\n",
    "\n",
    "\n",
    "u2 = 1-u1\n",
    "f_u2 = list(map(lambda x:fun(x),u2))\n",
    "media_complementario = (np.mean(f_u2)+media_montecarlo)/2\n",
    "\n",
    "\n",
    "\n",
    "T=[2,4,6,10]\n",
    "e=list(map(lambda n:fun_estratificado(n),T))\n"
   ]
  },
  {
   "cell_type": "code",
   "execution_count": 74,
   "metadata": {},
   "outputs": [
    {
     "data": {
      "image/png": "[encoded data removed]",
      "text/plain": [
       "<matplotlib.figure.Figure at 0xe670490>"
      ]
     },
     "metadata": {},
     "output_type": "display_data"
    }
   ],
   "source": [
    "N = 1000\n",
    "u1 = np.random.rand(N)\n",
    "f_u1 = list(map(lambda x: fun(x),u1))\n",
    "f=lambda x:3/2*x**2 if x>=-1 or x<=1 else 0\n",
    "x=np.arange(-1,1,.01)\n",
    "plt.plot(x,list(map(lambda x:f(x),x)),'.',label='f(x)')\n",
    "plt.hist(f_u1,50,density=True)\n",
    "plt.title('Validacion de resultados')\n",
    "plt.legend()\n",
    "plt.show()"
   ]
  },
  {
   "cell_type": "code",
   "execution_count": 68,
   "metadata": {},
   "outputs": [
    {
     "data": {
      "text/html": [
       "<div>\n",
       "<style scoped>\n",
       "    .dataframe tbody tr th:only-of-type {\n",
       "        vertical-align: middle;\n",
       "    }\n",
       "\n",
       "    .dataframe tbody tr th {\n",
       "        vertical-align: top;\n",
       "    }\n",
       "\n",
       "    .dataframe thead th {\n",
       "        text-align: right;\n",
       "    }\n",
       "</style>\n",
       "<table border=\"1\" class=\"dataframe\">\n",
       "  <thead>\n",
       "    <tr style=\"text-align: right;\">\n",
       "      <th></th>\n",
       "      <th>Media estimada</th>\n",
       "    </tr>\n",
       "  </thead>\n",
       "  <tbody>\n",
       "    <tr>\n",
       "      <th>Montecarlo crudo</th>\n",
       "      <td>0.041441</td>\n",
       "    </tr>\n",
       "    <tr>\n",
       "      <th>Muestreo estratificado</th>\n",
       "      <td>0.311891</td>\n",
       "    </tr>\n",
       "    <tr>\n",
       "      <th>Numeros complementarios</th>\n",
       "      <td>-0.061062</td>\n",
       "    </tr>\n",
       "    <tr>\n",
       "      <th>Estratificado B=2</th>\n",
       "      <td>-0.043758</td>\n",
       "    </tr>\n",
       "    <tr>\n",
       "      <th>Estratificado B=4</th>\n",
       "      <td>-0.045977</td>\n",
       "    </tr>\n",
       "    <tr>\n",
       "      <th>Estratificado B=6</th>\n",
       "      <td>-0.039204</td>\n",
       "    </tr>\n",
       "    <tr>\n",
       "      <th>Estratificado B=10</th>\n",
       "      <td>0.034174</td>\n",
       "    </tr>\n",
       "  </tbody>\n",
       "</table>\n",
       "</div>"
      ],
      "text/plain": [
       "                         Media estimada\n",
       "Montecarlo crudo               0.041441\n",
       "Muestreo estratificado         0.311891\n",
       "Numeros complementarios       -0.061062\n",
       "Estratificado B=2             -0.043758\n",
       "Estratificado B=4             -0.045977\n",
       "Estratificado B=6             -0.039204\n",
       "Estratificado B=10             0.034174"
      ]
     },
     "execution_count": 68,
     "metadata": {},
     "output_type": "execute_result"
    }
   ],
   "source": [
    "df = pd.DataFrame(index=['Montecarlo crudo','Muestreo estratificado','Numeros complementarios','Estratificado B=2','Estratificado B=4','Estratificado B=6','Estratificado B=10'],columns=['Media estimada'], dtype='float')\n",
    "df.iloc[0,0]=media_montecarlo\n",
    "df.iloc[1,0]=montecarlo_estratificado\n",
    "df.iloc[2,0]=media_complementario\n",
    "df.iloc[3,0]=e[0]\n",
    "df.iloc[4,0]=e[1]\n",
    "df.iloc[5,0]=e[2]\n",
    "df.iloc[6,0]=e[3]\n",
    "df"
   ]
  },
  {
   "cell_type": "code",
   "execution_count": null,
   "metadata": {},
   "outputs": [],
   "source": []
  }
 ],
 "metadata": {
  "kernelspec": {
   "display_name": "Python 3",
   "language": "python",
   "name": "python3"
  },
  "language_info": {
   "codemirror_mode": {
    "name": "ipython",
    "version": 3
   },
   "file_extension": ".py",
   "mimetype": "text/x-python",
   "name": "python",
   "nbconvert_exporter": "python",
   "pygments_lexer": "ipython3",
   "version": "3.6.4"
  }
 },
 "nbformat": 4,
 "nbformat_minor": 2
}
