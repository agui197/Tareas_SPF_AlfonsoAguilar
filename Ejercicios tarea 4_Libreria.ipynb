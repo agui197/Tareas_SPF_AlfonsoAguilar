{
 "cells": [
  {
   "cell_type": "markdown",
   "metadata": {},
   "source": [
    "### Ejercicio:\n",
    "\n",
    "# 1. Imagine una rutina contable utilizada en una librería. Funciona en una lista con sublistas, que se ven así:\n",
    "![imagen.png](attachment:imagen.png)\n",
    "Escriba un programa en Python, que devuelve una lista con tuplas de tamaño 2. Cada tupla consiste en el número de pedido y el producto del precio por artículo y la cantidad. El producto debe aumentarse en 10, - € si el valor de la orden es inferior a 100,00 €. \n",
    "Escribe un programa Python usando **lambda y map**.\n",
    "\n"
   ]
  },
  {
   "cell_type": "code",
   "execution_count": 77,
   "metadata": {
    "collapsed": false
   },
   "outputs": [
    {
     "data": {
      "text/plain": [
       "[['34587', 163.8],\n",
       " ['98762', 284.0],\n",
       " ['77226', 108.85000000000001],\n",
       " ['88112', 84.97]]"
      ]
     },
     "execution_count": 77,
     "metadata": {},
     "output_type": "execute_result"
    }
   ],
   "source": [
    "import numpy as np\n",
    "ticket=[]\n",
    "def increase(value):\n",
    "    if(value<100):\n",
    "        value+=10\n",
    "    return value\n",
    "library=[['34587','Learning Python, Mark Lutz',4,40.95],['98762','Programming Python, Mark Lutz',5,56.8],['77226','Head First Python, Paul Barry',3,32.95],['88112','Einfuhrung in Python3, Bernd Klein',3,24.99]]\n",
    "p = lambda x,y:x*y\n",
    "k = np.arange(0,len(library))\n",
    "result=list(map(increase,[p(library[i][2],library[i][3]) for i in k]))\n",
    "[ticket.append([library[i][0],result[i]]) for i in k]\n",
    "ticket"
   ]
  },
  {
   "cell_type": "markdown",
   "metadata": {},
   "source": [
    "# 2. La misma librería, pero esta vez trabajamos en una lista diferente. Las sublistas de nuestras listas se ven así: \n",
    "[número de orden, (número de artículo, cantidad, precio por unidad), ... (número de artículo, cantidad, precio por unidad)] \n",
    "> orders = [ [1, (\"5464\", 4, 9.99), (\"8274\",18,12.99), (\"9744\", 9, 44.95)], \n",
    ">\t       [2, (\"5464\", 9, 9.99), (\"9744\", 9, 44.95)],\n",
    ">\t       [3, (\"5464\", 9, 9.99), (\"88112\", 11, 24.99)],\n",
    ">          [4, (\"8732\", 7, 11.99), (\"7733\",11,18.99), (\"88112\", 5, 39.95)] ]\n",
    "\n",
    "Escriba un programa que devuelva una lista de dos tuplas (número de pedido, cantidad total de pedido)."
   ]
  },
  {
   "cell_type": "code",
   "execution_count": 141,
   "metadata": {
    "collapsed": false
   },
   "outputs": [
    {
     "data": {
      "text/plain": [
       "[[1, 688.32999999999993],\n",
       " [2, 504.46000000000004],\n",
       " [3, 374.79999999999995],\n",
       " [4, 502.56999999999999]]"
      ]
     },
     "execution_count": 141,
     "metadata": {},
     "output_type": "execute_result"
    }
   ],
   "source": [
    "ticket2=[]\n",
    "orders = [ [1, (\"5464\", 4, 9.99), (\"8274\",18,12.99), (\"9744\", 9, 44.95)],\n",
    "      [2, (\"5464\", 9, 9.99), (\"9744\", 9, 44.95)],\n",
    "      [3, (\"5464\", 9, 9.99), (\"88112\", 11, 24.99)],\n",
    "     [4, (\"8732\", 7, 11.99), (\"7733\",11,18.99), (\"88112\", 5, 39.95)] ]\n",
    "result=[list(map(increase,[p(orders[k][i][1],orders[k][i][2]) for i in np.arange(1,len(orders[k]))])) for k in np.arange(0,len(orders))]\n",
    "np.sum(result[0])\n",
    "[ticket2.append([orders[i][0],np.sum(result[i])]) for i in np.arange(0,len(orders))]\n",
    "ticket2\n"
   ]
  },
  {
   "cell_type": "code",
   "execution_count": null,
   "metadata": {
    "collapsed": true
   },
   "outputs": [],
   "source": []
  }
 ],
 "metadata": {
  "kernelspec": {
   "display_name": "Python [conda root]",
   "language": "python",
   "name": "conda-root-py"
  },
  "language_info": {
   "codemirror_mode": {
    "name": "ipython",
    "version": 3
   },
   "file_extension": ".py",
   "mimetype": "text/x-python",
   "name": "python",
   "nbconvert_exporter": "python",
   "pygments_lexer": "ipython3",
   "version": "3.5.2"
  }
 },
 "nbformat": 4,
 "nbformat_minor": 1
}
