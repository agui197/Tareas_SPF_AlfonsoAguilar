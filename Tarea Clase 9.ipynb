{
 "cells": [
  {
   "cell_type": "markdown",
   "metadata": {},
   "source": [
    ">### <font color ='red'> Ejemplo 3  **Tarea** \n",
    ">El tiempo en el cual un movimiento browniano se mantiene sobre su punto máximo en el intervalo [0,1] tiene una distribución\n",
    ">$$F(x)=\\frac{2}{\\pi}\\sin^{-1}(\\sqrt x),\\quad 0\\leq x\\leq 1$$ </font>"
   ]
  },
  {
   "cell_type": "markdown",
   "metadata": {},
   "source": [
    ">### <font color ='red'> Respuesta:\n",
    ">$$x=\\sin{(\\frac{\\pi y}{2}})^{2},\\quad 0\\leq y\\leq 1$$ </font>"
   ]
  },
  {
   "cell_type": "markdown",
   "metadata": {},
   "source": [
    "Generar una variable aletoria binomial con parámetros $n=10$ y $p=0.7$. Recordar que\n",
    "$$X\\sim binomial(n,p) \\longrightarrow p_i=P(X=i)=\\frac{n!}{i!(n-i)!}p^i(1-p)^{n-i},\\quad i=0,1,\\cdots,n$$\n",
    "> ## <font color ='red'>Tarea: Demostrar la validez de la siguiente ecuación\n",
    ">$$p_{i+1}=\\frac{n-i}{i+1}\\frac{p}{1-p} p_i \\longrightarrow \\text{Hablar de las ventajas que sea recursiva}$$"
   ]
  },
  {
   "cell_type": "code",
   "execution_count": 65,
   "metadata": {},
   "outputs": [
    {
     "data": {
      "text/plain": [
       "0.9717524751000001"
      ]
     },
     "execution_count": 65,
     "metadata": {},
     "output_type": "execute_result"
    }
   ],
   "source": [
    "# Función que calcula la probabilidad acumulada\n",
    "def P_acum_Binomial(n,p):\n",
    "    c  = p/(1-p)\n",
    "    pr = [(1-p)**n]\n",
    "    add = pr.append\n",
    "    for i in range(n+1):\n",
    "        add((c*(n-i)/(i+1))*pr[-1])\n",
    "    return np.cumsum(pr)\n",
    "# def D_binomial_intermedia(n,p,N):\n",
    "n = 10; p = 0.7; N = 10**4; i=0\n",
    "\n",
    "p_acum = P_acum_Binomial(n,p)\n",
    "fac(n)/(fac(i)*fac(n-i))*p**i*(1-p**(n-i))"
   ]
  },
  {
   "cell_type": "code",
   "execution_count": 69,
   "metadata": {},
   "outputs": [
    {
     "data": {
      "text/plain": [
       "[0.0,\n",
       " 0.30000000000000004,\n",
       " 0.51,\n",
       " 0.657,\n",
       " 0.7599,\n",
       " 0.8319300000000001,\n",
       " 0.882351,\n",
       " 0.9176457,\n",
       " 0.94235199,\n",
       " 0.959646393,\n",
       " 0.9717524751000001]"
      ]
     },
     "execution_count": 69,
     "metadata": {},
     "output_type": "execute_result"
    }
   ],
   "source": [
    "from math import factorial as fac\n",
    "def binomial(n,p):\n",
    "    return [(fac(n)/(fac(i)*fac(n-i))*p**i*(1-p**(n-i))) for n in range(n+1)]\n",
    "    #return (fac(n)/(fac(i)*fac(n-i))*p**i*(1-p**(n-i))) \n",
    "x= binomial(10,.7)\n",
    "x"
   ]
  },
  {
   "cell_type": "markdown",
   "metadata": {},
   "source": [
    "> ## <font color ='red'>Tarea\n",
    "Seguir un procedimiento similar al mostrado anteriormente para generar una  distribución Binomial, pero en esta caso genere un código que genere variables aletorias Poisson cuya función de distribución de probabilidad esta dada por:\n",
    ">$$P(k,\\lambda)=\\frac{e^{-\\lambda}(\\lambda)^k}{k!}$$\n",
    "> Enlace: https://es.wikipedia.org/wiki/Distribuci%C3%B3n_de_Poisson"
   ]
  },
  {
   "cell_type": "code",
   "execution_count": 80,
   "metadata": {},
   "outputs": [
    {
     "data": {
      "image/png": "[encoded data removed]",
      "text/plain": [
       "<matplotlib.figure.Figure at 0xa4b9f30>"
      ]
     },
     "metadata": {},
     "output_type": "display_data"
    },
    {
     "data": {
      "image/png": "[encoded data removed]",
      "text/plain": [
       "<matplotlib.figure.Figure at 0xb53b770>"
      ]
     },
     "metadata": {},
     "output_type": "display_data"
    }
   ],
   "source": [
    "import numpy as np\n",
    "import matplotlib.pyplot as plt\n",
    "n = 10; N = 10**4\n",
    "\n",
    "plt.figure(figsize=[13,4])\n",
    "plt.subplot(121)\n",
    "d_poisson_numpy = np.random.poisson(n,N)\n",
    "count, bins, ignored = plt.hist(d_poisson_numpy, 10, density=True,label='Usando Numpy')\n",
    "plt.legend()\n",
    "np.histogram\n",
    "plt.show()\n",
    "\n",
    "plt.subplot(122)\n",
    "y,n = np.histogram(d_poisson_numpy,range=(0,10),normed=True)\n",
    "# y.size,n\n",
    "plt.bar(n[1:],y, align='center')\n",
    "plt.xlabel('Número de artículos vendidos')\n",
    "plt.ylabel('Número de veces que se\\n vendieron los productos')\n",
    "plt.show()\n"
   ]
  },
  {
   "cell_type": "code",
   "execution_count": 71,
   "metadata": {},
   "outputs": [
    {
     "data": {
      "image/png": "[encoded data removed]",
      "text/plain": [
       "<matplotlib.figure.Figure at 0x8efff90>"
      ]
     },
     "metadata": {},
     "output_type": "display_data"
    }
   ],
   "source": [
    "s = np.random.poisson(5, 10000)\n",
    "count, bins, ignored = plt.hist(s, 14, normed=True)\n",
    "plt.show()"
   ]
  },
  {
   "cell_type": "code",
   "execution_count": 88,
   "metadata": {},
   "outputs": [
    {
     "data": {
      "text/plain": [
       "0.4920824390873136"
      ]
     },
     "execution_count": 88,
     "metadata": {},
     "output_type": "execute_result"
    }
   ],
   "source": [
    "#d_poisson_numpy = list(map(lambda k:np.random.poisson(k,l),range(20)))\n",
    "def poisson(l,k):\n",
    "    return np.exp(-l)*l**k/fac(k)\n",
    "x=[poisson(i, 70) for i in range(70+1)]\n",
    "sum(x)"
   ]
  },
  {
   "cell_type": "code",
   "execution_count": null,
   "metadata": {},
   "outputs": [],
   "source": []
  }
 ],
 "metadata": {
  "kernelspec": {
   "display_name": "Python 3",
   "language": "python",
   "name": "python3"
  },
  "language_info": {
   "codemirror_mode": {
    "name": "ipython",
    "version": 3
   },
   "file_extension": ".py",
   "mimetype": "text/x-python",
   "name": "python",
   "nbconvert_exporter": "python",
   "pygments_lexer": "ipython3",
   "version": "3.6.4"
  }
 },
 "nbformat": 4,
 "nbformat_minor": 2
}
