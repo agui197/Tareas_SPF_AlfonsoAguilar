{
 "cells": [
  {
   "cell_type": "markdown",
   "metadata": {},
   "source": [
    "# Tarea \n",
    "\n",
    "Aproxime el valor de la siguiente integral usando el método monte carlo crudo y método de reducción de varianza de muestreo estratíficado\n",
    "\n",
    "$$I=\\int_{0}^{1}x^2\\text{d}x=\\left.\\frac{x^3}{3}\\right|_{x=0}^{x=1}=\\frac{1}{3}\\approx 0.33333$$\n",
    "\n",
    "Pasos\n",
    "1. Cree una función que realice el método de muestreo estratíficado, recibiendo como único parámetro de entrada la cantidad de estratos y retornando las variables estratíficadas correspondientes.\n",
    "2. Reporte los resultados de la aproximación de la integral usando montecarlo crudo y muestreo estratíficado, en un Dataframe con la información mostrada en la siguiente imagen:\n",
    "![imagen.png](attachment:imagen.png)"
   ]
  },
  {
   "cell_type": "code",
   "execution_count": 2,
   "metadata": {},
   "outputs": [],
   "source": [
    "import numpy as np\n",
    "from functools import reduce\n",
    "import time\n",
    "import matplotlib.pyplot as plt\n",
    "import scipy.stats as st     # Librería estadística\n",
    "import pandas as pd"
   ]
  },
  {
   "cell_type": "code",
   "execution_count": 51,
   "metadata": {},
   "outputs": [],
   "source": [
    "def fun_estratificado(B):\n",
    "    U2 = np.random.rand(B)\n",
    "    i = np.arange(0,B)\n",
    "    v = (U2+i)/B\n",
    "    return np.mean(1-np.sqrt(v))\n",
    "def fun_crudo(N):\n",
    "    ui = np.random.rand(N)\n",
    "    i = np.arange(1,N+1)\n",
    "    return np.mean(1-np.sqrt(ui))"
   ]
  },
  {
   "cell_type": "code",
   "execution_count": 52,
   "metadata": {},
   "outputs": [],
   "source": [
    "T=[10,100,1000,10000,100000,1000000,10000000]\n",
    "R=np.ones(np.size(T))*.33333333\n",
    "c=list(map(lambda n:fun_crudo(n),T))\n",
    "e=list(map(lambda n:fun_estratificado(n),T))\n"
   ]
  },
  {
   "cell_type": "code",
   "execution_count": 53,
   "metadata": {},
   "outputs": [],
   "source": [
    "df = pd.DataFrame(index= R,columns=['Montecarlo crudo','Error relativo 1%','Muestreo estratificado','Error relativo 2%'], dtype='float')\n",
    "df.index.name = \"Cantidad_términos\"\n",
    "\n",
    "df.iloc[:,0]=c\n",
    "df.iloc[:,1]=((R-c)/R)*100\n",
    "df.iloc[:,2]=e\n",
    "df.iloc[:,3]=((R-e)/R)*100\n",
    "df.index=T\n",
    "\n"
   ]
  },
  {
   "cell_type": "code",
   "execution_count": 55,
   "metadata": {},
   "outputs": [
    {
     "data": {
      "text/html": [
       "<div>\n",
       "<style scoped>\n",
       "    .dataframe tbody tr th:only-of-type {\n",
       "        vertical-align: middle;\n",
       "    }\n",
       "\n",
       "    .dataframe tbody tr th {\n",
       "        vertical-align: top;\n",
       "    }\n",
       "\n",
       "    .dataframe thead th {\n",
       "        text-align: right;\n",
       "    }\n",
       "</style>\n",
       "<table border=\"1\" class=\"dataframe\">\n",
       "  <thead>\n",
       "    <tr style=\"text-align: right;\">\n",
       "      <th></th>\n",
       "      <th>Montecarlo crudo</th>\n",
       "      <th>Error relativo 1%</th>\n",
       "      <th>Muestreo estratificado</th>\n",
       "      <th>Error relativo 2%</th>\n",
       "    </tr>\n",
       "  </thead>\n",
       "  <tbody>\n",
       "    <tr>\n",
       "      <th>10</th>\n",
       "      <td>0.288291</td>\n",
       "      <td>13.512605</td>\n",
       "      <td>0.340632</td>\n",
       "      <td>-2.189548</td>\n",
       "    </tr>\n",
       "    <tr>\n",
       "      <th>100</th>\n",
       "      <td>0.333356</td>\n",
       "      <td>-0.006880</td>\n",
       "      <td>0.333787</td>\n",
       "      <td>-0.136130</td>\n",
       "    </tr>\n",
       "    <tr>\n",
       "      <th>1000</th>\n",
       "      <td>0.337778</td>\n",
       "      <td>-1.333335</td>\n",
       "      <td>0.333329</td>\n",
       "      <td>0.001373</td>\n",
       "    </tr>\n",
       "    <tr>\n",
       "      <th>10000</th>\n",
       "      <td>0.335135</td>\n",
       "      <td>-0.540429</td>\n",
       "      <td>0.333334</td>\n",
       "      <td>-0.000060</td>\n",
       "    </tr>\n",
       "    <tr>\n",
       "      <th>100000</th>\n",
       "      <td>0.334084</td>\n",
       "      <td>-0.225215</td>\n",
       "      <td>0.333333</td>\n",
       "      <td>0.000006</td>\n",
       "    </tr>\n",
       "    <tr>\n",
       "      <th>1000000</th>\n",
       "      <td>0.333391</td>\n",
       "      <td>-0.017194</td>\n",
       "      <td>0.333333</td>\n",
       "      <td>-0.000001</td>\n",
       "    </tr>\n",
       "    <tr>\n",
       "      <th>10000000</th>\n",
       "      <td>0.333224</td>\n",
       "      <td>0.032794</td>\n",
       "      <td>0.333333</td>\n",
       "      <td>-0.000001</td>\n",
       "    </tr>\n",
       "  </tbody>\n",
       "</table>\n",
       "</div>"
      ],
      "text/plain": [
       "          Montecarlo crudo  Error relativo 1%  Muestreo estratificado  \\\n",
       "10                0.288291          13.512605                0.340632   \n",
       "100               0.333356          -0.006880                0.333787   \n",
       "1000              0.337778          -1.333335                0.333329   \n",
       "10000             0.335135          -0.540429                0.333334   \n",
       "100000            0.334084          -0.225215                0.333333   \n",
       "1000000           0.333391          -0.017194                0.333333   \n",
       "10000000          0.333224           0.032794                0.333333   \n",
       "\n",
       "          Error relativo 2%  \n",
       "10                -2.189548  \n",
       "100               -0.136130  \n",
       "1000               0.001373  \n",
       "10000             -0.000060  \n",
       "100000             0.000006  \n",
       "1000000           -0.000001  \n",
       "10000000          -0.000001  "
      ]
     },
     "execution_count": 55,
     "metadata": {},
     "output_type": "execute_result"
    }
   ],
   "source": [
    "df"
   ]
  },
  {
   "cell_type": "code",
   "execution_count": null,
   "metadata": {},
   "outputs": [],
   "source": []
  }
 ],
 "metadata": {
  "kernelspec": {
   "display_name": "Python 3",
   "language": "python",
   "name": "python3"
  },
  "language_info": {
   "codemirror_mode": {
    "name": "ipython",
    "version": 3
   },
   "file_extension": ".py",
   "mimetype": "text/x-python",
   "name": "python",
   "nbconvert_exporter": "python",
   "pygments_lexer": "ipython3",
   "version": "3.6.4"
  }
 },
 "nbformat": 4,
 "nbformat_minor": 2
}
