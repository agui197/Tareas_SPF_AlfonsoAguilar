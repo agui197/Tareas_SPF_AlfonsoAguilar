{
 "cells": [
  {
   "cell_type": "markdown",
   "metadata": {},
   "source": [
    "# <font color = 'red'> Tarea: </font>\n",
    "\n",
    "Replicar el procedimiento anterior para valoración de opciones 'call', pero en este caso para opciones tipo 'put'.\n"
   ]
  },
  {
   "cell_type": "code",
   "execution_count": 1,
   "metadata": {},
   "outputs": [],
   "source": [
    "#importar los paquetes que se van a usar\n",
    "import pandas as pd\n",
    "pd.core.common.is_list_like = pd.api.types.is_list_like\n",
    "import pandas_datareader.data as web\n",
    "import numpy as np\n",
    "import datetime\n",
    "import matplotlib.pyplot as plt\n",
    "import scipy.stats as st\n",
    "import seaborn as sns\n",
    "%matplotlib inline\n",
    "#algunas opciones para Pandas\n",
    "pd.set_option('display.notebook_repr_html', True)\n",
    "pd.set_option('display.max_columns', 6)\n",
    "pd.set_option('display.max_rows', 10)\n",
    "pd.set_option('display.width', 78)\n",
    "pd.set_option('precision', 3)"
   ]
  },
  {
   "cell_type": "code",
   "execution_count": 36,
   "metadata": {},
   "outputs": [],
   "source": [
    "aapl = web.YahooOptions('AAPL')\n",
    "aapl_opt = aapl.get_all_data().reset_index()\n"
   ]
  },
  {
   "cell_type": "code",
   "execution_count": 37,
   "metadata": {},
   "outputs": [],
   "source": [
    "call06 = aapl_opt.loc[(aapl_opt.Expiry=='2019-04-18') & (aapl_opt.Type=='put')]\n"
   ]
  },
  {
   "cell_type": "code",
   "execution_count": 4,
   "metadata": {},
   "outputs": [
    {
     "data": {
      "text/html": [
       "<div>\n",
       "<style scoped>\n",
       "    .dataframe tbody tr th:only-of-type {\n",
       "        vertical-align: middle;\n",
       "    }\n",
       "\n",
       "    .dataframe tbody tr th {\n",
       "        vertical-align: top;\n",
       "    }\n",
       "\n",
       "    .dataframe thead th {\n",
       "        text-align: right;\n",
       "    }\n",
       "</style>\n",
       "<table border=\"1\" class=\"dataframe\">\n",
       "  <thead>\n",
       "    <tr style=\"text-align: right;\">\n",
       "      <th></th>\n",
       "      <th>Strike</th>\n",
       "      <th>Type</th>\n",
       "      <th>Symbol</th>\n",
       "      <th>...</th>\n",
       "      <th>Quote_Time</th>\n",
       "      <th>Last_Trade_Date</th>\n",
       "      <th>JSON</th>\n",
       "    </tr>\n",
       "    <tr>\n",
       "      <th>Expiry</th>\n",
       "      <th></th>\n",
       "      <th></th>\n",
       "      <th></th>\n",
       "      <th></th>\n",
       "      <th></th>\n",
       "      <th></th>\n",
       "      <th></th>\n",
       "    </tr>\n",
       "  </thead>\n",
       "  <tbody>\n",
       "    <tr>\n",
       "      <th>2018-11-09</th>\n",
       "      <td>197.5</td>\n",
       "      <td>put</td>\n",
       "      <td>AAPL181109P00197500</td>\n",
       "      <td>...</td>\n",
       "      <td>2018-10-31 17:55:37</td>\n",
       "      <td>2018-10-31 13:30:11</td>\n",
       "      <td>{'contractSymbol': 'AAPL181109P00197500', 'str...</td>\n",
       "    </tr>\n",
       "    <tr>\n",
       "      <th>2018-11-09</th>\n",
       "      <td>187.5</td>\n",
       "      <td>put</td>\n",
       "      <td>AAPL181109P00187500</td>\n",
       "      <td>...</td>\n",
       "      <td>2018-10-31 17:55:37</td>\n",
       "      <td>2018-10-30 19:38:30</td>\n",
       "      <td>{'contractSymbol': 'AAPL181109P00187500', 'str...</td>\n",
       "    </tr>\n",
       "    <tr>\n",
       "      <th>2018-11-09</th>\n",
       "      <td>217.5</td>\n",
       "      <td>put</td>\n",
       "      <td>AAPL181109P00217500</td>\n",
       "      <td>...</td>\n",
       "      <td>2018-10-31 17:55:37</td>\n",
       "      <td>2018-10-31 13:30:03</td>\n",
       "      <td>{'contractSymbol': 'AAPL181109P00217500', 'str...</td>\n",
       "    </tr>\n",
       "    <tr>\n",
       "      <th>2018-11-09</th>\n",
       "      <td>210.0</td>\n",
       "      <td>put</td>\n",
       "      <td>AAPL181109P00210000</td>\n",
       "      <td>...</td>\n",
       "      <td>2018-10-31 17:55:37</td>\n",
       "      <td>2018-10-31 13:30:01</td>\n",
       "      <td>{'contractSymbol': 'AAPL181109P00210000', 'str...</td>\n",
       "    </tr>\n",
       "    <tr>\n",
       "      <th>2018-11-09</th>\n",
       "      <td>225.0</td>\n",
       "      <td>put</td>\n",
       "      <td>AAPL181109P00225000</td>\n",
       "      <td>...</td>\n",
       "      <td>2018-10-31 17:55:37</td>\n",
       "      <td>2018-10-30 19:49:52</td>\n",
       "      <td>{'contractSymbol': 'AAPL181109P00225000', 'str...</td>\n",
       "    </tr>\n",
       "    <tr>\n",
       "      <th>...</th>\n",
       "      <td>...</td>\n",
       "      <td>...</td>\n",
       "      <td>...</td>\n",
       "      <td>...</td>\n",
       "      <td>...</td>\n",
       "      <td>...</td>\n",
       "      <td>...</td>\n",
       "    </tr>\n",
       "    <tr>\n",
       "      <th>2021-01-15</th>\n",
       "      <td>130.0</td>\n",
       "      <td>put</td>\n",
       "      <td>AAPL210115P00130000</td>\n",
       "      <td>...</td>\n",
       "      <td>2018-10-31 17:55:38</td>\n",
       "      <td>2018-10-25 16:46:12</td>\n",
       "      <td>{'contractSymbol': 'AAPL210115P00130000', 'str...</td>\n",
       "    </tr>\n",
       "    <tr>\n",
       "      <th>2021-01-15</th>\n",
       "      <td>215.0</td>\n",
       "      <td>put</td>\n",
       "      <td>AAPL210115P00215000</td>\n",
       "      <td>...</td>\n",
       "      <td>2018-10-31 17:55:38</td>\n",
       "      <td>2018-10-29 16:32:44</td>\n",
       "      <td>{'contractSymbol': 'AAPL210115P00215000', 'str...</td>\n",
       "    </tr>\n",
       "    <tr>\n",
       "      <th>2021-01-15</th>\n",
       "      <td>260.0</td>\n",
       "      <td>put</td>\n",
       "      <td>AAPL210115P00260000</td>\n",
       "      <td>...</td>\n",
       "      <td>2018-10-31 17:55:38</td>\n",
       "      <td>2018-10-30 13:46:04</td>\n",
       "      <td>{'contractSymbol': 'AAPL210115P00260000', 'str...</td>\n",
       "    </tr>\n",
       "    <tr>\n",
       "      <th>2021-01-15</th>\n",
       "      <td>115.0</td>\n",
       "      <td>put</td>\n",
       "      <td>AAPL210115P00115000</td>\n",
       "      <td>...</td>\n",
       "      <td>2018-10-31 17:55:38</td>\n",
       "      <td>2018-10-29 14:46:25</td>\n",
       "      <td>{'contractSymbol': 'AAPL210115P00115000', 'str...</td>\n",
       "    </tr>\n",
       "    <tr>\n",
       "      <th>2021-01-15</th>\n",
       "      <td>195.0</td>\n",
       "      <td>put</td>\n",
       "      <td>AAPL210115P00195000</td>\n",
       "      <td>...</td>\n",
       "      <td>2018-10-31 17:55:38</td>\n",
       "      <td>2018-10-29 19:49:02</td>\n",
       "      <td>{'contractSymbol': 'AAPL210115P00195000', 'str...</td>\n",
       "    </tr>\n",
       "  </tbody>\n",
       "</table>\n",
       "<p>800 rows × 18 columns</p>\n",
       "</div>"
      ],
      "text/plain": [
       "            Strike Type               Symbol  \\\n",
       "Expiry                                         \n",
       "2018-11-09   197.5  put  AAPL181109P00197500   \n",
       "2018-11-09   187.5  put  AAPL181109P00187500   \n",
       "2018-11-09   217.5  put  AAPL181109P00217500   \n",
       "2018-11-09   210.0  put  AAPL181109P00210000   \n",
       "2018-11-09   225.0  put  AAPL181109P00225000   \n",
       "...            ...  ...                  ...   \n",
       "2021-01-15   130.0  put  AAPL210115P00130000   \n",
       "2021-01-15   215.0  put  AAPL210115P00215000   \n",
       "2021-01-15   260.0  put  AAPL210115P00260000   \n",
       "2021-01-15   115.0  put  AAPL210115P00115000   \n",
       "2021-01-15   195.0  put  AAPL210115P00195000   \n",
       "\n",
       "                                  ...                          \\\n",
       "Expiry                            ...                           \n",
       "2018-11-09                        ...                           \n",
       "2018-11-09                        ...                           \n",
       "2018-11-09                        ...                           \n",
       "2018-11-09                        ...                           \n",
       "2018-11-09                        ...                           \n",
       "...                               ...                           \n",
       "2021-01-15                        ...                           \n",
       "2021-01-15                        ...                           \n",
       "2021-01-15                        ...                           \n",
       "2021-01-15                        ...                           \n",
       "2021-01-15                        ...                           \n",
       "\n",
       "                    Quote_Time     Last_Trade_Date  \\\n",
       "Expiry                                               \n",
       "2018-11-09 2018-10-31 17:55:37 2018-10-31 13:30:11   \n",
       "2018-11-09 2018-10-31 17:55:37 2018-10-30 19:38:30   \n",
       "2018-11-09 2018-10-31 17:55:37 2018-10-31 13:30:03   \n",
       "2018-11-09 2018-10-31 17:55:37 2018-10-31 13:30:01   \n",
       "2018-11-09 2018-10-31 17:55:37 2018-10-30 19:49:52   \n",
       "...                        ...                 ...   \n",
       "2021-01-15 2018-10-31 17:55:38 2018-10-25 16:46:12   \n",
       "2021-01-15 2018-10-31 17:55:38 2018-10-29 16:32:44   \n",
       "2021-01-15 2018-10-31 17:55:38 2018-10-30 13:46:04   \n",
       "2021-01-15 2018-10-31 17:55:38 2018-10-29 14:46:25   \n",
       "2021-01-15 2018-10-31 17:55:38 2018-10-29 19:49:02   \n",
       "\n",
       "                                                         JSON  \n",
       "Expiry                                                         \n",
       "2018-11-09  {'contractSymbol': 'AAPL181109P00197500', 'str...  \n",
       "2018-11-09  {'contractSymbol': 'AAPL181109P00187500', 'str...  \n",
       "2018-11-09  {'contractSymbol': 'AAPL181109P00217500', 'str...  \n",
       "2018-11-09  {'contractSymbol': 'AAPL181109P00210000', 'str...  \n",
       "2018-11-09  {'contractSymbol': 'AAPL181109P00225000', 'str...  \n",
       "...                                                       ...  \n",
       "2021-01-15  {'contractSymbol': 'AAPL210115P00130000', 'str...  \n",
       "2021-01-15  {'contractSymbol': 'AAPL210115P00215000', 'str...  \n",
       "2021-01-15  {'contractSymbol': 'AAPL210115P00260000', 'str...  \n",
       "2021-01-15  {'contractSymbol': 'AAPL210115P00115000', 'str...  \n",
       "2021-01-15  {'contractSymbol': 'AAPL210115P00195000', 'str...  \n",
       "\n",
       "[800 rows x 18 columns]"
      ]
     },
     "execution_count": 4,
     "metadata": {},
     "output_type": "execute_result"
    }
   ],
   "source": [
    "aapl = web.YahooOptions('AAPL')\n",
    "aapl_opt = aapl.get_all_data().reset_index()\n",
    "aapl_opt.set_index('Expiry').sort_index()\n"
   ]
  },
  {
   "cell_type": "code",
   "execution_count": 6,
   "metadata": {},
   "outputs": [],
   "source": [
    "# Función para descargar precios de cierre ajustados de varios activos a la vez:\n",
    "def get_historical_closes(tickers, start_date=None, end_date=None, freq=None):\n",
    "    # Fecha inicio por defecto (start_date='2010-01-01') y fecha fin por defecto (end_date=today)\n",
    "    # Frecuencia de muestreo por defecto (freq='d')\n",
    "    # Importamos paquetes necesarios\n",
    "    import pandas as pd\n",
    "    pd.core.common.is_list_like = pd.api.types.is_list_like\n",
    "    import pandas_datareader.data as web  \n",
    "    # Creamos DataFrame vacío de precios, con el índice de las fechas\n",
    "    closes = pd.DataFrame(columns = tickers, index=web.YahooDailyReader(symbols=tickers[0], start=start_date, end=end_date, interval=freq).read().index)\n",
    "    # Agregamos cada uno de los precios con YahooDailyReader\n",
    "    for ticker in tickers:\n",
    "        df = web.YahooDailyReader(symbols=ticker, start=start_date, end=end_date, interval=freq).read()\n",
    "        closes[ticker]=df['Adj Close']\n",
    "    closes.index_name = 'Date'\n",
    "    closes = closes.sort_index()\n",
    "    return closes"
   ]
  },
  {
   "cell_type": "code",
   "execution_count": 7,
   "metadata": {},
   "outputs": [
    {
     "data": {
      "image/png": "[encoded data removed]",
      "text/plain": [
       "<matplotlib.figure.Figure at 0xbbb02f0>"
      ]
     },
     "metadata": {},
     "output_type": "display_data"
    }
   ],
   "source": [
    "ticker = ['AAPL']\n",
    "start_date = '2017-01-01'\n",
    "\n",
    "closes_aapl = get_historical_closes(ticker, start_date,freq='d')\n",
    "closes_aapl.plot(figsize=(8,5));\n",
    "plt.legend(ticker);"
   ]
  },
  {
   "cell_type": "code",
   "execution_count": 8,
   "metadata": {},
   "outputs": [
    {
     "data": {
      "text/html": [
       "<div>\n",
       "<style scoped>\n",
       "    .dataframe tbody tr th:only-of-type {\n",
       "        vertical-align: middle;\n",
       "    }\n",
       "\n",
       "    .dataframe tbody tr th {\n",
       "        vertical-align: top;\n",
       "    }\n",
       "\n",
       "    .dataframe thead th {\n",
       "        text-align: right;\n",
       "    }\n",
       "</style>\n",
       "<table border=\"1\" class=\"dataframe\">\n",
       "  <thead>\n",
       "    <tr style=\"text-align: right;\">\n",
       "      <th></th>\n",
       "      <th>Strike</th>\n",
       "      <th>Expiry</th>\n",
       "      <th>Type</th>\n",
       "      <th>...</th>\n",
       "      <th>Quote_Time</th>\n",
       "      <th>Last_Trade_Date</th>\n",
       "      <th>JSON</th>\n",
       "    </tr>\n",
       "  </thead>\n",
       "  <tbody>\n",
       "    <tr>\n",
       "      <th>398</th>\n",
       "      <td>200.0</td>\n",
       "      <td>2019-02-15</td>\n",
       "      <td>put</td>\n",
       "      <td>...</td>\n",
       "      <td>2018-10-31 17:55:37</td>\n",
       "      <td>2018-10-30 19:58:26</td>\n",
       "      <td>{'contractSymbol': 'AAPL190215P00200000', 'str...</td>\n",
       "    </tr>\n",
       "  </tbody>\n",
       "</table>\n",
       "<p>1 rows × 19 columns</p>\n",
       "</div>"
      ],
      "text/plain": [
       "     Strike     Expiry Type  \\\n",
       "398   200.0 2019-02-15  put   \n",
       "\n",
       "                           ...                                  Quote_Time  \\\n",
       "398                        ...                         2018-10-31 17:55:37   \n",
       "\n",
       "        Last_Trade_Date                                               JSON  \n",
       "398 2018-10-30 19:58:26  {'contractSymbol': 'AAPL190215P00200000', 'str...  \n",
       "\n",
       "[1 rows x 19 columns]"
      ]
     },
     "execution_count": 8,
     "metadata": {},
     "output_type": "execute_result"
    }
   ],
   "source": [
    "aapl_opt.loc[(aapl_opt.Type=='put') & (aapl_opt.Strike==200) & (aapl_opt.Expiry=='2019-02-15')]"
   ]
  },
  {
   "cell_type": "code",
   "execution_count": 9,
   "metadata": {},
   "outputs": [
    {
     "data": {
      "text/plain": [
       "{'ask': 7.65,\n",
       " 'bid': 7.25,\n",
       " 'change': 0.0,\n",
       " 'contractSize': 'REGULAR',\n",
       " 'contractSymbol': 'AAPL190215P00200000',\n",
       " 'currency': 'USD',\n",
       " 'expiration': 1550188800,\n",
       " 'impliedVolatility': 0.3421696643066406,\n",
       " 'inTheMoney': False,\n",
       " 'lastPrice': 8.6,\n",
       " 'lastTradeDate': 1540929506,\n",
       " 'openInterest': 3444,\n",
       " 'percentChange': 0.0,\n",
       " 'strike': 200.0,\n",
       " 'volume': 61}"
      ]
     },
     "execution_count": 9,
     "metadata": {},
     "output_type": "execute_result"
    }
   ],
   "source": [
    "opcion_valuar = aapl_opt.loc[398]\n",
    "opcion_valuar['JSON']"
   ]
  },
  {
   "cell_type": "markdown",
   "metadata": {},
   "source": [
    "- Simularemos el tiempo de contrato (días=107) desde 31/10/18 hasta 15/02/19, 10 escenarios:\n",
    "> Calculador de fechas: https://es.calcuworld.com/calendarios/calculadora-de-tiempo-entre-dos-fechas/\n",
    "    \n",
    "    - Generar fechas"
   ]
  },
  {
   "cell_type": "code",
   "execution_count": 10,
   "metadata": {},
   "outputs": [],
   "source": [
    "def calc_daily_ret(closes):\n",
    "    return np.log(closes/closes.shift(1)).iloc[1:]"
   ]
  },
  {
   "cell_type": "code",
   "execution_count": 11,
   "metadata": {},
   "outputs": [],
   "source": [
    "ret_aapl = calc_daily_ret(closes_aapl)"
   ]
  },
  {
   "cell_type": "code",
   "execution_count": 38,
   "metadata": {},
   "outputs": [
    {
     "data": {
      "text/plain": [
       "(0.001441682104511789, 0.013168839194062905)"
      ]
     },
     "execution_count": 38,
     "metadata": {},
     "output_type": "execute_result"
    }
   ],
   "source": [
    "mu = ret_aapl.mean()[0]\n",
    "sigma = ret_aapl.std()[0]\n",
    "mu, sigma"
   ]
  },
  {
   "cell_type": "code",
   "execution_count": 39,
   "metadata": {},
   "outputs": [
    {
     "data": {
      "text/plain": [
       "DatetimeIndex(['2018-10-31', '2018-11-01', '2018-11-02', '2018-11-03',\n",
       "               '2018-11-04', '2018-11-05', '2018-11-06', '2018-11-07',\n",
       "               '2018-11-08', '2018-11-09',\n",
       "               ...\n",
       "               '2019-02-05', '2019-02-06', '2019-02-07', '2019-02-08',\n",
       "               '2019-02-09', '2019-02-10', '2019-02-11', '2019-02-12',\n",
       "               '2019-02-13', '2019-02-14'],\n",
       "              dtype='datetime64[ns]', length=107, freq='D')"
      ]
     },
     "execution_count": 39,
     "metadata": {},
     "output_type": "execute_result"
    }
   ],
   "source": [
    "ndays = 107\n",
    "nscen = 10\n",
    "dates = pd.date_range('2018-10-31', periods = ndays)\n",
    "dates"
   ]
  },
  {
   "cell_type": "code",
   "execution_count": 40,
   "metadata": {},
   "outputs": [],
   "source": [
    "sim_ret = pd.DataFrame(sigma*np.random.randn(ndays,nscen)+r, index=dates)\n"
   ]
  },
  {
   "cell_type": "code",
   "execution_count": 41,
   "metadata": {},
   "outputs": [],
   "source": [
    "S0 = closes_aapl.iloc[-1,0]  # Condición inicial del precio a simular\n",
    "sim_closes = S0*np.exp(sim_ret.cumsum())"
   ]
  },
  {
   "cell_type": "code",
   "execution_count": 30,
   "metadata": {},
   "outputs": [
    {
     "data": {
      "image/png": "[encoded data removed]",
      "text/plain": [
       "<matplotlib.figure.Figure at 0xba3b9b0>"
      ]
     },
     "metadata": {},
     "output_type": "display_data"
    }
   ],
   "source": [
    "pd.concat([closes_aapl,sim_closes]).plot(figsize=(8,6));"
   ]
  },
  {
   "cell_type": "markdown",
   "metadata": {},
   "source": [
    "No se toma la media sino la tasa libre de riesgo\n",
    "> Referencia: https://www.treasury.gov/resource-center/data-chart-center/interest-rates/Pages/TextView.aspx?data=yield"
   ]
  },
  {
   "cell_type": "code",
   "execution_count": 31,
   "metadata": {},
   "outputs": [],
   "source": [
    "# Tasa de bonos de 1 yr de fecha 10/01/18 -> 2.60%\n",
    "r = 0.0263/360 # Tasa diaria"
   ]
  },
  {
   "cell_type": "code",
   "execution_count": 42,
   "metadata": {},
   "outputs": [],
   "source": [
    "K=200  # strike price\n",
    "ndays = 107\n",
    "nscen = 100000\n",
    "dates = pd.date_range('2018-10-31', periods = ndays)\n",
    "S0 = closes_aapl.iloc[-1,0]  # Condición inicial del precio a simular\n",
    "\n",
    "sim_ret = pd.DataFrame(sigma*np.random.randn(ndays,nscen)+r,index=dates)\n",
    "sim_closes = S0*np.exp(sim_ret.cumsum())"
   ]
  },
  {
   "cell_type": "code",
   "execution_count": 43,
   "metadata": {},
   "outputs": [
    {
     "data": {
      "image/png": "[encoded data removed]",
      "text/plain": [
       "<matplotlib.figure.Figure at 0xb68eb50>"
      ]
     },
     "metadata": {},
     "output_type": "display_data"
    }
   ],
   "source": [
    "strike = pd.DataFrame(K*np.ones([ndays,nscen]), index=dates)\n",
    "put = pd.DataFrame({'Prima':np.exp(-r*ndays) \\\n",
    "              *np.fmax(strike-sim_closes,np.zeros([ndays,nscen])).T.mean()}, index=dates)\n",
    "put.plot();"
   ]
  },
  {
   "cell_type": "code",
   "execution_count": 34,
   "metadata": {},
   "outputs": [
    {
     "data": {
      "text/plain": [
       "Prima    3.413\n",
       "Name: 2019-02-14 00:00:00, dtype: float64"
      ]
     },
     "execution_count": 34,
     "metadata": {},
     "output_type": "execute_result"
    }
   ],
   "source": [
    "put.iloc[-1]"
   ]
  },
  {
   "cell_type": "code",
   "execution_count": 35,
   "metadata": {},
   "outputs": [
    {
     "name": "stdout",
     "output_type": "stream",
     "text": [
      "(3.162498541077388, 3.662628937977226)\n",
      "(3.162498541077388, 3.662628937977226)\n"
     ]
    }
   ],
   "source": [
    "confianza = 0.99\n",
    "sigma_est = sim_closes.iloc[-1].sem()\n",
    "mean_est = put.iloc[-1].Prima\n",
    "i1 = st.t.interval(confianza,nscen-1, loc=mean_est, scale=sigma_est)\n",
    "i2 = st.norm.interval(confianza, loc=mean_est, scale=sigma_est)\n",
    "print(i1)\n",
    "print(i1)\n"
   ]
  },
  {
   "cell_type": "code",
   "execution_count": null,
   "metadata": {},
   "outputs": [],
   "source": []
  },
  {
   "cell_type": "code",
   "execution_count": null,
   "metadata": {},
   "outputs": [],
   "source": []
  },
  {
   "cell_type": "markdown",
   "metadata": {},
   "source": [
    "# Valuacion con metodo histograma"
   ]
  },
  {
   "cell_type": "code",
   "execution_count": 51,
   "metadata": {},
   "outputs": [],
   "source": [
    "K=200\n",
    "ndays = 107\n",
    "nscen = 10000\n",
    "freq, values = np.histogram(ret_aapl+r-mu, bins=2000)\n",
    "prob = freq/np.sum(freq)\n",
    "ret=np.random.choice(values[1:],ndays*nscen,p=prob)\n",
    "dates=pd.date_range('2018-10-31',periods=ndays)\n",
    "sim_ret_hist = pd.DataFrame(ret.reshape((ndays,nscen)),index=dates)\n",
    "sim_closes_hist = (closes_aapl.iloc[-1,0])*np.exp(sim_ret_hist.cumsum())"
   ]
  },
  {
   "cell_type": "code",
   "execution_count": 52,
   "metadata": {},
   "outputs": [
    {
     "data": {
      "image/png": "[encoded data removed]",
      "text/plain": [
       "<matplotlib.figure.Figure at 0xb696890>"
      ]
     },
     "metadata": {},
     "output_type": "display_data"
    }
   ],
   "source": [
    "strike = pd.DataFrame(K*np.ones(ndays*nscen).reshape((ndays,nscen)), index=dates)\n",
    "put_hist = pd.DataFrame({'Prima':np.exp(-r*ndays)*np.fmax(strike-sim_closes_hist,np.zeros(ndays*nscen).reshape((ndays,nscen))).T.mean()}, index=dates)\n",
    "put_hist.plot();"
   ]
  },
  {
   "cell_type": "code",
   "execution_count": 53,
   "metadata": {},
   "outputs": [
    {
     "data": {
      "text/plain": [
       "Prima    3.082\n",
       "Name: 2019-02-14 00:00:00, dtype: float64"
      ]
     },
     "execution_count": 53,
     "metadata": {},
     "output_type": "execute_result"
    }
   ],
   "source": [
    "put_hist.iloc[-1]"
   ]
  },
  {
   "cell_type": "code",
   "execution_count": 54,
   "metadata": {},
   "outputs": [
    {
     "data": {
      "text/plain": [
       "{'ask': 7.65,\n",
       " 'bid': 7.25,\n",
       " 'change': 0.0,\n",
       " 'contractSize': 'REGULAR',\n",
       " 'contractSymbol': 'AAPL190215P00200000',\n",
       " 'currency': 'USD',\n",
       " 'expiration': 1550188800,\n",
       " 'impliedVolatility': 0.3421696643066406,\n",
       " 'inTheMoney': False,\n",
       " 'lastPrice': 8.6,\n",
       " 'lastTradeDate': 1540929506,\n",
       " 'openInterest': 3444,\n",
       " 'percentChange': 0.0,\n",
       " 'strike': 200.0,\n",
       " 'volume': 61}"
      ]
     },
     "execution_count": 54,
     "metadata": {},
     "output_type": "execute_result"
    }
   ],
   "source": [
    "opcion_valuar['JSON']\n"
   ]
  },
  {
   "cell_type": "code",
   "execution_count": 55,
   "metadata": {},
   "outputs": [
    {
     "name": "stdout",
     "output_type": "stream",
     "text": [
      "(2.4814633758694202, 3.6824084664358243)\n",
      "(2.4814633758694202, 3.6824084664358243)\n"
     ]
    }
   ],
   "source": [
    "confianza = 0.95\n",
    "sigma_est = sim_closes_hist.iloc[-1].sem()\n",
    "mean_est = put_hist.iloc[-1].Prima\n",
    "i1 = st.t.interval(confianza,nscen-1, loc=mean_est, scale=sigma_est)\n",
    "i2 = st.norm.interval(confianza, loc=mean_est, scale=sigma_est)\n",
    "print(i1)\n",
    "print(i1)"
   ]
  },
  {
   "cell_type": "code",
   "execution_count": null,
   "metadata": {},
   "outputs": [],
   "source": []
  }
 ],
 "metadata": {
  "kernelspec": {
   "display_name": "Python 3",
   "language": "python",
   "name": "python3"
  },
  "language_info": {
   "codemirror_mode": {
    "name": "ipython",
    "version": 3
   },
   "file_extension": ".py",
   "mimetype": "text/x-python",
   "name": "python",
   "nbconvert_exporter": "python",
   "pygments_lexer": "ipython3",
   "version": "3.6.4"
  }
 },
 "nbformat": 4,
 "nbformat_minor": 2
}
