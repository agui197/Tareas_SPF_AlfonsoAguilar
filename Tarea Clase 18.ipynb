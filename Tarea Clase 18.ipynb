{
 "cells": [
  {
   "cell_type": "markdown",
   "metadata": {},
   "source": [
    "# <font color = 'red'> Tarea: </font>\n",
    "\n",
    "Replicar el procedimiento anterior para valoración de opciones 'call', pero en este caso para opciones tipo 'put'.\n"
   ]
  },
  {
   "cell_type": "code",
   "execution_count": 1,
   "metadata": {},
   "outputs": [],
   "source": [
    "#importar los paquetes que se van a usar\n",
    "import pandas as pd\n",
    "pd.core.common.is_list_like = pd.api.types.is_list_like\n",
    "import pandas_datareader.data as web\n",
    "import numpy as np\n",
    "import datetime\n",
    "from datetime import datetime, timedelta\n",
    "import matplotlib.pyplot as plt\n",
    "import scipy.stats as st\n",
    "import seaborn as sns\n",
    "%matplotlib inline\n",
    "#algunas opciones para Pandas\n",
    "pd.set_option('display.notebook_repr_html', True)\n",
    "pd.set_option('display.max_columns', 6)\n",
    "pd.set_option('display.max_rows', 10)\n",
    "pd.set_option('display.width', 78)\n",
    "pd.set_option('precision', 3)"
   ]
  },
  {
   "cell_type": "code",
   "execution_count": 2,
   "metadata": {},
   "outputs": [],
   "source": [
    "# Función para descargar precios de cierre ajustados de varios activos a la vez:\n",
    "def get_historical_closes(tickers, start_date=None, end_date=None, freq=None):\n",
    "    # Fecha inicio por defecto (start_date='2010-01-01') y fecha fin por defecto (end_date=today)\n",
    "    # Frecuencia de muestreo por defecto (freq='d')\n",
    "    # Importamos paquetes necesarios\n",
    "    import pandas as pd\n",
    "    pd.core.common.is_list_like = pd.api.types.is_list_like\n",
    "    import pandas_datareader.data as web  \n",
    "    # Creamos DataFrame vacío de precios, con el índice de las fechas\n",
    "    closes = pd.DataFrame(columns = tickers, index=web.YahooDailyReader(symbols=tickers[0], start=start_date, end=end_date, interval=freq).read().index)\n",
    "    # Agregamos cada uno de los precios con YahooDailyReader\n",
    "    for ticker in tickers:\n",
    "        df = web.YahooDailyReader(symbols=ticker, start=start_date, end=end_date, interval=freq).read()\n",
    "        closes[ticker]=df['Adj Close']\n",
    "    closes.index_name = 'Date'\n",
    "    closes = closes.sort_index()\n",
    "    return closes"
   ]
  },
  {
   "cell_type": "code",
   "execution_count": 3,
   "metadata": {},
   "outputs": [],
   "source": [
    "def calc_daily_ret(closes):\n",
    "    return np.log(closes/closes.shift(1)).iloc[1:]"
   ]
  },
  {
   "cell_type": "code",
   "execution_count": 33,
   "metadata": {},
   "outputs": [],
   "source": [
    "def interval(confianza,put,sigma_est):\n",
    "    mean_est = put.iloc[-1].Prima\n",
    "    i1 = st.t.interval(confianza,nscen-1, loc=mean_est, scale=sigma_est)\n",
    "    i2 = st.norm.interval(confianza, loc=mean_est, scale=sigma_est)\n",
    "    print(i1)\n",
    "    print(i1)"
   ]
  },
  {
   "cell_type": "code",
   "execution_count": 21,
   "metadata": {},
   "outputs": [],
   "source": [
    "def put_valuation(ret_aapl,opt_valuar):\n",
    "    mu = ret_aapl.mean()[0]\n",
    "    sigma = ret_aapl.std()[0]\n",
    "    r = 0.0263/360 # Tasa diaria\n",
    "    K = opt_valuar.Strike\n",
    "    ndays = (opt_valuar.Expiry.date()-datetime.today().date()).days\n",
    "    nscen = 100000\n",
    "    dates = pd.date_range(datetime.today().date(),periods=ndays).astype('str')\n",
    "    sim_ret = pd.DataFrame(sigma*np.random.randn(ndays,nscen)+r, index=dates)\n",
    "    S0 = closes_aapl.iloc[-1,0]  # Condición inicial del precio a simular\n",
    "    sim_closes = S0*np.exp(sim_ret.cumsum())\n",
    "    strike = pd.DataFrame(K*np.ones([ndays,nscen]), index=dates)\n",
    "    put = pd.DataFrame({'Prima':np.exp(-r*ndays) \\\n",
    "              *np.fmax(strike-sim_closes,np.zeros([ndays,nscen])).T.mean()}, index=dates)\n",
    "    return put,sim_closes.iloc[-1].sem()"
   ]
  },
  {
   "cell_type": "code",
   "execution_count": 25,
   "metadata": {},
   "outputs": [],
   "source": [
    "def put_valuation_hist(ret_aapl,opt_valuar):\n",
    "    mu = ret_aapl.mean()[0]\n",
    "    sigma = ret_aapl.std()[0]\n",
    "    r = 0.0263/360 # Tasa diaria\n",
    "    K = opt_valuar.Strike\n",
    "    ndays = (opt_valuar.Expiry.date()-datetime.today().date()).days\n",
    "    nscen = 100000\n",
    "    dates = pd.date_range(datetime.today().date(),periods=ndays).astype('str')\n",
    "    freq, values = np.histogram(ret_aapl+r-mu, bins=2000)\n",
    "    prob = freq/np.sum(freq)\n",
    "    ret=np.random.choice(values[1:],ndays*nscen,p=prob)\n",
    "    sim_ret_hist = pd.DataFrame(ret.reshape((ndays,nscen)),index=dates)\n",
    "    sim_closes_hist = (closes_aapl.iloc[-1,0])*np.exp(sim_ret_hist.cumsum())\n",
    "    strike = pd.DataFrame(K*np.ones(ndays*nscen).reshape((ndays,nscen)), index=dates)\n",
    "    put_hist = pd.DataFrame({'Prima':np.exp(-r*ndays)*np.fmax(strike-sim_closes_hist,np.zeros(ndays*nscen).reshape((ndays,nscen))).T.mean()}, index=dates)\n",
    "    return put_hist,sim_closes_hist.iloc[-1].sem()"
   ]
  },
  {
   "cell_type": "code",
   "execution_count": 38,
   "metadata": {},
   "outputs": [],
   "source": [
    "days_to_valuation=200"
   ]
  },
  {
   "cell_type": "code",
   "execution_count": 36,
   "metadata": {},
   "outputs": [],
   "source": [
    "ticker = ['FB']"
   ]
  },
  {
   "cell_type": "code",
   "execution_count": 37,
   "metadata": {},
   "outputs": [],
   "source": [
    "aapl = web.YahooOptions(ticker[0])\n",
    "aapl_opt = aapl.get_all_data().reset_index()\n",
    "start_date = '2017-01-01'\n",
    "closes_aapl = get_historical_closes(ticker, start_date,freq='d')\n",
    "ret_aapl = calc_daily_ret(closes_aapl)\n"
   ]
  },
  {
   "cell_type": "code",
   "execution_count": 6,
   "metadata": {},
   "outputs": [
    {
     "data": {
      "image/png": "[encoded data removed]",
      "text/plain": [
       "<matplotlib.figure.Figure at 0xb834f30>"
      ]
     },
     "metadata": {},
     "output_type": "display_data"
    }
   ],
   "source": [
    "closes_aapl.plot(figsize=(8,5));\n",
    "plt.legend(ticker);"
   ]
  },
  {
   "cell_type": "code",
   "execution_count": 7,
   "metadata": {},
   "outputs": [
    {
     "data": {
      "text/plain": [
       "datetime.date(2019, 5, 31)"
      ]
     },
     "execution_count": 7,
     "metadata": {},
     "output_type": "execute_result"
    }
   ],
   "source": [
    "datetime.today().date()+timedelta(days=days_to_valuation)"
   ]
  },
  {
   "cell_type": "code",
   "execution_count": 8,
   "metadata": {},
   "outputs": [
    {
     "data": {
      "text/html": [
       "<div>\n",
       "<style scoped>\n",
       "    .dataframe tbody tr th:only-of-type {\n",
       "        vertical-align: middle;\n",
       "    }\n",
       "\n",
       "    .dataframe tbody tr th {\n",
       "        vertical-align: top;\n",
       "    }\n",
       "\n",
       "    .dataframe thead th {\n",
       "        text-align: right;\n",
       "    }\n",
       "</style>\n",
       "<table border=\"1\" class=\"dataframe\">\n",
       "  <thead>\n",
       "    <tr style=\"text-align: right;\">\n",
       "      <th></th>\n",
       "      <th>Strike</th>\n",
       "      <th>Expiry</th>\n",
       "      <th>Type</th>\n",
       "      <th>...</th>\n",
       "      <th>Quote_Time</th>\n",
       "      <th>Last_Trade_Date</th>\n",
       "      <th>JSON</th>\n",
       "    </tr>\n",
       "  </thead>\n",
       "  <tbody>\n",
       "    <tr>\n",
       "      <th>298</th>\n",
       "      <td>140.0</td>\n",
       "      <td>2018-11-16</td>\n",
       "      <td>put</td>\n",
       "      <td>...</td>\n",
       "      <td>2018-11-12 17:56:26</td>\n",
       "      <td>2018-11-12 17:37:35</td>\n",
       "      <td>{'contractSymbol': 'FB181116P00140000', 'strik...</td>\n",
       "    </tr>\n",
       "    <tr>\n",
       "      <th>301</th>\n",
       "      <td>140.0</td>\n",
       "      <td>2018-12-14</td>\n",
       "      <td>put</td>\n",
       "      <td>...</td>\n",
       "      <td>2018-11-12 17:56:26</td>\n",
       "      <td>2018-11-12 17:34:29</td>\n",
       "      <td>{'contractSymbol': 'FB181214P00140000', 'strik...</td>\n",
       "    </tr>\n",
       "    <tr>\n",
       "      <th>303</th>\n",
       "      <td>140.0</td>\n",
       "      <td>2018-12-21</td>\n",
       "      <td>put</td>\n",
       "      <td>...</td>\n",
       "      <td>2018-11-12 17:56:27</td>\n",
       "      <td>2018-11-12 17:37:41</td>\n",
       "      <td>{'contractSymbol': 'FB181221P00140000', 'strik...</td>\n",
       "    </tr>\n",
       "    <tr>\n",
       "      <th>305</th>\n",
       "      <td>140.0</td>\n",
       "      <td>2018-12-28</td>\n",
       "      <td>put</td>\n",
       "      <td>...</td>\n",
       "      <td>2018-11-12 17:56:27</td>\n",
       "      <td>2018-11-12 17:28:24</td>\n",
       "      <td>{'contractSymbol': 'FB181228P00140000', 'strik...</td>\n",
       "    </tr>\n",
       "    <tr>\n",
       "      <th>307</th>\n",
       "      <td>140.0</td>\n",
       "      <td>2019-01-18</td>\n",
       "      <td>put</td>\n",
       "      <td>...</td>\n",
       "      <td>2018-11-12 17:56:27</td>\n",
       "      <td>2018-11-12 17:33:57</td>\n",
       "      <td>{'contractSymbol': 'FB190118P00140000', 'strik...</td>\n",
       "    </tr>\n",
       "    <tr>\n",
       "      <th>309</th>\n",
       "      <td>140.0</td>\n",
       "      <td>2019-06-21</td>\n",
       "      <td>put</td>\n",
       "      <td>...</td>\n",
       "      <td>2018-11-12 17:56:27</td>\n",
       "      <td>2018-11-12 17:33:23</td>\n",
       "      <td>{'contractSymbol': 'FB190621P00140000', 'strik...</td>\n",
       "    </tr>\n",
       "    <tr>\n",
       "      <th>311</th>\n",
       "      <td>140.0</td>\n",
       "      <td>2019-12-20</td>\n",
       "      <td>put</td>\n",
       "      <td>...</td>\n",
       "      <td>2018-11-12 17:56:27</td>\n",
       "      <td>2018-11-12 16:21:14</td>\n",
       "      <td>{'contractSymbol': 'FB191220P00140000', 'strik...</td>\n",
       "    </tr>\n",
       "    <tr>\n",
       "      <th>313</th>\n",
       "      <td>140.0</td>\n",
       "      <td>2020-01-17</td>\n",
       "      <td>put</td>\n",
       "      <td>...</td>\n",
       "      <td>2018-11-12 17:56:27</td>\n",
       "      <td>2018-11-12 16:04:07</td>\n",
       "      <td>{'contractSymbol': 'FB200117P00140000', 'strik...</td>\n",
       "    </tr>\n",
       "    <tr>\n",
       "      <th>315</th>\n",
       "      <td>140.0</td>\n",
       "      <td>2020-06-19</td>\n",
       "      <td>put</td>\n",
       "      <td>...</td>\n",
       "      <td>2018-11-12 17:56:27</td>\n",
       "      <td>2018-11-12 15:08:53</td>\n",
       "      <td>{'contractSymbol': 'FB200619P00140000', 'strik...</td>\n",
       "    </tr>\n",
       "  </tbody>\n",
       "</table>\n",
       "<p>9 rows × 19 columns</p>\n",
       "</div>"
      ],
      "text/plain": [
       "     Strike     Expiry Type  \\\n",
       "298   140.0 2018-11-16  put   \n",
       "301   140.0 2018-12-14  put   \n",
       "303   140.0 2018-12-21  put   \n",
       "305   140.0 2018-12-28  put   \n",
       "307   140.0 2019-01-18  put   \n",
       "309   140.0 2019-06-21  put   \n",
       "311   140.0 2019-12-20  put   \n",
       "313   140.0 2020-01-17  put   \n",
       "315   140.0 2020-06-19  put   \n",
       "\n",
       "                           ...                                  Quote_Time  \\\n",
       "298                        ...                         2018-11-12 17:56:26   \n",
       "301                        ...                         2018-11-12 17:56:26   \n",
       "303                        ...                         2018-11-12 17:56:27   \n",
       "305                        ...                         2018-11-12 17:56:27   \n",
       "307                        ...                         2018-11-12 17:56:27   \n",
       "309                        ...                         2018-11-12 17:56:27   \n",
       "311                        ...                         2018-11-12 17:56:27   \n",
       "313                        ...                         2018-11-12 17:56:27   \n",
       "315                        ...                         2018-11-12 17:56:27   \n",
       "\n",
       "        Last_Trade_Date                                               JSON  \n",
       "298 2018-11-12 17:37:35  {'contractSymbol': 'FB181116P00140000', 'strik...  \n",
       "301 2018-11-12 17:34:29  {'contractSymbol': 'FB181214P00140000', 'strik...  \n",
       "303 2018-11-12 17:37:41  {'contractSymbol': 'FB181221P00140000', 'strik...  \n",
       "305 2018-11-12 17:28:24  {'contractSymbol': 'FB181228P00140000', 'strik...  \n",
       "307 2018-11-12 17:33:57  {'contractSymbol': 'FB190118P00140000', 'strik...  \n",
       "309 2018-11-12 17:33:23  {'contractSymbol': 'FB190621P00140000', 'strik...  \n",
       "311 2018-11-12 16:21:14  {'contractSymbol': 'FB191220P00140000', 'strik...  \n",
       "313 2018-11-12 16:04:07  {'contractSymbol': 'FB200117P00140000', 'strik...  \n",
       "315 2018-11-12 15:08:53  {'contractSymbol': 'FB200619P00140000', 'strik...  \n",
       "\n",
       "[9 rows x 19 columns]"
      ]
     },
     "execution_count": 8,
     "metadata": {},
     "output_type": "execute_result"
    }
   ],
   "source": [
    " #aapl_opt.loc[(aapl_opt.Type=='put') & (aapl_opt.Strike==np.round(closes_aapl.iloc[-1,0])+10) & (aapl_opt.Expiry==datetime.today().date()+timedelta(days=days_to_valuation))]\n",
    "aapl_opt.loc[(aapl_opt.Type=='put') & (aapl_opt.Strike==140) ]"
   ]
  },
  {
   "cell_type": "code",
   "execution_count": 9,
   "metadata": {},
   "outputs": [
    {
     "data": {
      "text/plain": [
       "{'ask': 11.95,\n",
       " 'bid': 11.85,\n",
       " 'change': 1.6700001,\n",
       " 'contractSize': 'REGULAR',\n",
       " 'contractSymbol': 'FB190621P00140000',\n",
       " 'currency': 'USD',\n",
       " 'expiration': 1561075200,\n",
       " 'impliedVolatility': 0.2894052993774413,\n",
       " 'inTheMoney': False,\n",
       " 'lastPrice': 12.1,\n",
       " 'lastTradeDate': 1542044003,\n",
       " 'openInterest': 8850,\n",
       " 'percentChange': 16.011505,\n",
       " 'strike': 140.0,\n",
       " 'volume': 116}"
      ]
     },
     "execution_count": 9,
     "metadata": {},
     "output_type": "execute_result"
    }
   ],
   "source": [
    "opt_valuar = aapl_opt.loc[309]\n",
    "opt_valuar['JSON']"
   ]
  },
  {
   "cell_type": "markdown",
   "metadata": {},
   "source": [
    "# FB"
   ]
  },
  {
   "cell_type": "markdown",
   "metadata": {},
   "source": [
    "### Valuacion metodo de rendimientos normales"
   ]
  },
  {
   "cell_type": "code",
   "execution_count": 22,
   "metadata": {},
   "outputs": [],
   "source": [
    "put,sigma_est=put_valuation(ret_aapl,opt_valuar)\n",
    "#put.plot();\n",
    "#put.iloc[-1]"
   ]
  },
  {
   "cell_type": "code",
   "execution_count": 15,
   "metadata": {},
   "outputs": [
    {
     "name": "stdout",
     "output_type": "stream",
     "text": [
      "(10.82840913317203, 11.494668690023296)\n",
      "(10.82840913317203, 11.494668690023296)\n"
     ]
    }
   ],
   "source": [
    "interval(.99,put,sigma_est)"
   ]
  },
  {
   "cell_type": "markdown",
   "metadata": {},
   "source": [
    "### Valuacion con metodo histograma"
   ]
  },
  {
   "cell_type": "code",
   "execution_count": 26,
   "metadata": {},
   "outputs": [],
   "source": [
    "put_hist,sigma_est=put_valuation_hist(ret_aapl,opt_valuar)\n",
    "#put_hist.plot();\n",
    "#put_hist.iloc[-1]"
   ]
  },
  {
   "cell_type": "code",
   "execution_count": 20,
   "metadata": {},
   "outputs": [
    {
     "name": "stdout",
     "output_type": "stream",
     "text": [
      "(10.085939488929217, 10.584952743945859)\n",
      "(10.085939488929217, 10.584952743945859)\n"
     ]
    }
   ],
   "source": [
    "interval(.99,put_hist,sigma_est)"
   ]
  },
  {
   "cell_type": "markdown",
   "metadata": {},
   "source": [
    "# TWTR"
   ]
  },
  {
   "cell_type": "code",
   "execution_count": 30,
   "metadata": {},
   "outputs": [
    {
     "data": {
      "image/png": "[encoded data removed]",
      "text/plain": [
       "<matplotlib.figure.Figure at 0x10b98bd0>"
      ]
     },
     "metadata": {},
     "output_type": "display_data"
    }
   ],
   "source": [
    "ticker = ['TWTR']\n",
    "aapl = web.YahooOptions(ticker[0])\n",
    "aapl_opt = aapl.get_all_data().reset_index()\n",
    "start_date = '2017-01-01'\n",
    "closes_aapl = get_historical_closes(ticker, start_date,freq='d')\n",
    "ret_aapl = calc_daily_ret(closes_aapl)\n",
    "closes_aapl.plot(figsize=(8,5));\n",
    "plt.legend(ticker);"
   ]
  },
  {
   "cell_type": "code",
   "execution_count": 31,
   "metadata": {},
   "outputs": [
    {
     "data": {
      "text/html": [
       "<div>\n",
       "<style scoped>\n",
       "    .dataframe tbody tr th:only-of-type {\n",
       "        vertical-align: middle;\n",
       "    }\n",
       "\n",
       "    .dataframe tbody tr th {\n",
       "        vertical-align: top;\n",
       "    }\n",
       "\n",
       "    .dataframe thead th {\n",
       "        text-align: right;\n",
       "    }\n",
       "</style>\n",
       "<table border=\"1\" class=\"dataframe\">\n",
       "  <thead>\n",
       "    <tr style=\"text-align: right;\">\n",
       "      <th></th>\n",
       "      <th>Strike</th>\n",
       "      <th>Expiry</th>\n",
       "      <th>Type</th>\n",
       "      <th>...</th>\n",
       "      <th>Quote_Time</th>\n",
       "      <th>Last_Trade_Date</th>\n",
       "      <th>JSON</th>\n",
       "    </tr>\n",
       "  </thead>\n",
       "  <tbody>\n",
       "    <tr>\n",
       "      <th>188</th>\n",
       "      <td>30.0</td>\n",
       "      <td>2018-12-07</td>\n",
       "      <td>put</td>\n",
       "      <td>...</td>\n",
       "      <td>2018-11-12 18:05:25</td>\n",
       "      <td>2018-11-12 15:13:21</td>\n",
       "      <td>{'contractSymbol': 'TWTR181207P00030000', 'str...</td>\n",
       "    </tr>\n",
       "    <tr>\n",
       "      <th>190</th>\n",
       "      <td>30.0</td>\n",
       "      <td>2018-12-14</td>\n",
       "      <td>put</td>\n",
       "      <td>...</td>\n",
       "      <td>2018-11-12 18:05:25</td>\n",
       "      <td>2018-11-12 16:19:43</td>\n",
       "      <td>{'contractSymbol': 'TWTR181214P00030000', 'str...</td>\n",
       "    </tr>\n",
       "    <tr>\n",
       "      <th>192</th>\n",
       "      <td>30.0</td>\n",
       "      <td>2018-12-21</td>\n",
       "      <td>put</td>\n",
       "      <td>...</td>\n",
       "      <td>2018-11-12 18:05:25</td>\n",
       "      <td>2018-11-12 17:30:40</td>\n",
       "      <td>{'contractSymbol': 'TWTR181221P00030000', 'str...</td>\n",
       "    </tr>\n",
       "    <tr>\n",
       "      <th>194</th>\n",
       "      <td>30.0</td>\n",
       "      <td>2019-01-18</td>\n",
       "      <td>put</td>\n",
       "      <td>...</td>\n",
       "      <td>2018-11-12 18:05:25</td>\n",
       "      <td>2018-11-12 17:32:05</td>\n",
       "      <td>{'contractSymbol': 'TWTR190118P00030000', 'str...</td>\n",
       "    </tr>\n",
       "    <tr>\n",
       "      <th>196</th>\n",
       "      <td>30.0</td>\n",
       "      <td>2019-03-15</td>\n",
       "      <td>put</td>\n",
       "      <td>...</td>\n",
       "      <td>2018-11-12 18:05:25</td>\n",
       "      <td>2018-11-12 16:09:16</td>\n",
       "      <td>{'contractSymbol': 'TWTR190315P00030000', 'str...</td>\n",
       "    </tr>\n",
       "    <tr>\n",
       "      <th>197</th>\n",
       "      <td>30.0</td>\n",
       "      <td>2019-06-21</td>\n",
       "      <td>put</td>\n",
       "      <td>...</td>\n",
       "      <td>2018-11-12 18:05:25</td>\n",
       "      <td>2018-11-07 20:09:07</td>\n",
       "      <td>{'contractSymbol': 'TWTR190621P00030000', 'str...</td>\n",
       "    </tr>\n",
       "    <tr>\n",
       "      <th>199</th>\n",
       "      <td>30.0</td>\n",
       "      <td>2020-01-17</td>\n",
       "      <td>put</td>\n",
       "      <td>...</td>\n",
       "      <td>2018-11-12 18:05:25</td>\n",
       "      <td>2018-11-12 16:31:16</td>\n",
       "      <td>{'contractSymbol': 'TWTR200117P00030000', 'str...</td>\n",
       "    </tr>\n",
       "    <tr>\n",
       "      <th>201</th>\n",
       "      <td>30.0</td>\n",
       "      <td>2021-01-15</td>\n",
       "      <td>put</td>\n",
       "      <td>...</td>\n",
       "      <td>2018-11-12 18:05:25</td>\n",
       "      <td>2018-11-09 14:30:12</td>\n",
       "      <td>{'contractSymbol': 'TWTR210115P00030000', 'str...</td>\n",
       "    </tr>\n",
       "  </tbody>\n",
       "</table>\n",
       "<p>8 rows × 19 columns</p>\n",
       "</div>"
      ],
      "text/plain": [
       "     Strike     Expiry Type  \\\n",
       "188    30.0 2018-12-07  put   \n",
       "190    30.0 2018-12-14  put   \n",
       "192    30.0 2018-12-21  put   \n",
       "194    30.0 2019-01-18  put   \n",
       "196    30.0 2019-03-15  put   \n",
       "197    30.0 2019-06-21  put   \n",
       "199    30.0 2020-01-17  put   \n",
       "201    30.0 2021-01-15  put   \n",
       "\n",
       "                           ...                                  Quote_Time  \\\n",
       "188                        ...                         2018-11-12 18:05:25   \n",
       "190                        ...                         2018-11-12 18:05:25   \n",
       "192                        ...                         2018-11-12 18:05:25   \n",
       "194                        ...                         2018-11-12 18:05:25   \n",
       "196                        ...                         2018-11-12 18:05:25   \n",
       "197                        ...                         2018-11-12 18:05:25   \n",
       "199                        ...                         2018-11-12 18:05:25   \n",
       "201                        ...                         2018-11-12 18:05:25   \n",
       "\n",
       "        Last_Trade_Date                                               JSON  \n",
       "188 2018-11-12 15:13:21  {'contractSymbol': 'TWTR181207P00030000', 'str...  \n",
       "190 2018-11-12 16:19:43  {'contractSymbol': 'TWTR181214P00030000', 'str...  \n",
       "192 2018-11-12 17:30:40  {'contractSymbol': 'TWTR181221P00030000', 'str...  \n",
       "194 2018-11-12 17:32:05  {'contractSymbol': 'TWTR190118P00030000', 'str...  \n",
       "196 2018-11-12 16:09:16  {'contractSymbol': 'TWTR190315P00030000', 'str...  \n",
       "197 2018-11-07 20:09:07  {'contractSymbol': 'TWTR190621P00030000', 'str...  \n",
       "199 2018-11-12 16:31:16  {'contractSymbol': 'TWTR200117P00030000', 'str...  \n",
       "201 2018-11-09 14:30:12  {'contractSymbol': 'TWTR210115P00030000', 'str...  \n",
       "\n",
       "[8 rows x 19 columns]"
      ]
     },
     "execution_count": 31,
     "metadata": {},
     "output_type": "execute_result"
    }
   ],
   "source": [
    " #aapl_opt.loc[(aapl_opt.Type=='put') & (aapl_opt.Strike==np.round(closes_aapl.iloc[-1,0])+10) & (aapl_opt.Expiry==datetime.today().date()+timedelta(days=days_to_valuation))]\n",
    "aapl_opt.loc[(aapl_opt.Type=='put') & (aapl_opt.Strike==30) ]"
   ]
  },
  {
   "cell_type": "code",
   "execution_count": 32,
   "metadata": {},
   "outputs": [
    {
     "data": {
      "text/plain": [
       "{'ask': 3.95,\n",
       " 'bid': 3.85,\n",
       " 'change': 0.0,\n",
       " 'contractSize': 'REGULAR',\n",
       " 'contractSymbol': 'TWTR190621P00030000',\n",
       " 'currency': 'USD',\n",
       " 'expiration': 1561075200,\n",
       " 'impliedVolatility': 0.5053760400390624,\n",
       " 'inTheMoney': False,\n",
       " 'lastPrice': 3.0,\n",
       " 'lastTradeDate': 1541621347,\n",
       " 'openInterest': 641,\n",
       " 'percentChange': 0.0,\n",
       " 'strike': 30.0,\n",
       " 'volume': 180}"
      ]
     },
     "execution_count": 32,
     "metadata": {},
     "output_type": "execute_result"
    }
   ],
   "source": [
    "opt_valuar = aapl_opt.loc[197]\n",
    "opt_valuar['JSON']"
   ]
  },
  {
   "cell_type": "code",
   "execution_count": 34,
   "metadata": {},
   "outputs": [
    {
     "name": "stdout",
     "output_type": "stream",
     "text": [
      "(3.2451027859767065, 3.535371959894762)\n",
      "(3.2451027859767065, 3.535371959894762)\n"
     ]
    }
   ],
   "source": [
    "put,sigma_est=put_valuation(ret_aapl,opt_valuar)\n",
    "interval(.99,put,sigma_est)"
   ]
  },
  {
   "cell_type": "code",
   "execution_count": 35,
   "metadata": {},
   "outputs": [
    {
     "name": "stdout",
     "output_type": "stream",
     "text": [
      "(3.0235456155777727, 3.3175471689846794)\n",
      "(3.0235456155777727, 3.3175471689846794)\n"
     ]
    }
   ],
   "source": [
    "put_hist,sigma_est=put_valuation_hist(ret_aapl,opt_valuar)\n",
    "interval(.99,put_hist,sigma_est)"
   ]
  },
  {
   "cell_type": "markdown",
   "metadata": {},
   "source": [
    "# Valuacion con opciones a 100 dias"
   ]
  },
  {
   "cell_type": "code",
   "execution_count": 39,
   "metadata": {},
   "outputs": [
    {
     "data": {
      "text/plain": [
       "datetime.date(2019, 2, 20)"
      ]
     },
     "execution_count": 39,
     "metadata": {},
     "output_type": "execute_result"
    }
   ],
   "source": [
    "days_to_valuation=100\n",
    "ticker = ['TWTR']\n",
    "aapl = web.YahooOptions(ticker[0])\n",
    "aapl_opt = aapl.get_all_data().reset_index()\n",
    "start_date = '2017-01-01'\n",
    "closes_aapl = get_historical_closes(ticker, start_date,freq='d')\n",
    "ret_aapl = calc_daily_ret(closes_aapl)\n",
    "closes_aapl.plot(figsize=(8,5));\n",
    "plt.legend(ticker);\n",
    "datetime.today().date()+timedelta(days=days_to_valuation)"
   ]
  },
  {
   "cell_type": "code",
   "execution_count": 40,
   "metadata": {},
   "outputs": [
    {
     "data": {
      "text/html": [
       "<div>\n",
       "<style scoped>\n",
       "    .dataframe tbody tr th:only-of-type {\n",
       "        vertical-align: middle;\n",
       "    }\n",
       "\n",
       "    .dataframe tbody tr th {\n",
       "        vertical-align: top;\n",
       "    }\n",
       "\n",
       "    .dataframe thead th {\n",
       "        text-align: right;\n",
       "    }\n",
       "</style>\n",
       "<table border=\"1\" class=\"dataframe\">\n",
       "  <thead>\n",
       "    <tr style=\"text-align: right;\">\n",
       "      <th></th>\n",
       "      <th>Strike</th>\n",
       "      <th>Expiry</th>\n",
       "      <th>Type</th>\n",
       "      <th>...</th>\n",
       "      <th>Quote_Time</th>\n",
       "      <th>Last_Trade_Date</th>\n",
       "      <th>JSON</th>\n",
       "    </tr>\n",
       "  </thead>\n",
       "  <tbody>\n",
       "    <tr>\n",
       "      <th>298</th>\n",
       "      <td>140.0</td>\n",
       "      <td>2018-11-16</td>\n",
       "      <td>put</td>\n",
       "      <td>...</td>\n",
       "      <td>2018-11-12 18:11:24</td>\n",
       "      <td>2018-11-12 17:50:42</td>\n",
       "      <td>{'contractSymbol': 'FB181116P00140000', 'strik...</td>\n",
       "    </tr>\n",
       "    <tr>\n",
       "      <th>301</th>\n",
       "      <td>140.0</td>\n",
       "      <td>2018-12-14</td>\n",
       "      <td>put</td>\n",
       "      <td>...</td>\n",
       "      <td>2018-11-12 18:11:24</td>\n",
       "      <td>2018-11-12 17:34:29</td>\n",
       "      <td>{'contractSymbol': 'FB181214P00140000', 'strik...</td>\n",
       "    </tr>\n",
       "    <tr>\n",
       "      <th>303</th>\n",
       "      <td>140.0</td>\n",
       "      <td>2018-12-21</td>\n",
       "      <td>put</td>\n",
       "      <td>...</td>\n",
       "      <td>2018-11-12 18:11:24</td>\n",
       "      <td>2018-11-12 17:56:24</td>\n",
       "      <td>{'contractSymbol': 'FB181221P00140000', 'strik...</td>\n",
       "    </tr>\n",
       "    <tr>\n",
       "      <th>305</th>\n",
       "      <td>140.0</td>\n",
       "      <td>2018-12-28</td>\n",
       "      <td>put</td>\n",
       "      <td>...</td>\n",
       "      <td>2018-11-12 18:11:24</td>\n",
       "      <td>2018-11-12 17:28:24</td>\n",
       "      <td>{'contractSymbol': 'FB181228P00140000', 'strik...</td>\n",
       "    </tr>\n",
       "    <tr>\n",
       "      <th>307</th>\n",
       "      <td>140.0</td>\n",
       "      <td>2019-01-18</td>\n",
       "      <td>put</td>\n",
       "      <td>...</td>\n",
       "      <td>2018-11-12 18:11:24</td>\n",
       "      <td>2018-11-12 17:38:25</td>\n",
       "      <td>{'contractSymbol': 'FB190118P00140000', 'strik...</td>\n",
       "    </tr>\n",
       "    <tr>\n",
       "      <th>309</th>\n",
       "      <td>140.0</td>\n",
       "      <td>2019-06-21</td>\n",
       "      <td>put</td>\n",
       "      <td>...</td>\n",
       "      <td>2018-11-12 18:11:24</td>\n",
       "      <td>2018-11-12 17:33:23</td>\n",
       "      <td>{'contractSymbol': 'FB190621P00140000', 'strik...</td>\n",
       "    </tr>\n",
       "    <tr>\n",
       "      <th>311</th>\n",
       "      <td>140.0</td>\n",
       "      <td>2019-12-20</td>\n",
       "      <td>put</td>\n",
       "      <td>...</td>\n",
       "      <td>2018-11-12 18:11:24</td>\n",
       "      <td>2018-11-12 17:50:15</td>\n",
       "      <td>{'contractSymbol': 'FB191220P00140000', 'strik...</td>\n",
       "    </tr>\n",
       "    <tr>\n",
       "      <th>313</th>\n",
       "      <td>140.0</td>\n",
       "      <td>2020-01-17</td>\n",
       "      <td>put</td>\n",
       "      <td>...</td>\n",
       "      <td>2018-11-12 18:11:30</td>\n",
       "      <td>2018-11-12 16:04:07</td>\n",
       "      <td>{'contractSymbol': 'FB200117P00140000', 'strik...</td>\n",
       "    </tr>\n",
       "    <tr>\n",
       "      <th>315</th>\n",
       "      <td>140.0</td>\n",
       "      <td>2020-06-19</td>\n",
       "      <td>put</td>\n",
       "      <td>...</td>\n",
       "      <td>2018-11-12 18:11:30</td>\n",
       "      <td>2018-11-12 15:08:53</td>\n",
       "      <td>{'contractSymbol': 'FB200619P00140000', 'strik...</td>\n",
       "    </tr>\n",
       "  </tbody>\n",
       "</table>\n",
       "<p>9 rows × 19 columns</p>\n",
       "</div>"
      ],
      "text/plain": [
       "     Strike     Expiry Type  \\\n",
       "298   140.0 2018-11-16  put   \n",
       "301   140.0 2018-12-14  put   \n",
       "303   140.0 2018-12-21  put   \n",
       "305   140.0 2018-12-28  put   \n",
       "307   140.0 2019-01-18  put   \n",
       "309   140.0 2019-06-21  put   \n",
       "311   140.0 2019-12-20  put   \n",
       "313   140.0 2020-01-17  put   \n",
       "315   140.0 2020-06-19  put   \n",
       "\n",
       "                           ...                                  Quote_Time  \\\n",
       "298                        ...                         2018-11-12 18:11:24   \n",
       "301                        ...                         2018-11-12 18:11:24   \n",
       "303                        ...                         2018-11-12 18:11:24   \n",
       "305                        ...                         2018-11-12 18:11:24   \n",
       "307                        ...                         2018-11-12 18:11:24   \n",
       "309                        ...                         2018-11-12 18:11:24   \n",
       "311                        ...                         2018-11-12 18:11:24   \n",
       "313                        ...                         2018-11-12 18:11:30   \n",
       "315                        ...                         2018-11-12 18:11:30   \n",
       "\n",
       "        Last_Trade_Date                                               JSON  \n",
       "298 2018-11-12 17:50:42  {'contractSymbol': 'FB181116P00140000', 'strik...  \n",
       "301 2018-11-12 17:34:29  {'contractSymbol': 'FB181214P00140000', 'strik...  \n",
       "303 2018-11-12 17:56:24  {'contractSymbol': 'FB181221P00140000', 'strik...  \n",
       "305 2018-11-12 17:28:24  {'contractSymbol': 'FB181228P00140000', 'strik...  \n",
       "307 2018-11-12 17:38:25  {'contractSymbol': 'FB190118P00140000', 'strik...  \n",
       "309 2018-11-12 17:33:23  {'contractSymbol': 'FB190621P00140000', 'strik...  \n",
       "311 2018-11-12 17:50:15  {'contractSymbol': 'FB191220P00140000', 'strik...  \n",
       "313 2018-11-12 16:04:07  {'contractSymbol': 'FB200117P00140000', 'strik...  \n",
       "315 2018-11-12 15:08:53  {'contractSymbol': 'FB200619P00140000', 'strik...  \n",
       "\n",
       "[9 rows x 19 columns]"
      ]
     },
     "execution_count": 40,
     "metadata": {},
     "output_type": "execute_result"
    }
   ],
   "source": [
    "aapl_opt.loc[(aapl_opt.Type=='put') & (aapl_opt.Strike==140) ]"
   ]
  },
  {
   "cell_type": "code",
   "execution_count": 41,
   "metadata": {},
   "outputs": [
    {
     "data": {
      "text/plain": [
       "{'ask': 5.35,\n",
       " 'bid': 5.2,\n",
       " 'change': 1.6099999,\n",
       " 'contractSize': 'REGULAR',\n",
       " 'contractSymbol': 'FB181228P00140000',\n",
       " 'currency': 'USD',\n",
       " 'expiration': 1545955200,\n",
       " 'impliedVolatility': 0.294379614868164,\n",
       " 'inTheMoney': False,\n",
       " 'lastPrice': 5.35,\n",
       " 'lastTradeDate': 1542043704,\n",
       " 'openInterest': 63,\n",
       " 'percentChange': 43.048126,\n",
       " 'strike': 140.0,\n",
       " 'volume': 39}"
      ]
     },
     "execution_count": 41,
     "metadata": {},
     "output_type": "execute_result"
    }
   ],
   "source": [
    "opt_valuar = aapl_opt.loc[305]\n",
    "opt_valuar['JSON']"
   ]
  },
  {
   "cell_type": "code",
   "execution_count": 42,
   "metadata": {},
   "outputs": [
    {
     "name": "stdout",
     "output_type": "stream",
     "text": [
      "(5.554137929730538, 5.840719041163275)\n",
      "(5.554137929730538, 5.840719041163275)\n"
     ]
    }
   ],
   "source": [
    "put,sigma_est=put_valuation(ret_aapl,opt_valuar)\n",
    "interval(.99,put,sigma_est)"
   ]
  },
  {
   "cell_type": "code",
   "execution_count": 43,
   "metadata": {},
   "outputs": [
    {
     "name": "stdout",
     "output_type": "stream",
     "text": [
      "(5.128359079695935, 5.407008826787315)\n",
      "(5.128359079695935, 5.407008826787315)\n"
     ]
    }
   ],
   "source": [
    "put_hist,sigma_est=put_valuation_hist(ret_aapl,opt_valuar)\n",
    "interval(.99,put_hist,sigma_est)"
   ]
  },
  {
   "cell_type": "code",
   "execution_count": 51,
   "metadata": {},
   "outputs": [
    {
     "data": {
      "text/html": [
       "<div>\n",
       "<style scoped>\n",
       "    .dataframe tbody tr th:only-of-type {\n",
       "        vertical-align: middle;\n",
       "    }\n",
       "\n",
       "    .dataframe tbody tr th {\n",
       "        vertical-align: top;\n",
       "    }\n",
       "\n",
       "    .dataframe thead th {\n",
       "        text-align: right;\n",
       "    }\n",
       "</style>\n",
       "<table border=\"1\" class=\"dataframe\">\n",
       "  <thead>\n",
       "    <tr style=\"text-align: right;\">\n",
       "      <th></th>\n",
       "      <th>Strike</th>\n",
       "      <th>Expiry</th>\n",
       "      <th>Type</th>\n",
       "      <th>...</th>\n",
       "      <th>Quote_Time</th>\n",
       "      <th>Last_Trade_Date</th>\n",
       "      <th>JSON</th>\n",
       "    </tr>\n",
       "  </thead>\n",
       "  <tbody>\n",
       "    <tr>\n",
       "      <th>188</th>\n",
       "      <td>30.0</td>\n",
       "      <td>2018-12-07</td>\n",
       "      <td>put</td>\n",
       "      <td>...</td>\n",
       "      <td>2018-11-12 18:25:12</td>\n",
       "      <td>2018-11-12 15:13:21</td>\n",
       "      <td>{'contractSymbol': 'TWTR181207P00030000', 'str...</td>\n",
       "    </tr>\n",
       "    <tr>\n",
       "      <th>190</th>\n",
       "      <td>30.0</td>\n",
       "      <td>2018-12-14</td>\n",
       "      <td>put</td>\n",
       "      <td>...</td>\n",
       "      <td>2018-11-12 18:25:12</td>\n",
       "      <td>2018-11-12 18:04:29</td>\n",
       "      <td>{'contractSymbol': 'TWTR181214P00030000', 'str...</td>\n",
       "    </tr>\n",
       "    <tr>\n",
       "      <th>192</th>\n",
       "      <td>30.0</td>\n",
       "      <td>2018-12-21</td>\n",
       "      <td>put</td>\n",
       "      <td>...</td>\n",
       "      <td>2018-11-12 18:25:12</td>\n",
       "      <td>2018-11-12 18:03:54</td>\n",
       "      <td>{'contractSymbol': 'TWTR181221P00030000', 'str...</td>\n",
       "    </tr>\n",
       "    <tr>\n",
       "      <th>194</th>\n",
       "      <td>30.0</td>\n",
       "      <td>2019-01-18</td>\n",
       "      <td>put</td>\n",
       "      <td>...</td>\n",
       "      <td>2018-11-12 18:25:12</td>\n",
       "      <td>2018-11-12 17:58:07</td>\n",
       "      <td>{'contractSymbol': 'TWTR190118P00030000', 'str...</td>\n",
       "    </tr>\n",
       "    <tr>\n",
       "      <th>196</th>\n",
       "      <td>30.0</td>\n",
       "      <td>2019-03-15</td>\n",
       "      <td>put</td>\n",
       "      <td>...</td>\n",
       "      <td>2018-11-12 18:25:12</td>\n",
       "      <td>2018-11-12 16:09:16</td>\n",
       "      <td>{'contractSymbol': 'TWTR190315P00030000', 'str...</td>\n",
       "    </tr>\n",
       "    <tr>\n",
       "      <th>197</th>\n",
       "      <td>30.0</td>\n",
       "      <td>2019-06-21</td>\n",
       "      <td>put</td>\n",
       "      <td>...</td>\n",
       "      <td>2018-11-12 18:25:12</td>\n",
       "      <td>2018-11-07 20:09:07</td>\n",
       "      <td>{'contractSymbol': 'TWTR190621P00030000', 'str...</td>\n",
       "    </tr>\n",
       "    <tr>\n",
       "      <th>199</th>\n",
       "      <td>30.0</td>\n",
       "      <td>2020-01-17</td>\n",
       "      <td>put</td>\n",
       "      <td>...</td>\n",
       "      <td>2018-11-12 18:25:12</td>\n",
       "      <td>2018-11-12 16:31:16</td>\n",
       "      <td>{'contractSymbol': 'TWTR200117P00030000', 'str...</td>\n",
       "    </tr>\n",
       "    <tr>\n",
       "      <th>201</th>\n",
       "      <td>30.0</td>\n",
       "      <td>2021-01-15</td>\n",
       "      <td>put</td>\n",
       "      <td>...</td>\n",
       "      <td>2018-11-12 18:25:12</td>\n",
       "      <td>2018-11-09 14:30:12</td>\n",
       "      <td>{'contractSymbol': 'TWTR210115P00030000', 'str...</td>\n",
       "    </tr>\n",
       "  </tbody>\n",
       "</table>\n",
       "<p>8 rows × 19 columns</p>\n",
       "</div>"
      ],
      "text/plain": [
       "     Strike     Expiry Type  \\\n",
       "188    30.0 2018-12-07  put   \n",
       "190    30.0 2018-12-14  put   \n",
       "192    30.0 2018-12-21  put   \n",
       "194    30.0 2019-01-18  put   \n",
       "196    30.0 2019-03-15  put   \n",
       "197    30.0 2019-06-21  put   \n",
       "199    30.0 2020-01-17  put   \n",
       "201    30.0 2021-01-15  put   \n",
       "\n",
       "                           ...                                  Quote_Time  \\\n",
       "188                        ...                         2018-11-12 18:25:12   \n",
       "190                        ...                         2018-11-12 18:25:12   \n",
       "192                        ...                         2018-11-12 18:25:12   \n",
       "194                        ...                         2018-11-12 18:25:12   \n",
       "196                        ...                         2018-11-12 18:25:12   \n",
       "197                        ...                         2018-11-12 18:25:12   \n",
       "199                        ...                         2018-11-12 18:25:12   \n",
       "201                        ...                         2018-11-12 18:25:12   \n",
       "\n",
       "        Last_Trade_Date                                               JSON  \n",
       "188 2018-11-12 15:13:21  {'contractSymbol': 'TWTR181207P00030000', 'str...  \n",
       "190 2018-11-12 18:04:29  {'contractSymbol': 'TWTR181214P00030000', 'str...  \n",
       "192 2018-11-12 18:03:54  {'contractSymbol': 'TWTR181221P00030000', 'str...  \n",
       "194 2018-11-12 17:58:07  {'contractSymbol': 'TWTR190118P00030000', 'str...  \n",
       "196 2018-11-12 16:09:16  {'contractSymbol': 'TWTR190315P00030000', 'str...  \n",
       "197 2018-11-07 20:09:07  {'contractSymbol': 'TWTR190621P00030000', 'str...  \n",
       "199 2018-11-12 16:31:16  {'contractSymbol': 'TWTR200117P00030000', 'str...  \n",
       "201 2018-11-09 14:30:12  {'contractSymbol': 'TWTR210115P00030000', 'str...  \n",
       "\n",
       "[8 rows x 19 columns]"
      ]
     },
     "execution_count": 51,
     "metadata": {},
     "output_type": "execute_result"
    }
   ],
   "source": [
    "days_to_valuation=100\n",
    "ticker = ['TWTR']\n",
    "aapl = web.YahooOptions(ticker[0])\n",
    "aapl_opt = aapl.get_all_data().reset_index()\n",
    "start_date = '2017-01-01'\n",
    "closes_aapl = get_historical_closes(ticker, start_date,freq='d')\n",
    "ret_aapl = calc_daily_ret(closes_aapl)\n",
    "aapl_opt.loc[(aapl_opt.Type=='put') & (aapl_opt.Strike==30) ]"
   ]
  },
  {
   "cell_type": "code",
   "execution_count": 52,
   "metadata": {},
   "outputs": [
    {
     "data": {
      "text/plain": [
       "{'ask': 1.81,\n",
       " 'bid': 1.78,\n",
       " 'change': 0.61,\n",
       " 'contractSize': 'REGULAR',\n",
       " 'contractSymbol': 'TWTR190118P00030000',\n",
       " 'currency': 'USD',\n",
       " 'expiration': 1547769600,\n",
       " 'impliedVolatility': 0.5092822509765625,\n",
       " 'inTheMoney': False,\n",
       " 'lastPrice': 1.75,\n",
       " 'lastTradeDate': 1542045487,\n",
       " 'openInterest': 14619,\n",
       " 'percentChange': 53.508778,\n",
       " 'strike': 30.0,\n",
       " 'volume': 189}"
      ]
     },
     "execution_count": 52,
     "metadata": {},
     "output_type": "execute_result"
    }
   ],
   "source": [
    "opt_valuar = aapl_opt.loc[194]\n",
    "opt_valuar['JSON']"
   ]
  },
  {
   "cell_type": "code",
   "execution_count": 53,
   "metadata": {},
   "outputs": [
    {
     "name": "stdout",
     "output_type": "stream",
     "text": [
      "(1.7326480632339334, 1.874098623989656)\n",
      "(1.7326480632339334, 1.874098623989656)\n"
     ]
    }
   ],
   "source": [
    "put,sigma_est=put_valuation(ret_aapl,opt_valuar)\n",
    "interval(.99,put,sigma_est)"
   ]
  },
  {
   "cell_type": "code",
   "execution_count": 54,
   "metadata": {},
   "outputs": [
    {
     "name": "stdout",
     "output_type": "stream",
     "text": [
      "(1.65469819906268, 1.7956597529312788)\n",
      "(1.65469819906268, 1.7956597529312788)\n"
     ]
    }
   ],
   "source": [
    "put_hist,sigma_est=put_valuation_hist(ret_aapl,opt_valuar)\n",
    "interval(.99,put_hist,sigma_est)"
   ]
  },
  {
   "cell_type": "markdown",
   "metadata": {},
   "source": [
    "La precision con opciones a menos de 100 dias mejoro debido  que los metodos, ya sea el de los rendimientos o el histograma generan precios del subyacente aleatorios, mientras mas dias tenga que generar hacia el futuro mucho mas dispersos estaran por lo que al realizar media y desviacion estandar estos estaran mas desviados."
   ]
  },
  {
   "cell_type": "code",
   "execution_count": null,
   "metadata": {},
   "outputs": [],
   "source": []
  }
 ],
 "metadata": {
  "kernelspec": {
   "display_name": "Python 3",
   "language": "python",
   "name": "python3"
  },
  "language_info": {
   "codemirror_mode": {
    "name": "ipython",
    "version": 3
   },
   "file_extension": ".py",
   "mimetype": "text/x-python",
   "name": "python",
   "nbconvert_exporter": "python",
   "pygments_lexer": "ipython3",
   "version": "3.6.4"
  }
 },
 "nbformat": 4,
 "nbformat_minor": 2
}
