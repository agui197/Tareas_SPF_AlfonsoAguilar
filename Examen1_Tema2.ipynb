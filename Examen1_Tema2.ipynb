{
 "cells": [
  {
   "cell_type": "markdown",
   "metadata": {},
   "source": [
    "___\n",
    "<img style=\"float: right; margin: 0px 0px 15px 15px;\" src=\"https://www.carrerasenlinea.mx/logos/original/logo-instituto-tecnologico-y-de-estudios-superiores-de-occidente.png\" width=\"150px\" height=\"100px\" />\n",
    "\n",
    "\n",
    "# SEGUNDO EXAMEN PARCIAL\n",
    "# SIMULACIÓN DE PROCESOS FINANCIEROS\n",
    "\n",
    "## Nombre: Alfonso Aguilar Aguirre\n",
    "\n",
    "## Fecha: 19 de Octubre del 2018\n",
    "\n",
    "## Por: Oscar David Jaramillo Z."
   ]
  },
  {
   "cell_type": "code",
   "execution_count": 44,
   "metadata": {},
   "outputs": [],
   "source": [
    "import numpy as np\n",
    "from scipy import integrate\n",
    "import pandas as pd\n",
    "import scipy.stats as st\n",
    "import matplotlib.pyplot as plt\n",
    "from scipy import optimize\n"
   ]
  },
  {
   "cell_type": "markdown",
   "metadata": {},
   "source": [
    "# 1.\n",
    "La financiera ”El cerdito feliz” atiende la apertura de cuentas de ahorro en su sucursal matriz, en esta sucursal se tienen 4 ejecutivos para atención al inversionista, teniendo una media de tiempo para la atención de un cliente de 30 minutos, aunque con frecuencia se requiere que uno de los ejecutivos participe en juntas de evaluación de crédito, lo que provoca que el equipo de atención disminuya a 3 ejecutivos y en estas circunstancias el promedio de atención por cliente aumenta a 45 minutos. El tiempo entre la llegada de cada cliente en promedio es de 25 minutos, si la apertura de la sucursal es a las 9:00 a.m. y cierra su atención al público a las 14:00 horas, realiza una simulación de mímino 1000 escenarios y responda\n",
    "\n",
    "   a).Justifique que tipo de distribuciones de probabilidad va a utilizar para realizar montecarlo.\n",
    "   \n",
    "   b). ¿Cuántas personas se atenderán hasta las 14:00 horas, si el equipo está formado solo por 3 ejecutivos?, ¿cuántos quedarán en cola?\n",
    "   \n",
    "   c). ¿Cuántas personas se atenderán hasta las 14:00 horas, si el equipo está formado solo por 4 ejecutivos?, ¿Cuántos quedarán en cola?\n"
   ]
  },
  {
   "cell_type": "code",
   "execution_count": 131,
   "metadata": {},
   "outputs": [],
   "source": [
    "def tllegada(t):\n",
    "    N=1000\n",
    "    tll=np.random.poisson(t,N)\n",
    "    return np.count_nonzero(np.cumsum(tll)<300)\n",
    "def tatencion(t):\n",
    "    N=1000\n",
    "    ta=np.random.poisson(t,N)\n",
    "    return np.count_nonzero(np.cumsum(ta)<300)\n",
    "    "
   ]
  },
  {
   "cell_type": "code",
   "execution_count": 133,
   "metadata": {},
   "outputs": [
    {
     "data": {
      "text/plain": [
       "9.481"
      ]
     },
     "execution_count": 133,
     "metadata": {},
     "output_type": "execute_result"
    }
   ],
   "source": [
    "print('La distribucion a utilizar sera la de poisson porque expresa, a partir de una frecuencia de ocurrencia media, la probabilidad de que ocurra un determinado número de eventos durante cierto período de tiempo. ')\n",
    "np.mean(list(map(lambda n :tllegada(25),range(1000))))\n",
    "print('Con un equipo de 3 ejecutivos se atenderan: ',np.mean(list(map(lambda n :tatencion(45),range(1000)))))\n",
    "print('Con un equipo de 3 ejecutivos quedaran en la cola: ',np.mean(list(map(lambda n :tllegada(25),range(1000))))-np.mean(list(map(lambda n :tatencion(45),range(1000)))))\n",
    "\n",
    "\n",
    "\n",
    "print('Con un equipo de 3 ejecutivos se atenderan: ',np.mean(list(map(lambda n :tatencion(30),range(1000)))))\n",
    "print('Con un equipo de 3 ejecutivos quedaran en la cola: ',np.mean(list(map(lambda n :tllegada(25),range(1000))))-np.mean(list(map(lambda n :tatencion(30),range(1000)))))\n"
   ]
  },
  {
   "cell_type": "markdown",
   "metadata": {},
   "source": [
    "# 2 \n",
    "a). Demuestre que la distribución de poisson satisface la siguiente forma recursiva de su probabilidad\n",
    "$$ p(k+1)={\\lambda \\over k+1}p(k)$$\n",
    "\n",
    "Realizar todo el desarrollo matemático en mardown usando ecuaciones latex.\n",
    "\n",
    "b). De el resultado demostrado en el inciso a) (usando la ecuación recursiva), gráfique la función de distribución de probabilidad y su función acumulada, para $\\lambda = [4,10,30]$, valide sus resultados comparando con el paquete estadístico `scipy.stats`. Posteriormente, genere muestras aletorias que distribuyan poisson con el conjunto de parámetros lambda dados y realice el histograma correspondiente (en gráficas distintas para cada lambda), validando lo obtenido al graficar la función de densidad de probabilidad. **Nota**: Recuerde que la distribución de poisson es una distribución de probabilidad discreta así que el histograma debe ser discreto y no continuo."
   ]
  },
  {
   "cell_type": "markdown",
   "metadata": {},
   "source": [
    "$$P(k,\\lambda)=\\frac{e^{-\\lambda}(\\lambda)^k}{k!}$$\n",
    "$$p_k=\\frac{e^{-\\lambda}(\\lambda)^k}{k!}\\hspace{1cm} (1)$$\n",
    "$$p_{k+1}=\\frac{e^{-\\lambda}(\\lambda)^{k+1}}{(k+1)!} \\hspace{1cm} (2)$$\n",
    "$$p_{k+1} = \\frac{e^{-\\lambda}(\\lambda)^{k}}{k!} \\frac{\\lambda}{k+1} $$\n",
    "$$ p_{k+1} = \\frac{\\lambda}{k+1} p_{k} $$"
   ]
  },
  {
   "cell_type": "code",
   "execution_count": 59,
   "metadata": {},
   "outputs": [
    {
     "data": {
      "image/png": "[encoded data removed]",
      "text/plain": [
       "<matplotlib.figure.Figure at 0xeb7d8f0>"
      ]
     },
     "metadata": {},
     "output_type": "display_data"
    }
   ],
   "source": [
    "def P_acum_Poisson(p,N):\n",
    "    n = N\n",
    "    pr = [np.exp(-p)]\n",
    "    add = pr.append\n",
    "    for i in range(n+1):\n",
    "        add(((p)/(i+1))*pr[-1])\n",
    "    return np.cumsum(pr)\n",
    "p = 10\n",
    "N = 10**4\n",
    "p_acum = P_acum_Poisson(p,N)\n",
    "u = np.random.rand(N)\n",
    "plt.figure(figsize=[13,4])\n",
    "plt.subplot(121)\n",
    "d_poisson = list(map(lambda j:sum(1 for i in p_acum if i<=u[j]),range(N)))\n",
    "plt.hist(d_poisson,20,density=True,label='Usando función creada')\n",
    "plt.legend()\n",
    "\n",
    "plt.subplot(122)\n",
    "d_poi_numpy = np.random.poisson(p,N)\n",
    "plt.hist(d_poi_numpy,20,density=True,label='Usando Numpy')\n",
    "plt.legend()\n",
    "np.histogram\n",
    "plt.show()"
   ]
  },
  {
   "cell_type": "markdown",
   "metadata": {},
   "source": [
    "# 3\n",
    "Demostrar **Teoricamente** usando el método de máxima verosimilitud, que los estimadores para los parámetros $\\mu$ y $\\sigma$ de una distribución normal, estan dados por:\n",
    "\n",
    "$$\\hat \\mu = {1\\over n}\\sum_{i=1}^n x_i,\\quad \\hat  \\sigma^2={1\\over n}\\sum_{i=1}^n (x_i-\\hat \\mu)^2$$\n",
    "\n",
    "**Recuerde que:** La distribución normal es\n",
    "$$f(x\\mid \\mu ,\\sigma ^{2})={\\frac {1}{\\sqrt {2\\pi \\sigma ^{2}}}}e^{-{\\frac {(x-\\mu )^{2}}{2\\sigma ^{2}}}}$$\n",
    "$$f(\\mu,\\sigma)=f_x(x_1|\\mu,\\sigma)*f_x(x_2|\\mu,\\sigma)*.......f_x(x_n|\\mu,\\sigma)$$\n",
    "\n",
    "Resolvemos la multiplicatoria\n",
    ">>$$f_x(\\mu,\\sigma)=\\frac{1}{\\sqrt{2\\pi\\sigma^2}}^{n}e^{\\frac{1}{2\\sigma^2}\\sum_{i=1}^n(x_i-\\mu)^{2}}$$\n",
    ">>$$\\ln{L(\\mu,\\sigma)}=n\\ln{\\frac{1}{\\sqrt{2\\pi\\sigma^2}}}-\\frac{1}{2\\sigma^2}\\sum_{i=1}^n(x_i-\\mu)^2$$\n",
    ">>$$\\ln{L(\\mu,\\sigma)}=n\\ln{1}-\\frac{n}{2}\\ln{2\\pi\\sigma^2}-\\frac{1}{2\\sigma^2}\\sum_{i=1}^n(x_i-\\mu)^2$$\n",
    ">>$$\\ln{L(\\mu,\\sigma)}=n\\ln{1}-\\frac{n}{2}\\ln{2\\pi}-\\frac{n}{2}\\ln{\\sigma^2}-\\frac{1}{2\\sigma^2}\\sum_{i=1}^n(x_i-\\mu)^2$$\n",
    ">>$$\\ln{L(\\mu,\\sigma)}=n\\ln{1}-\\frac{n}{2}\\ln{2\\pi}-n\\ln{\\sigma}-\\frac{1}{2\\sigma^2}\\sum_{i=1}^n(x_i-\\mu)^2$$\n",
    "\n",
    "Derivamos respecto a mu\n",
    ">>$$\\frac{\\partial \\ln{L}}{\\partial \\mu}=-\\frac{2}{2\\sigma^2}\\sum_{i=1}^n(x_i-\\mu)(-1)$$\n",
    ">>$$\\frac{\\partial \\ln{L}}{\\partial \\mu}=\\frac{1}{\\sigma^2}\\sum_{i=1}^n(x_i-\\mu)$$\n",
    ">>$$0=\\frac{1}{\\sigma^2}[\\sum_{i=1}^n(x_i)-\\sum_{i=1}^n(\\mu)]$$\n",
    ">>$$0=\\sum_{i=1}^n(x_i)-n(\\mu)$$\n",
    ">>$$n(\\mu)=\\sum_{i=1}^n(x_i)$$\n",
    "Obtenemos:\n",
    ">>$$\\mu=\\frac{1}{n}\\sum_{i=1}^n(x_i)$$\n",
    "\n",
    "Derivamos respecto a sigma\n",
    ">>$$\\frac{\\partial \\ln{L}}{\\partial \\sigma}=-\\frac{n}{\\sigma}+\\frac{1}{\\sigma^3}\\sum_{i=1}^n(x_i-\\mu)^2$$\n",
    ">>$$0=-\\frac{n}{\\sigma}+\\frac{1}{\\sigma^3}\\sum_{i=1}^n(x_i-\\mu)^2$$\n",
    ">>$$\\frac{n}{\\sigma}=\\frac{1}{\\sigma^3}\\sum_{i=1}^n(x_i-\\mu)^2$$\n",
    ">>$$\\frac{n\\sigma^3}{\\sigma}=\\sum_{i=1}^n(x_i-\\mu)^2$$\n",
    ">>$$n\\sigma^2=\\sum_{i=1}^n(x_i-\\mu)^2$$\n",
    "Obtenemos:\n",
    ">>$$\\sigma^2=\\frac{1}{n}\\sum_{i=1}^n(x_i-\\mu)^2$$\n",
    "\n",
    "\n",
    "Lo cual quieda demostrado\n",
    "\n"
   ]
  },
  {
   "cell_type": "markdown",
   "metadata": {},
   "source": [
    "# <font color = red> Nota: </font>\n",
    "\n",
    "Recuerde que maximizar la función de máxima verosimilitud $L(\\theta)$ es equivalente a maximizar su logaritmo $l(\\theta)= ln(L(\\theta))$\n",
    "\n",
    "> Referencia: Resultados obtenidos del libro:  Paolo Brandimarte -Handbook in Monte Carlo Simulation"
   ]
  },
  {
   "cell_type": "markdown",
   "metadata": {},
   "source": [
    "# 4\n",
    "Un banco, de acuerdo a la ley, tienen la posibilidad de poder invertir las utilidades logradas por créditos de trabajo quirografarios en dos diferentes instrumentos de inversión: El primero es inversión en deuda que presenta una utilidad promedio del 23.5% con una desviación estándar de 1.1%. El segundo es inversión a plazo donde la rentabilidad esperada se comporta como una distribución uniforme y está entre el -2% y el 9%, pero nunca entre -0.5% y 0.5%. Calcular cuál es la mejor combinación posible, si la inversión será en múltiplos de 25%, es decir (inv1 25%, Inv2 75%)-(Inv1 50%,Inv2 50%)-(Inv1 75%, Inv2 25%), simular 1000 veces (escenarios) e indicar rendimientos promedio por combinación."
   ]
  },
  {
   "cell_type": "code",
   "execution_count": 113,
   "metadata": {},
   "outputs": [
    {
     "data": {
      "text/plain": [
       "[7.172355375454407, 12.611949086195342, 18.051542796936275]"
      ]
     },
     "execution_count": 113,
     "metadata": {},
     "output_type": "execute_result"
    }
   ],
   "source": [
    "pond=[.25,.5,.75]\n",
    "N=1000\n",
    "r1=np.random.normal(23.5,1.1,N)/100\n",
    "r2=np.concatenate((np.random.uniform(-2,-.51,int(N/2)),np.random.uniform(.51,9,int(N/2))), axis=None)/100\n",
    "z=list(map(lambda x,y: np.mean(100*x*r1+100*y*r2),pond,pond[::-1]))\n",
    "print('Rendimiento promedio para la combinacion: 25% inv1 y 75% inv2',z[0])\n",
    "print('Rendimiento promedio para la combinacion: 50% inv1 y 50% inv2',z[1])\n",
    "print('Rendimiento promedio para la combinacion: 75% inv1 y 25% inv2',z[2])\n",
    "print('La mejor combinacion posible seria la de 75% inv1 y 25% inv2')\n"
   ]
  },
  {
   "cell_type": "markdown",
   "metadata": {},
   "source": [
    "# 5\n",
    "Considere la siguiente función de distribución de probabilidad\n",
    "$$ f(x)=\\begin{cases}400e^{-400(x-1)},& \\text{para }x\\geq 1\\\\0,& \\text{otro caso}\\end{cases}$$\n",
    "\n",
    "a). Para realizar una comparación, realice el desarrollo analítico del valor esperado.\n",
    "\n",
    "b). Realice el desarrollo teórico para obtener muestras aletorias de esta dstribución usando el método de la función inversa. Con los resultados obtenidos, genere 100 muestras y  grafique el histograma de dichas muestras aleatorias obtenidas y a su vez la función de densidad f(x), para validar los resultados obtenidos.\n",
    "\n",
    "c). Repita el inciso anterior pero en esta ocasión utilice el método de aceptación y rechazo para generar las muestras aleatorias.\n",
    "\n",
    "**Se desea estimar la media de esta distribución, usando el método montecarlo crudo y sus técnicas de reducción de varianza con muestras de tamaño 10,100 y 1000. Estas cantidades de muestras para cada uno de los siguientes literales:** \n",
    "\n",
    "d). Use el método de montecarlo crudo para estimar la media.\n",
    "\n",
    "e). Use el método de muestreo estratificado con 5 estratos $0\\leq F(x)\\leq0.3, 0.3\\leq F(x)\\leq0.5, 0.5\\leq F(x)\\leq0.7, 0.7\\leq F(x)\\leq0.9 $ y $0.9\\leq F(x) \\leq 1$. Reparta el total de muestras en los estratos de la siguiente forma: estrato 1, 2, 3, 4, 5, 20%,20%,25%,15% y 20% de las muestras respectivamente.\n",
    "\n",
    "f). Use el método de los números complementarios.\n",
    "\n",
    "g). Finalmente use el método de estratificación en el cúal se divide en N estratos.\n",
    "\n",
    "h). Compare todos los resulados obtenidos con cada método en una tabla unsando la librería pandas, donde muestre segun la cantidad de términos usados, la aproximación de la media aproximada y su error relativo con el valor obtenido en el inciso a)."
   ]
  },
  {
   "cell_type": "code",
   "execution_count": 39,
   "metadata": {},
   "outputs": [],
   "source": [
    "def fun(x):\n",
    "    if x>=1:\n",
    "        return (400*np.exp(-400*(x-1)))\n",
    "    else:\n",
    "        return 0\n",
    "    \n",
    "def fun_estratificado(B):\n",
    "    U2 = np.random.rand(B)\n",
    "    i = np.arange(0,B)\n",
    "    v = (U2+i)/B\n",
    "    return np.mean(list(map(lambda x:f_inv(x),v)))\n",
    "def pesos(data,N,rang):\n",
    "    return len(data)/N/rang\n"
   ]
  },
  {
   "cell_type": "code",
   "execution_count": 61,
   "metadata": {},
   "outputs": [
    {
     "data": {
      "image/png": "[encoded data removed]",
      "text/plain": [
       "<matplotlib.figure.Figure at 0xf175430>"
      ]
     },
     "metadata": {},
     "output_type": "display_data"
    },
    {
     "data": {
      "image/png": "[encoded data removed]",
      "text/plain": [
       "<matplotlib.figure.Figure at 0xed60650>"
      ]
     },
     "metadata": {},
     "output_type": "display_data"
    }
   ],
   "source": [
    "N = [10,100,1000]\n",
    "m_real=1.0025\n",
    "x=np.arange(1,1.2,.001)\n",
    "f=lambda x:400*np.exp(-400*(x-1))\n",
    "f_inv=lambda x:1-np.log(x)/400\n",
    "plt.figure(1,figsize=[20,6])\n",
    "plt.subplot(121)\n",
    "plt.plot(x,f(x),label='f(x)')\n",
    "plt.hist(f_inv(np.random.rand(1000)),50,normed=True,label='Inversa')\n",
    "plt.legend()\n",
    "plt.title('Histograma funcion inversa')\n",
    "plt.show()\n",
    "\n",
    "\n",
    "u1 = np.random.uniform(1, 1.02,1000)\n",
    "u2 = np.random.uniform(0, 400,1000)\n",
    "z=list(map(lambda x,y: x if y<=f(x) else 0,u1,u2))\n",
    "temp=np.array(z)\n",
    "acep_media=temp[np.nonzero(z)]\n",
    "plt.figure(2,figsize=[20,6])\n",
    "plt.subplot(122)\n",
    "plt.plot(x,f(x),label='f(x)')\n",
    "plt.hist(acep_media,50,normed=True,label='Inversa')\n",
    "plt.legend()\n",
    "plt.title('Histograma funcion aceptacion y rechazo')\n",
    "plt.show()\n",
    "\n",
    "def mc(N):\n",
    "    u1 = np.random.rand(N)\n",
    "    f_u1 = list(map(lambda x: f_inv(x),u1))\n",
    "    return(np.mean(f_u1))\n",
    "\n",
    "def me(N):\n",
    "\n",
    "    u1 =np.random.uniform(0,.3,int(.2*N))\n",
    "    u2 =np.random.uniform(.3,.5,int(.2*N))\n",
    "    u3 =np.random.uniform(0.5,.7,int(.25*N))\n",
    "    u4 =np.random.uniform(0.7,9,int(.15*N))\n",
    "    u5 =np.random.uniform(0.9,1,int(.2*N))\n",
    "\n",
    "    u  = [u1,u2,u3,u4,u5]\n",
    "    m  = range(len(u))\n",
    "    r = [.3,.2,.2,.2,.1]\n",
    "    w  = list(map(lambda d,r:pesos(d,N,r),u,r))\n",
    "    xi = list(map(lambda y:list(map(lambda x:f_inv(x),y)),u))\n",
    "    muestras = list(map(lambda y:list(map(lambda wi,xi:xi/wi,w,y)),xi))\n",
    "    return(np.concatenate(muestras).mean())\n",
    "\n",
    "def mcom(N):\n",
    "    u1 = np.random.rand(N)\n",
    "    f_u1 = list(map(lambda x: f_inv(x),u1))\n",
    "    media_montecarlo=np.mean(f_u1)\n",
    "    u2 = 1-u1\n",
    "    f_u2 = list(map(lambda x:f_inv(x),u2))\n",
    "    return((np.mean(f_u2)+media_montecarlo)/2)\n",
    "\n",
    "a=list(map(lambda n:mc(n),N))\n",
    "b=list(map(lambda n:me(n),N))\n",
    "c=list(map(lambda n:mcom(n),N))\n",
    "d=list(map(lambda n:fun_estratificado(n),N))\n"
   ]
  },
  {
   "cell_type": "code",
   "execution_count": 69,
   "metadata": {},
   "outputs": [
    {
     "data": {
      "text/html": [
       "<div>\n",
       "<style scoped>\n",
       "    .dataframe tbody tr th:only-of-type {\n",
       "        vertical-align: middle;\n",
       "    }\n",
       "\n",
       "    .dataframe tbody tr th {\n",
       "        vertical-align: top;\n",
       "    }\n",
       "\n",
       "    .dataframe thead th {\n",
       "        text-align: right;\n",
       "    }\n",
       "</style>\n",
       "<table border=\"1\" class=\"dataframe\">\n",
       "  <thead>\n",
       "    <tr style=\"text-align: right;\">\n",
       "      <th></th>\n",
       "      <th>10</th>\n",
       "      <th>100</th>\n",
       "      <th>1000</th>\n",
       "      <th>error1</th>\n",
       "      <th>error2</th>\n",
       "      <th>eeror3</th>\n",
       "    </tr>\n",
       "  </thead>\n",
       "  <tbody>\n",
       "    <tr>\n",
       "      <th>Montecarlo crudo</th>\n",
       "      <td>1.00295</td>\n",
       "      <td>1.00271</td>\n",
       "      <td>1.00243</td>\n",
       "      <td>0.000453883</td>\n",
       "      <td>0.000211277</td>\n",
       "      <td>-7.40389e-05</td>\n",
       "    </tr>\n",
       "    <tr>\n",
       "      <th>Muestro estratificado 5 estratos</th>\n",
       "      <td>1.27974</td>\n",
       "      <td>1.02781</td>\n",
       "      <td>1.02798</td>\n",
       "      <td>0.277244</td>\n",
       "      <td>0.0253136</td>\n",
       "      <td>0.0254755</td>\n",
       "    </tr>\n",
       "    <tr>\n",
       "      <th>Numeros complementarios</th>\n",
       "      <td>1.00225</td>\n",
       "      <td>1.00254</td>\n",
       "      <td>1.00248</td>\n",
       "      <td>-0.000248963</td>\n",
       "      <td>3.84949e-05</td>\n",
       "      <td>-1.55083e-05</td>\n",
       "    </tr>\n",
       "    <tr>\n",
       "      <th>N estratos</th>\n",
       "      <td>1.00232</td>\n",
       "      <td>1.00254</td>\n",
       "      <td>1.0025</td>\n",
       "      <td>-0.000180354</td>\n",
       "      <td>4.13605e-05</td>\n",
       "      <td>9.99071e-07</td>\n",
       "    </tr>\n",
       "  </tbody>\n",
       "</table>\n",
       "</div>"
      ],
      "text/plain": [
       "                                       10      100     1000       error1  \\\n",
       "Montecarlo crudo                  1.00295  1.00271  1.00243  0.000453883   \n",
       "Muestro estratificado 5 estratos  1.27974  1.02781  1.02798     0.277244   \n",
       "Numeros complementarios           1.00225  1.00254  1.00248 -0.000248963   \n",
       "N estratos                        1.00232  1.00254   1.0025 -0.000180354   \n",
       "\n",
       "                                       error2       eeror3  \n",
       "Montecarlo crudo                  0.000211277 -7.40389e-05  \n",
       "Muestro estratificado 5 estratos    0.0253136    0.0254755  \n",
       "Numeros complementarios           3.84949e-05 -1.55083e-05  \n",
       "N estratos                        4.13605e-05  9.99071e-07  "
      ]
     },
     "execution_count": 69,
     "metadata": {},
     "output_type": "execute_result"
    }
   ],
   "source": [
    "df=pd.DataFrame(index=['Montecarlo crudo','Muestro estratificado 5 estratos','Numeros complementarios','N estratos'],columns=['10','100','1000','error1','error2','eeror3'])\n",
    "df.iloc[0,0:3]=a\n",
    "df.iloc[1,0:3]=b\n",
    "df.iloc[2,0:3]=c\n",
    "df.iloc[3,0:3]=d\n",
    "df.iloc[:,3]=np.array(df.iloc[:,0])-1.0025\n",
    "df.iloc[:,4]=np.array(df.iloc[:,1])-1.0025\n",
    "df.iloc[:,5]=np.array(df.iloc[:,2])-1.0025\n",
    "df"
   ]
  },
  {
   "attachments": {
    "imagen.png": {
     "image/png": "[encoded data removed]"
    }
   },
   "cell_type": "markdown",
   "metadata": {},
   "source": [
    "# 6\n",
    "![imagen.png](attachment:imagen.png)\n",
    "\n",
    "## <font color = 'red'> Nota: </font> Use el método de integración montecarlo visto en clase.\n",
    "    \n",
    "a). Use el método de montecarlo para aproximar el valor de pi para muestras de tamaño 100,1000,10000,1000000 y comparelo con su valor real. \n",
    "\n",
    "b). Repita el inciso anterior usando todos los método de reducción de varianza utilizados en el ejercicio *6*, para constrastar los resultados . Explique sus resultados."
   ]
  },
  {
   "cell_type": "code",
   "execution_count": 71,
   "metadata": {},
   "outputs": [
    {
     "name": "stdout",
     "output_type": "stream",
     "text": [
      "El valor de pi con 100 muestras:  2.92\n",
      "El valor de pi con 1000 muestras:  3.124\n",
      "El valor de pi con 10000 muestras:  3.1576\n",
      "El valor de pi con 100000 muestras:  3.13756\n",
      "el valor real de pi:  3.141592653589793\n"
     ]
    }
   ],
   "source": [
    "z=list(map(lambda n:4*np.count_nonzero(np.random.rand(n)**2+np.random.rand(n)**2<1)/n,[100,1000,10000,100000]))\n",
    "print('El valor de pi con 100 muestras: ',z[0])\n",
    "print('El valor de pi con 1000 muestras: ',z[1])\n",
    "print('El valor de pi con 10000 muestras: ',z[2])\n",
    "print('El valor de pi con 100000 muestras: ',z[3])\n",
    "print('el valor real de pi: ',np.pi)"
   ]
  },
  {
   "cell_type": "markdown",
   "metadata": {},
   "source": [
    "**Valor de los ejercicios**\n",
    "- 1- 2 puntos\n",
    "- 2- 2 puntos\n",
    "- 3- 1 punto\n",
    "- 4- 1 punto\n",
    "- 5- 3 puntos\n",
    "- 6- 1 punto"
   ]
  },
  {
   "cell_type": "markdown",
   "metadata": {},
   "source": [
    "<script>\n",
    "  $(document).ready(function(){\n",
    "    $('div.prompt').hide();\n",
    "    $('div.back-to-top').hide();\n",
    "    $('nav#menubar').hide();\n",
    "    $('.breadcrumb').hide();\n",
    "    $('.hidden-print').hide();\n",
    "  });\n",
    "</script>\n",
    "\n",
    "<footer id=\"attribution\" style=\"float:right; color:#808080; background:#fff;\">\n",
    "Created with Jupyter by Oscar David Jaramillo Zuluaga.\n",
    "</footer>"
   ]
  }
 ],
 "metadata": {
  "kernelspec": {
   "display_name": "Python 3",
   "language": "python",
   "name": "python3"
  },
  "language_info": {
   "codemirror_mode": {
    "name": "ipython",
    "version": 3
   },
   "file_extension": ".py",
   "mimetype": "text/x-python",
   "name": "python",
   "nbconvert_exporter": "python",
   "pygments_lexer": "ipython3",
   "version": "3.6.4"
  }
 },
 "nbformat": 4,
 "nbformat_minor": 2
}
