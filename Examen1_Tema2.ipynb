{
 "cells": [
  {
   "cell_type": "markdown",
   "metadata": {},
   "source": [
    "___\n",
    "<img style=\"float: right; margin: 0px 0px 15px 15px;\" src=\"https://www.carrerasenlinea.mx/logos/original/logo-instituto-tecnologico-y-de-estudios-superiores-de-occidente.png\" width=\"150px\" height=\"100px\" />\n",
    "\n",
    "\n",
    "# SEGUNDO EXAMEN PARCIAL\n",
    "# SIMULACIÓN DE PROCESOS FINANCIEROS\n",
    "\n",
    "## Nombre: Alfonso Aguilar Aguirre\n",
    "\n",
    "## Fecha: 19 de Octubre del 2018\n",
    "\n",
    "## Por: Oscar David Jaramillo Z."
   ]
  },
  {
   "cell_type": "code",
   "execution_count": 44,
   "metadata": {},
   "outputs": [],
   "source": [
    "import numpy as np\n",
    "from scipy import integrate\n",
    "import pandas as pd\n",
    "import scipy.stats as st\n",
    "import matplotlib.pyplot as plt\n",
    "from scipy import optimize\n"
   ]
  },
  {
   "cell_type": "markdown",
   "metadata": {},
   "source": [
    "# 1.\n",
    "La financiera ”El cerdito feliz” atiende la apertura de cuentas de ahorro en su sucursal matriz, en esta sucursal se tienen 4 ejecutivos para atención al inversionista, teniendo una media de tiempo para la atención de un cliente de 30 minutos, aunque con frecuencia se requiere que uno de los ejecutivos participe en juntas de evaluación de crédito, lo que provoca que el equipo de atención disminuya a 3 ejecutivos y en estas circunstancias el promedio de atención por cliente aumenta a 45 minutos. El tiempo entre la llegada de cada cliente en promedio es de 25 minutos, si la apertura de la sucursal es a las 9:00 a.m. y cierra su atención al público a las 14:00 horas, realiza una simulación de mímino 1000 escenarios y responda\n",
    "\n",
    "   a).Justifique que tipo de distribuciones de probabilidad va a utilizar para realizar montecarlo.\n",
    "   \n",
    "   b). ¿Cuántas personas se atenderán hasta las 14:00 horas, si el equipo está formado solo por 3 ejecutivos?, ¿cuántos quedarán en cola?\n",
    "   \n",
    "   c). ¿Cuántas personas se atenderán hasta las 14:00 horas, si el equipo está formado solo por 4 ejecutivos?, ¿Cuántos quedarán en cola?\n"
   ]
  },
  {
   "cell_type": "code",
   "execution_count": 131,
   "metadata": {},
   "outputs": [],
   "source": [
    "def tllegada(t):\n",
    "    N=1000\n",
    "    tll=np.random.poisson(t,N)\n",
    "    return np.count_nonzero(np.cumsum(tll)<300)\n",
    "def tatencion(t):\n",
    "    N=1000\n",
    "    ta=np.random.poisson(t,N)\n",
    "    return np.count_nonzero(np.cumsum(ta)<300)\n",
    "    "
   ]
  },
  {
   "cell_type": "code",
   "execution_count": 133,
   "metadata": {},
   "outputs": [
    {
     "data": {
      "text/plain": [
       "9.481"
      ]
     },
     "execution_count": 133,
     "metadata": {},
     "output_type": "execute_result"
    }
   ],
   "source": [
    "np.mean(list(map(lambda n :tllegada(25),range(1000))))\n",
    "np.mean(list(map(lambda n :tatencion(45),range(1000))))\n",
    "\n",
    "np.mean(list(map(lambda n :tllegada(25),range(1000))))\n",
    "np.mean(list(map(lambda n :tatencion(30),range(1000))))\n"
   ]
  },
  {
   "cell_type": "markdown",
   "metadata": {},
   "source": [
    "# 2 \n",
    "a). Demuestre que la distribución de poisson satisface la siguiente forma recursiva de su probabilidad\n",
    "$$ p(k+1)={\\lambda \\over k+1}p(k)$$\n",
    "\n",
    "Realizar todo el desarrollo matemático en mardown usando ecuaciones latex.\n",
    "\n",
    "b). De el resultado demostrado en el inciso a) (usando la ecuación recursiva), gráfique la función de distribución de probabilidad y su función acumulada, para $\\lambda = [4,10,30]$, valide sus resultados comparando con el paquete estadístico `scipy.stats`. Posteriormente, genere muestras aletorias que distribuyan poisson con el conjunto de parámetros lambda dados y realice el histograma correspondiente (en gráficas distintas para cada lambda), validando lo obtenido al graficar la función de densidad de probabilidad. **Nota**: Recuerde que la distribución de poisson es una distribución de probabilidad discreta así que el histograma debe ser discreto y no continuo."
   ]
  },
  {
   "cell_type": "markdown",
   "metadata": {},
   "source": [
    "$$P(k,\\lambda)=\\frac{e^{-\\lambda}(\\lambda)^k}{k!}$$\n",
    "$$p_k=\\frac{e^{-\\lambda}(\\lambda)^k}{k!}\\hspace{1cm} (1)$$\n",
    "$$p_{k+1}=\\frac{e^{-\\lambda}(\\lambda)^{k+1}}{(k+1)!} \\hspace{1cm} (2)$$\n",
    "$$p_{k+1} = \\frac{e^{-\\lambda}(\\lambda)^{k}}{k!} \\frac{\\lambda}{k+1} $$\n",
    "$$ p_{k+1} = \\frac{\\lambda}{k+1} p_{k} $$"
   ]
  },
  {
   "cell_type": "code",
   "execution_count": 117,
   "metadata": {},
   "outputs": [],
   "source": [
    "def P_acum_Poisson(p,N):\n",
    "    n = N\n",
    "    pr = [np.exp(-p)]\n",
    "    add = pr.append\n",
    "    for i in range(n+1):\n",
    "        add(((p)/(i+1))*pr[-1])\n",
    "    return np.cumsum(pr)"
   ]
  },
  {
   "cell_type": "markdown",
   "metadata": {},
   "source": [
    "# 3\n",
    "Demostrar **Teoricamente** usando el método de máxima verosimilitud, que los estimadores para los parámetros $\\mu$ y $\\sigma$ de una distribución normal, estan dados por:\n",
    "\n",
    "$$\\hat \\mu = {1\\over n}\\sum_{i=1}^n x_i,\\quad \\hat  \\sigma^2={1\\over n}\\sum_{i=1}^n (x_i-\\hat \\mu)^2$$\n",
    "\n",
    "**Recuerde que:** La distribución normal es\n",
    "$$f(x\\mid \\mu ,\\sigma ^{2})={\\frac {1}{\\sqrt {2\\pi \\sigma ^{2}}}}e^{-{\\frac {(x-\\mu )^{2}}{2\\sigma ^{2}}}}$$\n",
    "\n",
    "Reporte su respuesta usando markdown-latex"
   ]
  },
  {
   "cell_type": "markdown",
   "metadata": {},
   "source": [
    "# <font color = red> Nota: </font>\n",
    "\n",
    "Recuerde que maximizar la función de máxima verosimilitud $L(\\theta)$ es equivalente a maximizar su logaritmo $l(\\theta)= ln(L(\\theta))$\n",
    "\n",
    "> Referencia: Resultados obtenidos del libro:  Paolo Brandimarte -Handbook in Monte Carlo Simulation"
   ]
  },
  {
   "cell_type": "markdown",
   "metadata": {},
   "source": [
    "# 4\n",
    "Un banco, de acuerdo a la ley, tienen la posibilidad de poder invertir las utilidades logradas por créditos de trabajo quirografarios en dos diferentes instrumentos de inversión: El primero es inversión en deuda que presenta una utilidad promedio del 23.5% con una desviación estándar de 1.1%. El segundo es inversión a plazo donde la rentabilidad esperada se comporta como una distribución uniforme y está entre el -2% y el 9%, pero nunca entre -0.5% y 0.5%. Calcular cuál es la mejor combinación posible, si la inversión será en múltiplos de 25%, es decir (inv1 25%, Inv2 75%)-(Inv1 50%,Inv2 50%)-(Inv1 75%, Inv2 25%), simular 1000 veces (escenarios) e indicar rendimientos promedio por combinación."
   ]
  },
  {
   "cell_type": "code",
   "execution_count": 113,
   "metadata": {},
   "outputs": [
    {
     "data": {
      "text/plain": [
       "[7.172355375454407, 12.611949086195342, 18.051542796936275]"
      ]
     },
     "execution_count": 113,
     "metadata": {},
     "output_type": "execute_result"
    }
   ],
   "source": [
    "pond=[.25,.5,.75]\n",
    "N=1000\n",
    "r1=np.random.normal(23.5,1.1,N)/100\n",
    "r2=np.concatenate((np.random.uniform(-2,-.51,int(N/2)),np.random.uniform(.51,9,int(N/2))), axis=None)/100\n",
    "list(map(lambda x,y: np.mean(100*x*r1+100*y*r2),pond,pond[::-1]))"
   ]
  },
  {
   "cell_type": "markdown",
   "metadata": {},
   "source": [
    "# 5\n",
    "Considere la siguiente función de distribución de probabilidad\n",
    "$$ f(x)=\\begin{cases}400e^{-400(x-1)},& \\text{para }x\\geq 1\\\\0,& \\text{otro caso}\\end{cases}$$\n",
    "\n",
    "a). Para realizar una comparación, realice el desarrollo analítico del valor esperado.\n",
    "\n",
    "b). Realice el desarrollo teórico para obtener muestras aletorias de esta dstribución usando el método de la función inversa. Con los resultados obtenidos, genere 100 muestras y  grafique el histograma de dichas muestras aleatorias obtenidas y a su vez la función de densidad f(x), para validar los resultados obtenidos.\n",
    "\n",
    "c). Repita el inciso anterior pero en esta ocasión utilice el método de aceptación y rechazo para generar las muestras aleatorias.\n",
    "\n",
    "**Se desea estimar la media de esta distribución, usando el método montecarlo crudo y sus técnicas de reducción de varianza con muestras de tamaño 10,100 y 1000. Estas cantidades de muestras para cada uno de los siguientes literales:** \n",
    "\n",
    "d). Use el método de montecarlo crudo para estimar la media.\n",
    "\n",
    "e). Use el método de muestreo estratificado con 5 estratos $0\\leq F(x)\\leq0.3, 0.3\\leq F(x)\\leq0.5, 0.5\\leq F(x)\\leq0.7, 0.7\\leq F(x)\\leq0.9 $ y $0.9\\leq F(x) \\leq 1$. Reparta el total de muestras en los estratos de la siguiente forma: estrato 1, 2, 3, 4, 5, 20%,20%,25%,15% y 20% de las muestras respectivamente.\n",
    "\n",
    "f). Use el método de los números complementarios.\n",
    "\n",
    "g). Finalmente use el método de estratificación en el cúal se divide en N estratos.\n",
    "\n",
    "h). Compare todos los resulados obtenidos con cada método en una tabla unsando la librería pandas, donde muestre segun la cantidad de términos usados, la aproximación de la media aproximada y su error relativo con el valor obtenido en el inciso a)."
   ]
  },
  {
   "cell_type": "code",
   "execution_count": 38,
   "metadata": {},
   "outputs": [],
   "source": [
    "def fun(x):\n",
    "    if x>=1:\n",
    "        return (400*np.exp(-400*(x-1)))\n",
    "    else:\n",
    "        return 0\n",
    "    \n",
    "def fun_estratificado(B):\n",
    "    U2 = np.random.rand(B)\n",
    "    i = np.arange(0,B)\n",
    "    v = (U2+i)/B\n",
    "    return np.mean(list(map(lambda x:fun(x),v)))\n",
    "def pesos(data,N,rang):\n",
    "    return len(data)/N/rang\n"
   ]
  },
  {
   "cell_type": "code",
   "execution_count": 66,
   "metadata": {},
   "outputs": [
    {
     "name": "stderr",
     "output_type": "stream",
     "text": [
      "C:\\ProgramData\\Anaconda3\\lib\\site-packages\\matplotlib\\axes\\_axes.py:6571: UserWarning: The 'normed' kwarg is deprecated, and has been replaced by the 'density' kwarg.\n",
      "  warnings.warn(\"The 'normed' kwarg is deprecated, and has been \"\n"
     ]
    },
    {
     "data": {
      "image/png": "[encoded data removed]",
      "text/plain": [
       "<Figure size 432x288 with 1 Axes>"
      ]
     },
     "metadata": {
      "needs_background": "light"
     },
     "output_type": "display_data"
    }
   ],
   "source": [
    "N = 1000\n",
    "\n",
    "x=np.arange(1,1.2,.001)\n",
    "f=lambda x:400*np.exp(-400*(x-1))\n",
    "f_inv=lambda x:1-np.log(x)/400\n",
    "plt.plot(x,f(x),label='f(x)')\n",
    "plt.hist(f_inv(np.random.rand(N)),50,normed=True,label='Inversa')\n",
    "plt.legend()\n",
    "plt.show()\n",
    "\n",
    "\n",
    "u1 = np.random.uniform(1, 1.02,N)\n",
    "u2 = np.random.uniform(0, 400,N)\n",
    "z=list(map(lambda x,y: x if y<=f(x) else 0,u1,u2))\n",
    "temp=np.array(z)\n",
    "acep_media=np.mean(temp[np.nonzero(z)])\n",
    "\n",
    "\n",
    "u1 = np.random.rand(N)\n",
    "f_u1 = list(map(lambda x: fun(x),u1))\n",
    "media_montecarlo = np.mean(f_u1)\n",
    "\n",
    "\n",
    "u1 =np.random.uniform(0,.3,int(.2*N))\n",
    "u2 =np.random.uniform(.3,.5,int(.2*N))\n",
    "u3 =np.random.uniform(0.5,.7,int(.25*N))\n",
    "u4 =np.random.uniform(0.7,9,int(.15*N))\n",
    "u5 =np.random.uniform(0.9,1,int(.2*N))\n",
    "\n",
    "u  = [u1,u2,u3,u4,u5]\n",
    "m  = range(len(u))\n",
    "r = [.3,.2,.2,.2,.1]\n",
    "w  = list(map(lambda d,r:pesos(d,N,r),u,r))\n",
    "xi = list(map(lambda y:list(map(lambda x:fun(x),y)),u))\n",
    "muestras = list(map(lambda y:list(map(lambda wi,xi:xi/wi,w,y)),xi))\n",
    "montecarlo_estratificado=np.concatenate(muestras).mean()\n",
    "\n",
    "\n",
    "u2 = 1-u1\n",
    "f_u2 = list(map(lambda x:fun(x),u2))\n",
    "media_complementario = (np.mean(f_u2)+media_montecarlo)/2\n",
    "\n",
    "media_estratificado_B=fun_estratificado(N)"
   ]
  },
  {
   "attachments": {
    "imagen.png": {
     "image/png": "[encoded data removed]"
    }
   },
   "cell_type": "markdown",
   "metadata": {},
   "source": [
    "# 6\n",
    "![imagen.png](attachment:imagen.png)\n",
    "\n",
    "## <font color = 'red'> Nota: </font> Use el método de integración montecarlo visto en clase.\n",
    "    \n",
    "a). Use el método de montecarlo para aproximar el valor de pi para muestras de tamaño 100,1000,10000,1000000 y comparelo con su valor real. \n",
    "\n",
    "b). Repita el inciso anterior usando todos los método de reducción de varianza utilizados en el ejercicio *6*, para constrastar los resultados . Explique sus resultados."
   ]
  },
  {
   "cell_type": "code",
   "execution_count": 10,
   "metadata": {},
   "outputs": [
    {
     "data": {
      "text/plain": [
       "[3.16, 3.164, 3.136, 3.14728]"
      ]
     },
     "execution_count": 10,
     "metadata": {},
     "output_type": "execute_result"
    }
   ],
   "source": [
    "list(map(lambda n:4*np.count_nonzero(np.random.rand(n)**2+np.random.rand(n)**2<1)/n,[100,1000,10000,100000]))"
   ]
  },
  {
   "cell_type": "markdown",
   "metadata": {},
   "source": [
    "**Valor de los ejercicios**\n",
    "- 1- 2 puntos\n",
    "- 2- 2 puntos\n",
    "- 3- 1 punto\n",
    "- 4- 1 punto\n",
    "- 5- 3 puntos\n",
    "- 6- 1 punto"
   ]
  },
  {
   "cell_type": "markdown",
   "metadata": {},
   "source": [
    "<script>\n",
    "  $(document).ready(function(){\n",
    "    $('div.prompt').hide();\n",
    "    $('div.back-to-top').hide();\n",
    "    $('nav#menubar').hide();\n",
    "    $('.breadcrumb').hide();\n",
    "    $('.hidden-print').hide();\n",
    "  });\n",
    "</script>\n",
    "\n",
    "<footer id=\"attribution\" style=\"float:right; color:#808080; background:#fff;\">\n",
    "Created with Jupyter by Oscar David Jaramillo Zuluaga.\n",
    "</footer>"
   ]
  }
 ],
 "metadata": {
  "kernelspec": {
   "display_name": "Python 3",
   "language": "python",
   "name": "python3"
  },
  "language_info": {
   "codemirror_mode": {
    "name": "ipython",
    "version": 3
   },
   "file_extension": ".py",
   "mimetype": "text/x-python",
   "name": "python",
   "nbconvert_exporter": "python",
   "pygments_lexer": "ipython3",
   "version": "3.7.0"
  }
 },
 "nbformat": 4,
 "nbformat_minor": 2
}
