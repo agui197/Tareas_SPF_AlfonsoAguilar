{
 "cells": [
  {
   "cell_type": "markdown",
   "metadata": {},
   "source": [
    "___\n",
    "<img style=\"float: right; margin: 0px 0px 15px 15px;\" src=\"https://www.carrerasenlinea.mx/logos/original/logo-instituto-tecnologico-y-de-estudios-superiores-de-occidente.png\" width=\"150px\" height=\"100px\" />\n",
    "\n",
    "\n",
    "# TERCER EXAMEN PARCIAL\n",
    "# SIMULACIÓN DE PROCESOS FINANCIEROS\n",
    "\n",
    "## Nombre:\n",
    "\n",
    "## Fecha: 28 de Noviembre del 2018\n",
    "\n",
    "## Por: Oscar David Jaramillo Z."
   ]
  },
  {
   "cell_type": "markdown",
   "metadata": {},
   "source": [
    "Vamos a suponer que el curso de simulación de procesos financieros es una gran empresa de consultoría financiera que ofrece sus servicios a cualquier tipo de compañía o particular. Supongamos que acuden a nuestra empresa 4 personalidades con los siguientes problemas que desean solucionar:\n",
    "> 1. El primer cliente, es un granjero que cultiva maíz y desea realizar una estrategia de cobertura que le permita prever las fluctuaciones en el precio de sus cultivos para el invierno entrante, en donde el pueda minimizar las pérdidas y maximizar las ganancias. \n",
    "> 2. La segunda empresa, es una empresa que construye productos en aluminio que tiene 1 año de estar ejerciendo en este tipo mercado. El gerente desea crear un plan de acción para expandir la empresa realizando estrategias financieras que le permitan maximizar sus ganancias y de esta forma cumplir con el objetivo planteado.\n",
    "> 3. El cuarto cliente, es una empresa joyera que fabrica sus piezas en oro. Esta empresa ha visto afectado sus ingresos debido a las fluctuaciones que ha presentado los últimos meses el precio del oro. Debido a esto, acude a nosotros para intentar mitigar estas fluctuaciones en el precio del oro, usando una adecuada estrategia financiera.\n",
    "> 4. Nuestro último cliente, es la empresa mexicana PEMEX, que desea ejecutar ciertas estrategias financieras, que les permita cubrirse ante posibles caídas en el precio del barril del petróleo. Su objetivo en maximizar sus ganancias y minimizar las pérdidas de la compañía usando la mejor estrategia financiera (costo-beneficio).\n",
    "\n",
    "Para cada uno de los clientes, se debe de presentar 4 posibles estrategias de cobertura usando opciones Europeas, Americanas, Barrera y Asiáticas, tipo call ó put. Además de ofrecer al cliente este abanico de posibilidades, ustedes como analistas financieros deben de recomendar la mejor estrategia costo-beneficio (basado en sus cálculos), que debería cada empresa tomar, para cumplir con su objetivo.\n",
    "\n",
    "> ###  Criterio de evaluación\n",
    "> - Se te calificará de acuerdo a los resultados finales que reportes, basados en tu análisis.\n",
    "> - La valuación de cada tipo de opción corresponderá al 20% de la calificación final.\n",
    "> - La decisión o recomendación basado en sus análisis que le recomendarán a cada compañía corresponderá a 20%.\n",
    "\n",
    "> ### Entrega\n",
    "> Se debe de entregar un cuaderno de python donde se reporten todos los cálculos empleados en su análisis. La fecha límite de entrega será el miércoles 28 de noviembre a las 6 pm y se expondrá ese mismo día los resultados obtenidos.\n",
    "\n",
    "> ### Suposiciones \n",
    "> - Deben de definirse correctamente el nombre de las acciones a descargar de Yahoo según la empresa asignada.\n",
    "> - El examen es individual y códigos idénticos serán penalizados."
   ]
  },
  {
   "cell_type": "code",
   "execution_count": null,
   "metadata": {},
   "outputs": [],
   "source": [
    "import pandas as pd\n",
    "import pandas_datareader.data as web\n",
    "import numpy as np\n",
    "from sklearn.neighbors import KernelDensity\n",
    "import datetime\n",
    "from datetime import datetime, timedelta\n",
    "import scipy.stats as st\n",
    "import scipy as sp\n",
    "import scipy.optimize as optimize\n",
    "import scipy.cluster.hierarchy as hac\n",
    "import matplotlib.pyplot as plt\n",
    "import seaborn as sns\n",
    "import time,math \n",
    "\n",
    "%matplotlib inline\n",
    "pd.set_option('display.notebook_repr_html', True)\n",
    "pd.set_option('precision', 3)"
   ]
  },
  {
   "cell_type": "code",
   "execution_count": null,
   "metadata": {},
   "outputs": [],
   "source": [
    "def calc_daily_ret(closes:'Close prices'):\n",
    "    return np.log(closes/closes.shift(1)).iloc[1:]"
   ]
  },
  {
   "cell_type": "code",
   "execution_count": null,
   "metadata": {},
   "outputs": [],
   "source": [
    "def Riemann_approach(K:'Strike price',r:'Tasa libre de riesgo',S0:'Precio inicial',\n",
    "                     NbTraj:'Número trayectorias',NbStep:'Cantidad de pasos a simular',\n",
    "                     sigma:'Volatilidad'):\n",
    "    ndays = (expiracy-datetime.today().date()).days\n",
    "    nscen = 100000\n",
    "    dates = pd.date_range(datetime.today().date(),periods=ndays).astype('str')\n",
    "    sim_ret = pd.DataFrame(sigma*np.random.randn(ndays,nscen)+r,index=dates)\n",
    "    sim_closes = S0*np.exp(sim_ret.cumsum())\n",
    "    Average_t = sim_closes.expanding().mean()\n",
    "    # Definimos el dataframe de strikes\n",
    "    strike = pd.DataFrame(K*np.ones([NbStep,NbTraj]), index=dates)\n",
    "    # Calculamos el call de la opción según la formula obtenida para Sumas de Riemann\n",
    "    call = pd.DataFrame({'Prima':np.exp(-r*T) \\\n",
    "                 *np.fmax(Average_t-strike,np.zeros([NbStep,NbTraj])).mean(axis=1)}, index=dates)\n",
    "    # intervalos de confianza\n",
    "    confianza = 0.95\n",
    "    sigma_est = call.sem().Prima\n",
    "    mean_est = call.iloc[-1].Prima\n",
    "    i1 = st.norm.interval(confianza, loc=mean_est, scale=sigma_est)\n",
    "    return call.iloc[-1].Prima,i1[0],i1[1]"
   ]
  },
  {
   "cell_type": "code",
   "execution_count": null,
   "metadata": {},
   "outputs": [],
   "source": [
    "aluminum=pd.read_excel('precios/Aluminum Futures Historical Data.xlsx')"
   ]
  },
  {
   "cell_type": "code",
   "execution_count": null,
   "metadata": {},
   "outputs": [],
   "source": [
    "plt.figure(figsize=(13,8))\n",
    "plt.plot(aluminum['Date'],aluminum['Price'])\n",
    "plt.title('Aluminum Futures Historical')\n",
    "plt.ylabel('Price')\n",
    "plt.xlabel('Date')\n",
    "plt.show()"
   ]
  },
  {
   "cell_type": "code",
   "execution_count": null,
   "metadata": {},
   "outputs": [],
   "source": [
    "ret_aluminum = calc_daily_ret(aluminum['Price'])\n",
    "plt.figure(figsize=(13,8))\n",
    "plt.plot(aluminum.iloc[1:276,0],ret_aluminum)\n",
    "plt.title('Rendimientos')\n",
    "plt.xlabel('Date')\n",
    "plt.ylabel('% Rendimiento')\n",
    "plt.xlabel"
   ]
  },
  {
   "cell_type": "markdown",
   "metadata": {},
   "source": [
    "# CALL EUROPEO"
   ]
  },
  {
   "cell_type": "code",
   "execution_count": null,
   "metadata": {},
   "outputs": [],
   "source": [
    "mu = ret_aluminum.mean()   # valor medio de los rendimientos\n",
    "sigma = ret_aluminum.std() # desviación estándar de los rendimientos\n",
    "r = 0.026/360         #  tasa libre de riesgo \n",
    "mu, sigma, r"
   ]
  },
  {
   "cell_type": "code",
   "execution_count": null,
   "metadata": {},
   "outputs": [],
   "source": [
    "expiracy=datetime.date(datetime.strptime('01/02/2019','%d/%m/%Y'))"
   ]
  },
  {
   "cell_type": "code",
   "execution_count": null,
   "metadata": {},
   "outputs": [],
   "source": [
    "K = 2000\n",
    "S0 = aluminum['Price'].iloc[-1]\n",
    "ndays = (expiracy-datetime.today().date()).days\n",
    "nscen = 100000\n",
    "dates = pd.date_range(datetime.today().date(),periods=ndays).astype('str')\n",
    "sim_ret = pd.DataFrame(sigma*np.random.randn(ndays,nscen)+r,index=dates)\n",
    "sim_closes = S0*np.exp(sim_ret.cumsum())\n",
    "strike = pd.DataFrame(K*np.ones([ndays,nscen]), index=dates)\n",
    "call = pd.DataFrame({'Prima':np.exp(-r*ndays) \\\n",
    "              *np.fmax(sim_closes-strike,np.zeros([ndays,nscen])).T.mean()}, index=dates)\n",
    "call.plot()\n",
    "plt.title('Valuacion')\n",
    "plt.xlabel('Date')\n",
    "plt.ylabel('Precio')\n",
    "plt.show()"
   ]
  },
  {
   "cell_type": "code",
   "execution_count": null,
   "metadata": {},
   "outputs": [],
   "source": [
    "print('Prima de un Call europeo $',call.iloc[-1][0])"
   ]
  },
  {
   "cell_type": "code",
   "execution_count": null,
   "metadata": {},
   "outputs": [],
   "source": [
    "confianza = 0.95\n",
    "sigma_est = sim_closes.iloc[-1].sem()\n",
    "mean_est = call.iloc[-1].Prima\n",
    "# i1 = st.t.interval(confianza,nscen-1, loc=mean_est, scale=sigma_est)\n",
    "i2 = st.norm.interval(confianza, loc=mean_est, scale=sigma_est)\n",
    "print(i2)"
   ]
  },
  {
   "cell_type": "markdown",
   "metadata": {},
   "source": [
    "# CALL ASIATICO"
   ]
  },
  {
   "cell_type": "code",
   "execution_count": null,
   "metadata": {},
   "outputs": [],
   "source": [
    "NbTraj = [nscen]\n",
    "NbStep = [ndays]\n",
    "K = 2000\n",
    "S0 = aluminum['Price'].iloc[-1]\n",
    "T = ndays/252        # Tiempo de cierre - años\n",
    "speed = []\n",
    "\n",
    "M = list(map(lambda N_tra:list(map(lambda N_ste:Riemann_approach(K,r,S0,N_tra,N_ste,sigma),NbStep)),NbTraj))"
   ]
  },
  {
   "cell_type": "code",
   "execution_count": null,
   "metadata": {},
   "outputs": [],
   "source": [
    "M"
   ]
  },
  {
   "cell_type": "markdown",
   "metadata": {},
   "source": [
    "# CALL BARRERA"
   ]
  },
  {
   "cell_type": "code",
   "execution_count": null,
   "metadata": {},
   "outputs": [],
   "source": [
    "B = 2200    # Precio barrera\n",
    "barrier = pd.DataFrame(B*np.ones((ndays, nscen)),index=dates)\n",
    "I = (sim_closes>barrier).cumsum()>0"
   ]
  },
  {
   "cell_type": "code",
   "execution_count": null,
   "metadata": {},
   "outputs": [],
   "source": [
    "callui = pd.DataFrame({'Prima up-and-in':np.exp(-r*ndays)*(I*np.fmax(sim_closes-strike,np.zeros((ndays,nscen)))).T.mean()},index=dates)\n",
    "ax = callui.plot();\n",
    "call.plot(ax=ax);\n",
    "plt.title('Call vs Call up-and-in')\n",
    "plt.xlabel('Date')\n",
    "plt.ylabel('Precio')\n",
    "plt.show()"
   ]
  },
  {
   "cell_type": "code",
   "execution_count": null,
   "metadata": {},
   "outputs": [],
   "source": [
    "print('Prima de un Call up-and-in $',callui.iloc[-1][0])"
   ]
  },
  {
   "cell_type": "code",
   "execution_count": null,
   "metadata": {},
   "outputs": [],
   "source": [
    "confianza = 0.95\n",
    "sigma_est = sim_closes.iloc[-1].sem()\n",
    "mean_est = callui.iloc[-1][0]\n",
    "# i1 = st.t.interval(confianza,nscen-1, loc=mean_est, scale=sigma_est)\n",
    "i2 = st.norm.interval(confianza, loc=mean_est, scale=sigma_est)\n",
    "print(i2)"
   ]
  },
  {
   "cell_type": "markdown",
   "metadata": {},
   "source": [
    "# CALL AMERICANO"
   ]
  },
  {
   "cell_type": "code",
   "execution_count": null,
   "metadata": {},
   "outputs": [],
   "source": [
    "def chequeo(results,num_sim,num_days,r,K,sim_closes,j,l,flag):\n",
    "    if(flag):\n",
    "        print\n",
    "        Y_present=list(map(lambda i: np.exp(-r*1)*(K-sim_closes.iloc[num_days-l,i]) if K-sim_closes.iloc[num_days-l,i]>0 else 0,range(num_sim)))\n",
    "    else:\n",
    "        Y_present=np.exp(-r*1)*results.iloc[j-1,:]\n",
    "    return Y_present"
   ]
  },
  {
   "cell_type": "code",
   "execution_count": null,
   "metadata": {},
   "outputs": [],
   "source": [
    "def is_in_the_money(num_sim,num_days,Y_present,sim_closes,l):\n",
    "    in_the_money=list(map(lambda i:\"Yes\" if Y_present[i]<sim_closes.iloc[num_days-(l+1),i] and Y_present[i]!=0 else \"No\",range(num_sim)))\n",
    "    return in_the_money"
   ]
  },
  {
   "cell_type": "code",
   "execution_count": null,
   "metadata": {},
   "outputs": [],
   "source": [
    "def minimos_cuadrados(num_sim,num_days,in_the_money,sim_closes,Y_present,l):\n",
    "    xdata=list(map(lambda i: sim_closes.iloc[num_days-(l+1),i] if in_the_money[i]=='Yes'else 0,range(num_sim)  ))\n",
    "    xdata=list(filter(lambda x:x!=0,xdata))\n",
    "    ydata=list(map(lambda i: Y_present[i] if in_the_money[i]=='Yes'else 0,range(num_sim)))\n",
    "    ydata=list(filter(lambda x:x!=0,ydata))\n",
    "    A=pd.DataFrame(np.zeros([len(xdata),3]))\n",
    "    A[0] = np.ones(len(xdata))\n",
    "    A[1] = pd.DataFrame(xdata)\n",
    "    A[2] = pd.DataFrame(list(xdata))**2\n",
    "    coef = np.dot(np.linalg.pinv(A),ydata)\n",
    "    return coef"
   ]
  },
  {
   "cell_type": "code",
   "execution_count": null,
   "metadata": {},
   "outputs": [],
   "source": [
    "def valor_esperado(num_sim,num_days,Y_present,sim_closes,coef,l):\n",
    "    Y_exp=list(map(lambda i:coef[0]+coef[1]*sim_closes.iloc[num_days-(l+1),i]+coef[2]*sim_closes.iloc[num_days-(l+1),i]**2 if Y_present[i]!=0 else 0 ,range(num_sim)))\n",
    "    return Y_exp"
   ]
  },
  {
   "cell_type": "code",
   "execution_count": null,
   "metadata": {},
   "outputs": [],
   "source": [
    "def valor_presente(num_sim,num_days,K,Y_present,Y_exp,sim_closes,results,j,l):\n",
    "    for i in np.arange(num_sim):\n",
    "        if(Y_present[i]==0):\n",
    "            results.iloc[j,i]=Y_present[i]\n",
    "        elif(K-sim_closes.iloc[num_days-(l+1),i]>=Y_exp[i]):\n",
    "            results.iloc[j,i]=K-sim_closes.iloc[num_days-(l+1),i]\n",
    "        else:\n",
    "            results.iloc[j,i]=Y_present[i]\n",
    "    return results"
   ]
  },
  {
   "cell_type": "code",
   "execution_count": null,
   "metadata": {},
   "outputs": [],
   "source": [
    "def func(num_sim,num_days,r,K,sim_closes,results,j,l,flag):\n",
    "    Y_present=chequeo(results,num_sim,num_days,r,K,sim_closes,j,l,flag)\n",
    "    in_the_money=is_in_the_money(num_sim,num_days,Y_present,sim_closes,l)\n",
    "    coef=minimos_cuadrados(num_sim,num_days,in_the_money,sim_closes,Y_present,l)\n",
    "    Y_exp=valor_esperado(num_sim,num_days,Y_present,sim_closes,coef,l)\n",
    "    results=valor_presente(num_sim,num_days,K,Y_present,Y_exp,sim_closes,results,j,l)\n",
    "    print('j: ',j,'l: ',l)\n",
    "    return results"
   ]
  },
  {
   "cell_type": "code",
   "execution_count": null,
   "metadata": {},
   "outputs": [],
   "source": [
    "K = 2000\n",
    "S0 = aluminum['Price'].iloc[-1]\n",
    "dates = pd.date_range(datetime.today().date(),periods=ndays).astype('str')\n",
    "sim_ret = pd.DataFrame(sigma*np.random.randn(ndays,nscen)+r,index=dates)\n",
    "sim_closes = S0*np.exp(sim_ret.cumsum())\n",
    "num_sim=nscen\n",
    "ndays=3\n",
    "num_days=ndays\n",
    "flag=1"
   ]
  },
  {
   "cell_type": "code",
   "execution_count": null,
   "metadata": {},
   "outputs": [],
   "source": [
    "results=pd.DataFrame(np.zeros([num_days,num_sim]))\n",
    "temp=list(map(lambda j,l,f:func(num_sim,num_days,r,K,sim_closes,results,j,l,f),range(num_days),np.arange(num_days)+1,[1,0,0]))"
   ]
  },
  {
   "cell_type": "code",
   "execution_count": null,
   "metadata": {},
   "outputs": [],
   "source": [
    "final_ans=np.mean(np.exp(-r)*results.iloc[num_days-1,:])"
   ]
  },
  {
   "cell_type": "code",
   "execution_count": null,
   "metadata": {},
   "outputs": [],
   "source": []
  }
 ],
 "metadata": {
  "kernelspec": {
   "display_name": "Python 3",
   "language": "python",
   "name": "python3"
  },
  "language_info": {
   "codemirror_mode": {
    "name": "ipython",
    "version": 3
   },
   "file_extension": ".py",
   "mimetype": "text/x-python",
   "name": "python",
   "nbconvert_exporter": "python",
   "pygments_lexer": "ipython3",
   "version": "3.6.4"
  }
 },
 "nbformat": 4,
 "nbformat_minor": 2
}
