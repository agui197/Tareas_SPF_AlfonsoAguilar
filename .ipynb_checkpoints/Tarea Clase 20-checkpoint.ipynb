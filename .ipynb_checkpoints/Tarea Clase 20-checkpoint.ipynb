{
 "cells": [
  {
   "cell_type": "markdown",
   "metadata": {},
   "source": [
    "# Tarea\n",
    "Realizar la valuación de las opciones barrera para las acciones de Microsoft, siguiendo los siguientes lineamientos:\n",
    "1. Realizar la valuación para el tipo de opción barrera 'CALL'- down-and-out, usando la suposición de rendimientos normales y usando el método del histograma. Para ambas valuaciones, comparar los resultados de la evaluación obtenida con los resultados obtenidos por la valuación Europea. Como se realizó en clase.\n",
    "2. Repetir el inciso anterior pero en esta ocasión para el caso de 'PUT'- Up-and-out.\n",
    "\n",
    "**Nota:** Analice los datos descargados y según el método ya sea `down-and-out` o `Up-and-out` defina un strike price y una barrera adecuada.\n",
    "\n",
    "Se habilitará un enlace en moodle para subir un cuaderno de python, con la solución.\n",
    "\n",
    "**Criterio de revisión.**\n",
    "\n",
    "> Se te calificará de acuerdo a los resultados finales que reportes, basados en tu análisis."
   ]
  },
  {
   "cell_type": "code",
   "execution_count": 1,
   "metadata": {},
   "outputs": [],
   "source": [
    "#importar los paquetes que se van a usar\n",
    "import pandas as pd\n",
    "import pandas_datareader.data as web\n",
    "import numpy as np\n",
    "from sklearn.neighbors import KernelDensity\n",
    "import datetime\n",
    "from datetime import datetime, timedelta\n",
    "import scipy.stats as st\n",
    "import scipy as sp\n",
    "import scipy.optimize as optimize\n",
    "import scipy.cluster.hierarchy as hac\n",
    "import matplotlib.pyplot as plt\n",
    "import seaborn as sns\n",
    "%matplotlib inline\n",
    "#algunas opciones para Python\n",
    "pd.set_option('display.notebook_repr_html', True)\n",
    "pd.set_option('display.max_columns', 6)\n",
    "pd.set_option('display.max_rows', 10)\n",
    "pd.set_option('display.width', 78)\n",
    "pd.set_option('precision', 3)"
   ]
  },
  {
   "cell_type": "code",
   "execution_count": 2,
   "metadata": {},
   "outputs": [],
   "source": [
    "# Función para descargar precios de cierre ajustados de varios activos a la vez:\n",
    "def get_closes(tickers, start_date=None, end_date=None, freq=None):\n",
    "    # Fecha inicio por defecto (start_date='2010-01-01') y fecha fin por defecto (end_date=today)\n",
    "    # Frecuencia de muestreo por defecto (freq='d')\n",
    "    if freq == None:\n",
    "        freq = 'd'\n",
    "    # Importamos paquetes necesarios\n",
    "    import pandas as pd\n",
    "    pd.core.common.is_list_like = pd.api.types.is_list_like\n",
    "    import pandas_datareader.data as web  \n",
    "    # Creamos DataFrame vacío de precios, con el índice de las fechas\n",
    "    closes = pd.DataFrame(columns = tickers, index=web.YahooDailyReader(symbols=tickers[0], start=start_date, end=end_date, interval=freq).read().index)\n",
    "    # Agregamos cada uno de los precios con YahooDailyReader\n",
    "    for ticker in tickers:\n",
    "        df = web.YahooDailyReader(symbols=ticker, start=start_date, end=end_date, interval=freq).read()\n",
    "        closes[ticker]=df['Adj Close']\n",
    "    closes.index_name = 'Date'\n",
    "    closes = closes.sort_index()\n",
    "    return closes\n",
    "\n",
    "####### Calculation of log-returns\n",
    "def calc_daily_ret(closes):\n",
    "    return np.log(closes/closes.shift(1)).dropna()"
   ]
  },
  {
   "cell_type": "code",
   "execution_count": 3,
   "metadata": {},
   "outputs": [],
   "source": [
    "closes = get_closes(['MSFT'], '2017-01-01')\n",
    "closes_msft = closes.loc[:,'MSFT']"
   ]
  },
  {
   "cell_type": "code",
   "execution_count": 4,
   "metadata": {},
   "outputs": [
    {
     "data": {
      "image/png": "[encoded data removed]",
      "text/plain": [
       "<Figure size 576x432 with 1 Axes>"
      ]
     },
     "metadata": {
      "needs_background": "light"
     },
     "output_type": "display_data"
    }
   ],
   "source": [
    "closes_msft.plot(figsize=(8,6));"
   ]
  },
  {
   "cell_type": "code",
   "execution_count": 5,
   "metadata": {},
   "outputs": [],
   "source": [
    "ret_msft = calc_daily_ret(closes_msft)"
   ]
  },
  {
   "cell_type": "code",
   "execution_count": 6,
   "metadata": {},
   "outputs": [
    {
     "data": {
      "text/html": [
       "<div>\n",
       "<style scoped>\n",
       "    .dataframe tbody tr th:only-of-type {\n",
       "        vertical-align: middle;\n",
       "    }\n",
       "\n",
       "    .dataframe tbody tr th {\n",
       "        vertical-align: top;\n",
       "    }\n",
       "\n",
       "    .dataframe thead th {\n",
       "        text-align: right;\n",
       "    }\n",
       "</style>\n",
       "<table border=\"1\" class=\"dataframe\">\n",
       "  <thead>\n",
       "    <tr style=\"text-align: right;\">\n",
       "      <th></th>\n",
       "      <th>Strike</th>\n",
       "      <th>Type</th>\n",
       "      <th>Symbol</th>\n",
       "      <th>...</th>\n",
       "      <th>Quote_Time</th>\n",
       "      <th>Last_Trade_Date</th>\n",
       "      <th>JSON</th>\n",
       "    </tr>\n",
       "    <tr>\n",
       "      <th>Expiry</th>\n",
       "      <th></th>\n",
       "      <th></th>\n",
       "      <th></th>\n",
       "      <th></th>\n",
       "      <th></th>\n",
       "      <th></th>\n",
       "      <th></th>\n",
       "    </tr>\n",
       "  </thead>\n",
       "  <tbody>\n",
       "    <tr>\n",
       "      <th>2018-11-23</th>\n",
       "      <td>99.0</td>\n",
       "      <td>call</td>\n",
       "      <td>MSFT181123C00099000</td>\n",
       "      <td>...</td>\n",
       "      <td>2018-11-16 21:00:01</td>\n",
       "      <td>2018-11-15 17:29:34</td>\n",
       "      <td>{'contractSymbol': 'MSFT181123C00099000', 'str...</td>\n",
       "    </tr>\n",
       "    <tr>\n",
       "      <th>2018-11-23</th>\n",
       "      <td>87.5</td>\n",
       "      <td>put</td>\n",
       "      <td>MSFT181123P00087500</td>\n",
       "      <td>...</td>\n",
       "      <td>2018-11-16 21:00:01</td>\n",
       "      <td>2018-11-01 18:33:35</td>\n",
       "      <td>{'contractSymbol': 'MSFT181123P00087500', 'str...</td>\n",
       "    </tr>\n",
       "    <tr>\n",
       "      <th>2018-11-23</th>\n",
       "      <td>113.0</td>\n",
       "      <td>put</td>\n",
       "      <td>MSFT181123P00113000</td>\n",
       "      <td>...</td>\n",
       "      <td>2018-11-16 21:00:01</td>\n",
       "      <td>2018-11-16 20:26:47</td>\n",
       "      <td>{'contractSymbol': 'MSFT181123P00113000', 'str...</td>\n",
       "    </tr>\n",
       "    <tr>\n",
       "      <th>2018-11-23</th>\n",
       "      <td>113.0</td>\n",
       "      <td>call</td>\n",
       "      <td>MSFT181123C00113000</td>\n",
       "      <td>...</td>\n",
       "      <td>2018-11-16 21:00:01</td>\n",
       "      <td>2018-11-16 20:47:41</td>\n",
       "      <td>{'contractSymbol': 'MSFT181123C00113000', 'str...</td>\n",
       "    </tr>\n",
       "    <tr>\n",
       "      <th>2018-11-23</th>\n",
       "      <td>88.5</td>\n",
       "      <td>put</td>\n",
       "      <td>MSFT181123P00088500</td>\n",
       "      <td>...</td>\n",
       "      <td>2018-11-16 21:00:01</td>\n",
       "      <td>2018-11-14 19:02:07</td>\n",
       "      <td>{'contractSymbol': 'MSFT181123P00088500', 'str...</td>\n",
       "    </tr>\n",
       "    <tr>\n",
       "      <th>...</th>\n",
       "      <td>...</td>\n",
       "      <td>...</td>\n",
       "      <td>...</td>\n",
       "      <td>...</td>\n",
       "      <td>...</td>\n",
       "      <td>...</td>\n",
       "      <td>...</td>\n",
       "    </tr>\n",
       "    <tr>\n",
       "      <th>2021-01-15</th>\n",
       "      <td>95.0</td>\n",
       "      <td>call</td>\n",
       "      <td>MSFT210115C00095000</td>\n",
       "      <td>...</td>\n",
       "      <td>2018-11-16 21:00:01</td>\n",
       "      <td>2018-11-14 20:09:28</td>\n",
       "      <td>{'contractSymbol': 'MSFT210115C00095000', 'str...</td>\n",
       "    </tr>\n",
       "    <tr>\n",
       "      <th>2021-01-15</th>\n",
       "      <td>95.0</td>\n",
       "      <td>put</td>\n",
       "      <td>MSFT210115P00095000</td>\n",
       "      <td>...</td>\n",
       "      <td>2018-11-16 21:00:01</td>\n",
       "      <td>2018-11-15 19:00:17</td>\n",
       "      <td>{'contractSymbol': 'MSFT210115P00095000', 'str...</td>\n",
       "    </tr>\n",
       "    <tr>\n",
       "      <th>2021-01-15</th>\n",
       "      <td>135.0</td>\n",
       "      <td>call</td>\n",
       "      <td>MSFT210115C00135000</td>\n",
       "      <td>...</td>\n",
       "      <td>2018-11-16 21:00:01</td>\n",
       "      <td>2018-11-16 14:30:53</td>\n",
       "      <td>{'contractSymbol': 'MSFT210115C00135000', 'str...</td>\n",
       "    </tr>\n",
       "    <tr>\n",
       "      <th>2021-01-15</th>\n",
       "      <td>55.0</td>\n",
       "      <td>put</td>\n",
       "      <td>MSFT210115P00055000</td>\n",
       "      <td>...</td>\n",
       "      <td>2018-11-16 21:00:01</td>\n",
       "      <td>2018-11-09 15:19:39</td>\n",
       "      <td>{'contractSymbol': 'MSFT210115P00055000', 'str...</td>\n",
       "    </tr>\n",
       "    <tr>\n",
       "      <th>2021-01-15</th>\n",
       "      <td>170.0</td>\n",
       "      <td>put</td>\n",
       "      <td>MSFT210115P00170000</td>\n",
       "      <td>...</td>\n",
       "      <td>2018-11-16 21:00:01</td>\n",
       "      <td>2018-10-06 03:48:54</td>\n",
       "      <td>{'contractSymbol': 'MSFT210115P00170000', 'str...</td>\n",
       "    </tr>\n",
       "  </tbody>\n",
       "</table>\n",
       "<p>568 rows × 18 columns</p>\n",
       "</div>"
      ],
      "text/plain": [
       "            Strike  Type               Symbol  \\\n",
       "Expiry                                          \n",
       "2018-11-23    99.0  call  MSFT181123C00099000   \n",
       "2018-11-23    87.5   put  MSFT181123P00087500   \n",
       "2018-11-23   113.0   put  MSFT181123P00113000   \n",
       "2018-11-23   113.0  call  MSFT181123C00113000   \n",
       "2018-11-23    88.5   put  MSFT181123P00088500   \n",
       "...            ...   ...                  ...   \n",
       "2021-01-15    95.0  call  MSFT210115C00095000   \n",
       "2021-01-15    95.0   put  MSFT210115P00095000   \n",
       "2021-01-15   135.0  call  MSFT210115C00135000   \n",
       "2021-01-15    55.0   put  MSFT210115P00055000   \n",
       "2021-01-15   170.0   put  MSFT210115P00170000   \n",
       "\n",
       "                                  ...                          \\\n",
       "Expiry                            ...                           \n",
       "2018-11-23                        ...                           \n",
       "2018-11-23                        ...                           \n",
       "2018-11-23                        ...                           \n",
       "2018-11-23                        ...                           \n",
       "2018-11-23                        ...                           \n",
       "...                               ...                           \n",
       "2021-01-15                        ...                           \n",
       "2021-01-15                        ...                           \n",
       "2021-01-15                        ...                           \n",
       "2021-01-15                        ...                           \n",
       "2021-01-15                        ...                           \n",
       "\n",
       "                    Quote_Time     Last_Trade_Date  \\\n",
       "Expiry                                               \n",
       "2018-11-23 2018-11-16 21:00:01 2018-11-15 17:29:34   \n",
       "2018-11-23 2018-11-16 21:00:01 2018-11-01 18:33:35   \n",
       "2018-11-23 2018-11-16 21:00:01 2018-11-16 20:26:47   \n",
       "2018-11-23 2018-11-16 21:00:01 2018-11-16 20:47:41   \n",
       "2018-11-23 2018-11-16 21:00:01 2018-11-14 19:02:07   \n",
       "...                        ...                 ...   \n",
       "2021-01-15 2018-11-16 21:00:01 2018-11-14 20:09:28   \n",
       "2021-01-15 2018-11-16 21:00:01 2018-11-15 19:00:17   \n",
       "2021-01-15 2018-11-16 21:00:01 2018-11-16 14:30:53   \n",
       "2021-01-15 2018-11-16 21:00:01 2018-11-09 15:19:39   \n",
       "2021-01-15 2018-11-16 21:00:01 2018-10-06 03:48:54   \n",
       "\n",
       "                                                         JSON  \n",
       "Expiry                                                         \n",
       "2018-11-23  {'contractSymbol': 'MSFT181123C00099000', 'str...  \n",
       "2018-11-23  {'contractSymbol': 'MSFT181123P00087500', 'str...  \n",
       "2018-11-23  {'contractSymbol': 'MSFT181123P00113000', 'str...  \n",
       "2018-11-23  {'contractSymbol': 'MSFT181123C00113000', 'str...  \n",
       "2018-11-23  {'contractSymbol': 'MSFT181123P00088500', 'str...  \n",
       "...                                                       ...  \n",
       "2021-01-15  {'contractSymbol': 'MSFT210115C00095000', 'str...  \n",
       "2021-01-15  {'contractSymbol': 'MSFT210115P00095000', 'str...  \n",
       "2021-01-15  {'contractSymbol': 'MSFT210115C00135000', 'str...  \n",
       "2021-01-15  {'contractSymbol': 'MSFT210115P00055000', 'str...  \n",
       "2021-01-15  {'contractSymbol': 'MSFT210115P00170000', 'str...  \n",
       "\n",
       "[568 rows x 18 columns]"
      ]
     },
     "execution_count": 6,
     "metadata": {},
     "output_type": "execute_result"
    }
   ],
   "source": [
    "msft = web.YahooOptions('MSFT')\n",
    "msft_opt = msft.get_all_data().reset_index()\n",
    "msft_opt.set_index('Expiry').sort_index()"
   ]
  },
  {
   "cell_type": "code",
   "execution_count": 7,
   "metadata": {},
   "outputs": [
    {
     "data": {
      "text/html": [
       "<div>\n",
       "<style scoped>\n",
       "    .dataframe tbody tr th:only-of-type {\n",
       "        vertical-align: middle;\n",
       "    }\n",
       "\n",
       "    .dataframe tbody tr th {\n",
       "        vertical-align: top;\n",
       "    }\n",
       "\n",
       "    .dataframe thead th {\n",
       "        text-align: right;\n",
       "    }\n",
       "</style>\n",
       "<table border=\"1\" class=\"dataframe\">\n",
       "  <thead>\n",
       "    <tr style=\"text-align: right;\">\n",
       "      <th></th>\n",
       "      <th>Strike</th>\n",
       "      <th>Expiry</th>\n",
       "      <th>Type</th>\n",
       "      <th>...</th>\n",
       "      <th>Quote_Time</th>\n",
       "      <th>Last_Trade_Date</th>\n",
       "      <th>JSON</th>\n",
       "    </tr>\n",
       "  </thead>\n",
       "  <tbody>\n",
       "    <tr>\n",
       "      <th>463</th>\n",
       "      <td>120.0</td>\n",
       "      <td>2019-01-18</td>\n",
       "      <td>call</td>\n",
       "      <td>...</td>\n",
       "      <td>2018-11-16 21:00:01</td>\n",
       "      <td>2018-11-16 20:45:03</td>\n",
       "      <td>{'contractSymbol': 'MSFT190118C00120000', 'str...</td>\n",
       "    </tr>\n",
       "  </tbody>\n",
       "</table>\n",
       "<p>1 rows × 19 columns</p>\n",
       "</div>"
      ],
      "text/plain": [
       "     Strike     Expiry  Type  \\\n",
       "463   120.0 2019-01-18  call   \n",
       "\n",
       "                           ...                                  Quote_Time  \\\n",
       "463                        ...                         2018-11-16 21:00:01   \n",
       "\n",
       "        Last_Trade_Date                                               JSON  \n",
       "463 2018-11-16 20:45:03  {'contractSymbol': 'MSFT190118C00120000', 'str...  \n",
       "\n",
       "[1 rows x 19 columns]"
      ]
     },
     "execution_count": 7,
     "metadata": {},
     "output_type": "execute_result"
    }
   ],
   "source": [
    "opt_deseada = msft_opt.loc[(msft_opt.Type=='call') & (msft_opt.Strike==120) & (msft_opt.Expiry=='2019-01-18')]\n",
    "opt_deseada"
   ]
  },
  {
   "cell_type": "code",
   "execution_count": 8,
   "metadata": {},
   "outputs": [
    {
     "data": {
      "text/plain": [
       "Strike                                                            120\n",
       "Expiry                                            2019-01-18 00:00:00\n",
       "Type                                                             call\n",
       "Symbol                                            MSFT190118C00120000\n",
       "Last                                                              0.9\n",
       "                                          ...                        \n",
       "Underlying                                                       MSFT\n",
       "Underlying_Price                                                  108\n",
       "Quote_Time                                        2018-11-16 21:00:01\n",
       "Last_Trade_Date                                   2018-11-16 20:45:03\n",
       "JSON                {'contractSymbol': 'MSFT190118C00120000', 'str...\n",
       "Name: 463, Length: 19, dtype: object"
      ]
     },
     "execution_count": 8,
     "metadata": {},
     "output_type": "execute_result"
    }
   ],
   "source": [
    "opt_valuar = opt_deseada.loc[list(opt_deseada.index)[0]]\n",
    "opt_valuar"
   ]
  },
  {
   "cell_type": "code",
   "execution_count": 9,
   "metadata": {},
   "outputs": [
    {
     "data": {
      "text/plain": [
       "{'contractSymbol': 'MSFT190118C00120000',\n",
       " 'strike': 120.0,\n",
       " 'currency': 'USD',\n",
       " 'lastPrice': 0.9,\n",
       " 'change': -0.050000012,\n",
       " 'percentChange': -5.2631593,\n",
       " 'volume': 610,\n",
       " 'openInterest': 28370,\n",
       " 'bid': 0.75,\n",
       " 'ask': 1.0,\n",
       " 'contractSize': 'REGULAR',\n",
       " 'expiration': 1547769600,\n",
       " 'lastTradeDate': 1542401103,\n",
       " 'impliedVolatility': 0.24927508544921873,\n",
       " 'inTheMoney': False}"
      ]
     },
     "execution_count": 9,
     "metadata": {},
     "output_type": "execute_result"
    }
   ],
   "source": [
    "opt_valuar['JSON']"
   ]
  },
  {
   "cell_type": "code",
   "execution_count": 10,
   "metadata": {},
   "outputs": [
    {
     "data": {
      "image/png": "[encoded data removed]",
      "text/plain": [
       "<Figure size 432x288 with 1 Axes>"
      ]
     },
     "metadata": {
      "needs_background": "light"
     },
     "output_type": "display_data"
    }
   ],
   "source": [
    "mu = ret_msft.mean()\n",
    "sigma = ret_msft.std()\n",
    "r = 0.0272/360\n",
    "K = opt_valuar.Strike\n",
    "S0 = closes_msft.iloc[-1]\n",
    "ndays = (opt_valuar.Expiry.date()-datetime.today().date()).days\n",
    "nscen = 100000\n",
    "dates = pd.date_range(datetime.today().date(),periods=ndays).astype('str')\n",
    "sim_ret = pd.DataFrame(sigma*np.random.randn(ndays,nscen)+r,index=dates)\n",
    "sim_closes = S0*np.exp(sim_ret.cumsum())\n",
    "strike = pd.DataFrame(K*np.ones([ndays,nscen]),index=dates)\n",
    "call=pd.DataFrame({'Prima':np.exp(-r*ndays)*np.fmax(sim_closes-strike,np.zeros([ndays,nscen])).T.mean()},index=dates)\n",
    "call.plot();"
   ]
  },
  {
   "cell_type": "code",
   "execution_count": 11,
   "metadata": {},
   "outputs": [
    {
     "name": "stdout",
     "output_type": "stream",
     "text": [
      "(1.1327349909678444, 1.2736124413432863)\n"
     ]
    }
   ],
   "source": [
    "confianza = 0.95\n",
    "sigma_est = sim_closes.iloc[-1].sem()\n",
    "mean_est = call.iloc[-1].Prima\n",
    "# i1 = st.t.interval(confianza,nscen-1, loc=mean_est, scale=sigma_est)\n",
    "i2 = st.norm.interval(confianza, loc=mean_est, scale=sigma_est)\n",
    "print(i2)"
   ]
  },
  {
   "cell_type": "markdown",
   "metadata": {},
   "source": [
    "# 1.-Valuacion de una opcion CALL down and out\n"
   ]
  },
  {
   "cell_type": "markdown",
   "metadata": {},
   "source": [
    "* Down-and-out call: Sí $S_0>B$, $C_t^{do}=\\max\\{S_T-K,0\\}I(S_t>B)$\n",
    "\n"
   ]
  },
  {
   "cell_type": "markdown",
   "metadata": {},
   "source": [
    "## 1.1 Metodo de rendimientos normales\n"
   ]
  },
  {
   "cell_type": "code",
   "execution_count": 12,
   "metadata": {},
   "outputs": [
    {
     "data": {
      "text/html": [
       "<div>\n",
       "<style scoped>\n",
       "    .dataframe tbody tr th:only-of-type {\n",
       "        vertical-align: middle;\n",
       "    }\n",
       "\n",
       "    .dataframe tbody tr th {\n",
       "        vertical-align: top;\n",
       "    }\n",
       "\n",
       "    .dataframe thead th {\n",
       "        text-align: right;\n",
       "    }\n",
       "</style>\n",
       "<table border=\"1\" class=\"dataframe\">\n",
       "  <thead>\n",
       "    <tr style=\"text-align: right;\">\n",
       "      <th></th>\n",
       "      <th>0</th>\n",
       "      <th>1</th>\n",
       "      <th>2</th>\n",
       "      <th>...</th>\n",
       "      <th>99997</th>\n",
       "      <th>99998</th>\n",
       "      <th>99999</th>\n",
       "    </tr>\n",
       "  </thead>\n",
       "  <tbody>\n",
       "    <tr>\n",
       "      <th>2018-11-17</th>\n",
       "      <td>True</td>\n",
       "      <td>True</td>\n",
       "      <td>True</td>\n",
       "      <td>...</td>\n",
       "      <td>True</td>\n",
       "      <td>True</td>\n",
       "      <td>False</td>\n",
       "    </tr>\n",
       "    <tr>\n",
       "      <th>2018-11-18</th>\n",
       "      <td>True</td>\n",
       "      <td>True</td>\n",
       "      <td>True</td>\n",
       "      <td>...</td>\n",
       "      <td>True</td>\n",
       "      <td>True</td>\n",
       "      <td>False</td>\n",
       "    </tr>\n",
       "    <tr>\n",
       "      <th>2018-11-19</th>\n",
       "      <td>True</td>\n",
       "      <td>True</td>\n",
       "      <td>True</td>\n",
       "      <td>...</td>\n",
       "      <td>True</td>\n",
       "      <td>True</td>\n",
       "      <td>False</td>\n",
       "    </tr>\n",
       "    <tr>\n",
       "      <th>2018-11-20</th>\n",
       "      <td>True</td>\n",
       "      <td>True</td>\n",
       "      <td>True</td>\n",
       "      <td>...</td>\n",
       "      <td>True</td>\n",
       "      <td>True</td>\n",
       "      <td>False</td>\n",
       "    </tr>\n",
       "    <tr>\n",
       "      <th>2018-11-21</th>\n",
       "      <td>True</td>\n",
       "      <td>True</td>\n",
       "      <td>True</td>\n",
       "      <td>...</td>\n",
       "      <td>True</td>\n",
       "      <td>True</td>\n",
       "      <td>False</td>\n",
       "    </tr>\n",
       "    <tr>\n",
       "      <th>...</th>\n",
       "      <td>...</td>\n",
       "      <td>...</td>\n",
       "      <td>...</td>\n",
       "      <td>...</td>\n",
       "      <td>...</td>\n",
       "      <td>...</td>\n",
       "      <td>...</td>\n",
       "    </tr>\n",
       "    <tr>\n",
       "      <th>2019-01-13</th>\n",
       "      <td>True</td>\n",
       "      <td>True</td>\n",
       "      <td>True</td>\n",
       "      <td>...</td>\n",
       "      <td>True</td>\n",
       "      <td>True</td>\n",
       "      <td>True</td>\n",
       "    </tr>\n",
       "    <tr>\n",
       "      <th>2019-01-14</th>\n",
       "      <td>True</td>\n",
       "      <td>True</td>\n",
       "      <td>True</td>\n",
       "      <td>...</td>\n",
       "      <td>True</td>\n",
       "      <td>True</td>\n",
       "      <td>True</td>\n",
       "    </tr>\n",
       "    <tr>\n",
       "      <th>2019-01-15</th>\n",
       "      <td>True</td>\n",
       "      <td>True</td>\n",
       "      <td>True</td>\n",
       "      <td>...</td>\n",
       "      <td>True</td>\n",
       "      <td>True</td>\n",
       "      <td>True</td>\n",
       "    </tr>\n",
       "    <tr>\n",
       "      <th>2019-01-16</th>\n",
       "      <td>True</td>\n",
       "      <td>True</td>\n",
       "      <td>True</td>\n",
       "      <td>...</td>\n",
       "      <td>True</td>\n",
       "      <td>True</td>\n",
       "      <td>True</td>\n",
       "    </tr>\n",
       "    <tr>\n",
       "      <th>2019-01-17</th>\n",
       "      <td>True</td>\n",
       "      <td>True</td>\n",
       "      <td>True</td>\n",
       "      <td>...</td>\n",
       "      <td>True</td>\n",
       "      <td>True</td>\n",
       "      <td>True</td>\n",
       "    </tr>\n",
       "  </tbody>\n",
       "</table>\n",
       "<p>62 rows × 100000 columns</p>\n",
       "</div>"
      ],
      "text/plain": [
       "            0      1      2      ...    99997  99998  99999\n",
       "2018-11-17   True   True   True  ...     True   True  False\n",
       "2018-11-18   True   True   True  ...     True   True  False\n",
       "2018-11-19   True   True   True  ...     True   True  False\n",
       "2018-11-20   True   True   True  ...     True   True  False\n",
       "2018-11-21   True   True   True  ...     True   True  False\n",
       "...           ...    ...    ...  ...      ...    ...    ...\n",
       "2019-01-13   True   True   True  ...     True   True   True\n",
       "2019-01-14   True   True   True  ...     True   True   True\n",
       "2019-01-15   True   True   True  ...     True   True   True\n",
       "2019-01-16   True   True   True  ...     True   True   True\n",
       "2019-01-17   True   True   True  ...     True   True   True\n",
       "\n",
       "[62 rows x 100000 columns]"
      ]
     },
     "execution_count": 12,
     "metadata": {},
     "output_type": "execute_result"
    }
   ],
   "source": [
    "B = 110    # Precio barrera\n",
    "barrier = pd.DataFrame(B*np.ones((ndays, nscen)),index=dates)\n",
    "I = (sim_closes<barrier).cumsum()>0"
   ]
  },
  {
   "cell_type": "code",
   "execution_count": 13,
   "metadata": {},
   "outputs": [
    {
     "data": {
      "image/png": "[encoded data removed]",
      "text/plain": [
       "<Figure size 432x288 with 1 Axes>"
      ]
     },
     "metadata": {
      "needs_background": "light"
     },
     "output_type": "display_data"
    }
   ],
   "source": [
    "strike = pd.DataFrame(K*np.ones((ndays, nscen)),index=dates)\n",
    "call=pd.DataFrame({'Prima':np.exp(-r*ndays)*np.fmax(sim_closes-strike,np.zeros([ndays,nscen])).T.mean()},index=dates)\n",
    "calldo = pd.DataFrame({'Prima Down-and-Out':np.exp(-r*ndays)*(I*np.fmax(sim_closes-strike,np.zeros((ndays,nscen)))).T.mean()},index=dates)\n",
    "\n",
    "ax = calldo.plot();\n",
    "call.plot(ax=ax);"
   ]
  },
  {
   "cell_type": "markdown",
   "metadata": {},
   "source": [
    "## 1.2.-Metodo del histograma"
   ]
  },
  {
   "cell_type": "code",
   "execution_count": 14,
   "metadata": {},
   "outputs": [],
   "source": [
    "freq, values = np.histogram(ret_msft-mu+r, bins=10000)\n",
    "# freq = freq.astype('float32')\n",
    "prob = freq/np.sum(freq)"
   ]
  },
  {
   "cell_type": "code",
   "execution_count": 15,
   "metadata": {},
   "outputs": [],
   "source": [
    "K = opt_valuar.Strike\n",
    "S0 = closes_msft.iloc[-1]\n",
    "ndays = (opt_valuar.Expiry.date()-datetime.today().date()).days\n",
    "nscen = 100000\n",
    "dates = pd.date_range(datetime.today().date(),periods=ndays).astype('str')\n",
    "\n",
    "ret = np.random.choice(values[1:], (ndays,nscen), p = prob)\n",
    "sim_ret_hist = pd.DataFrame(ret,index=dates)\n",
    "sim_closes_hist = S0*np.exp(sim_ret_hist.cumsum())"
   ]
  },
  {
   "cell_type": "code",
   "execution_count": 16,
   "metadata": {},
   "outputs": [],
   "source": [
    "B = 110    # Precio barrera\n",
    "barrier = pd.DataFrame(B*np.ones((ndays, nscen)),index=dates)\n",
    "I = (sim_closes_hist<barrier).cumsum()>0"
   ]
  },
  {
   "cell_type": "code",
   "execution_count": 17,
   "metadata": {},
   "outputs": [
    {
     "data": {
      "image/png": "[encoded data removed]",
      "text/plain": [
       "<Figure size 432x288 with 1 Axes>"
      ]
     },
     "metadata": {
      "needs_background": "light"
     },
     "output_type": "display_data"
    }
   ],
   "source": [
    "strike = pd.DataFrame(K*np.ones((ndays, nscen)),index=dates)\n",
    "call = pd.DataFrame({'Prima Europea':np.exp(-r*ndays)*np.fmax(sim_closes_hist-strike,np.zeros((ndays,nscen))).T.mean()},index=dates)\n",
    "calldo = pd.DataFrame({'Prima down-and-out':np.exp(-r*ndays)*(I*np.fmax(sim_closes_hist-strike,np.zeros((ndays,nscen)))).T.mean()},index=dates)\n",
    "\n",
    "ax = callDO.plot();\n",
    "call.plot(ax=ax);"
   ]
  },
  {
   "cell_type": "markdown",
   "metadata": {},
   "source": [
    "# 2.-Valuacion de opcion PUT up and out"
   ]
  },
  {
   "cell_type": "markdown",
   "metadata": {},
   "source": [
    "* Down-and-out put: Sí $S_0>B$, $P_t^{do}=\\max\\{K-S_T,0\\}I(S_t>B)$\n",
    "\n"
   ]
  },
  {
   "cell_type": "code",
   "execution_count": 18,
   "metadata": {},
   "outputs": [
    {
     "data": {
      "text/html": [
       "<div>\n",
       "<style scoped>\n",
       "    .dataframe tbody tr th:only-of-type {\n",
       "        vertical-align: middle;\n",
       "    }\n",
       "\n",
       "    .dataframe tbody tr th {\n",
       "        vertical-align: top;\n",
       "    }\n",
       "\n",
       "    .dataframe thead th {\n",
       "        text-align: right;\n",
       "    }\n",
       "</style>\n",
       "<table border=\"1\" class=\"dataframe\">\n",
       "  <thead>\n",
       "    <tr style=\"text-align: right;\">\n",
       "      <th></th>\n",
       "      <th>Strike</th>\n",
       "      <th>Expiry</th>\n",
       "      <th>Type</th>\n",
       "      <th>...</th>\n",
       "      <th>Quote_Time</th>\n",
       "      <th>Last_Trade_Date</th>\n",
       "      <th>JSON</th>\n",
       "    </tr>\n",
       "  </thead>\n",
       "  <tbody>\n",
       "    <tr>\n",
       "      <th>306</th>\n",
       "      <td>100.0</td>\n",
       "      <td>2019-01-18</td>\n",
       "      <td>put</td>\n",
       "      <td>...</td>\n",
       "      <td>2018-11-16 21:00:01</td>\n",
       "      <td>2018-11-16 20:52:32</td>\n",
       "      <td>{'contractSymbol': 'MSFT190118P00100000', 'str...</td>\n",
       "    </tr>\n",
       "  </tbody>\n",
       "</table>\n",
       "<p>1 rows × 19 columns</p>\n",
       "</div>"
      ],
      "text/plain": [
       "     Strike     Expiry Type  \\\n",
       "306   100.0 2019-01-18  put   \n",
       "\n",
       "                           ...                                  Quote_Time  \\\n",
       "306                        ...                         2018-11-16 21:00:01   \n",
       "\n",
       "        Last_Trade_Date                                               JSON  \n",
       "306 2018-11-16 20:52:32  {'contractSymbol': 'MSFT190118P00100000', 'str...  \n",
       "\n",
       "[1 rows x 19 columns]"
      ]
     },
     "execution_count": 18,
     "metadata": {},
     "output_type": "execute_result"
    }
   ],
   "source": [
    "opt_deseada = msft_opt.loc[(msft_opt.Type=='put') & (msft_opt.Strike==100) & (msft_opt.Expiry=='2019-01-18')]\n",
    "opt_deseada"
   ]
  },
  {
   "cell_type": "code",
   "execution_count": 19,
   "metadata": {},
   "outputs": [
    {
     "data": {
      "text/plain": [
       "Strike                                                            100\n",
       "Expiry                                            2019-01-18 00:00:00\n",
       "Type                                                              put\n",
       "Symbol                                            MSFT190118P00100000\n",
       "Last                                                             1.81\n",
       "                                          ...                        \n",
       "Underlying                                                       MSFT\n",
       "Underlying_Price                                                  108\n",
       "Quote_Time                                        2018-11-16 21:00:01\n",
       "Last_Trade_Date                                   2018-11-16 20:52:32\n",
       "JSON                {'contractSymbol': 'MSFT190118P00100000', 'str...\n",
       "Name: 306, Length: 19, dtype: object"
      ]
     },
     "execution_count": 19,
     "metadata": {},
     "output_type": "execute_result"
    }
   ],
   "source": [
    "opt_valuar = opt_deseada.loc[list(opt_deseada.index)[0]]\n",
    "opt_valuar"
   ]
  },
  {
   "cell_type": "code",
   "execution_count": 20,
   "metadata": {},
   "outputs": [
    {
     "data": {
      "text/plain": [
       "{'contractSymbol': 'MSFT190118P00100000',\n",
       " 'strike': 100.0,\n",
       " 'currency': 'USD',\n",
       " 'lastPrice': 1.81,\n",
       " 'change': -0.3800001,\n",
       " 'percentChange': -17.351604,\n",
       " 'volume': 328,\n",
       " 'openInterest': 28781,\n",
       " 'bid': 1.75,\n",
       " 'ask': 1.92,\n",
       " 'contractSize': 'REGULAR',\n",
       " 'expiration': 1547769600,\n",
       " 'lastTradeDate': 1542401552,\n",
       " 'impliedVolatility': 0.29077857666015616,\n",
       " 'inTheMoney': False}"
      ]
     },
     "execution_count": 20,
     "metadata": {},
     "output_type": "execute_result"
    }
   ],
   "source": [
    "opt_valuar['JSON']"
   ]
  },
  {
   "cell_type": "code",
   "execution_count": 21,
   "metadata": {},
   "outputs": [
    {
     "data": {
      "image/png": "[encoded data removed]",
      "text/plain": [
       "<Figure size 432x288 with 1 Axes>"
      ]
     },
     "metadata": {
      "needs_background": "light"
     },
     "output_type": "display_data"
    }
   ],
   "source": [
    "mu = ret_msft.mean()\n",
    "sigma = ret_msft.std()\n",
    "r = 0.0272/360\n",
    "K = opt_valuar.Strike\n",
    "S0 = closes_msft.iloc[-1]\n",
    "ndays = (opt_valuar.Expiry.date()-datetime.today().date()).days\n",
    "nscen = 100000\n",
    "dates = pd.date_range(datetime.today().date(),periods=ndays).astype('str')\n",
    "sim_ret = pd.DataFrame(sigma*np.random.randn(ndays,nscen)+r,index=dates)\n",
    "sim_closes = S0*np.exp(sim_ret.cumsum())\n",
    "strike = pd.DataFrame(K*np.ones([ndays,nscen]),index=dates)\n",
    "put=pd.DataFrame({'Prima':np.exp(-r*ndays)*np.fmax(strike-sim_closes,np.zeros([ndays,nscen])).T.mean()},index=dates)\n",
    "put.plot();"
   ]
  },
  {
   "cell_type": "code",
   "execution_count": 27,
   "metadata": {},
   "outputs": [
    {
     "name": "stdout",
     "output_type": "stream",
     "text": [
      "(1.0830687256274898, 1.2239100494796797)\n"
     ]
    }
   ],
   "source": [
    "confianza = 0.95\n",
    "sigma_est = sim_closes.iloc[-1].sem()\n",
    "mean_est = put.iloc[-1].Prima\n",
    "# i1 = st.t.interval(confianza,nscen-1, loc=mean_est, scale=sigma_est)\n",
    "i2 = st.norm.interval(confianza, loc=mean_est, scale=sigma_est)\n",
    "print(i2)"
   ]
  },
  {
   "cell_type": "markdown",
   "metadata": {},
   "source": [
    "## 2.1.- Metodo de rendimientos normales"
   ]
  },
  {
   "cell_type": "code",
   "execution_count": 22,
   "metadata": {},
   "outputs": [],
   "source": [
    "B = 110    # Precio barrera\n",
    "barrier = pd.DataFrame(B*np.ones((ndays, nscen)),index=dates)\n",
    "I = (sim_closes>barrier).cumsum()>0"
   ]
  },
  {
   "cell_type": "code",
   "execution_count": 23,
   "metadata": {},
   "outputs": [
    {
     "data": {
      "image/png": "[encoded data removed]",
      "text/plain": [
       "<Figure size 432x288 with 1 Axes>"
      ]
     },
     "metadata": {
      "needs_background": "light"
     },
     "output_type": "display_data"
    }
   ],
   "source": [
    "strike = pd.DataFrame(K*np.ones((ndays, nscen)),index=dates)\n",
    "put=pd.DataFrame({'Prima Europea':np.exp(-r*ndays)*np.fmax(strike-sim_closes,np.zeros([ndays,nscen])).T.mean()},index=dates)\n",
    "putuo = pd.DataFrame({'Prima Up-and-Out':np.exp(-r*ndays)*(I*np.fmax(strike-sim_closes,np.zeros((ndays,nscen)))).T.mean()},index=dates)\n",
    "\n",
    "ax = putuo.plot();\n",
    "put.plot(ax=ax);"
   ]
  },
  {
   "cell_type": "markdown",
   "metadata": {},
   "source": [
    "## 2.2.-Metodo del histograma"
   ]
  },
  {
   "cell_type": "code",
   "execution_count": 24,
   "metadata": {},
   "outputs": [],
   "source": [
    "freq, values = np.histogram(ret_msft-mu+r, bins=10000)\n",
    "# freq = freq.astype('float32')\n",
    "prob = freq/np.sum(freq)\n",
    "K = opt_valuar.Strike\n",
    "S0 = closes_msft.iloc[-1]\n",
    "ndays = (opt_valuar.Expiry.date()-datetime.today().date()).days\n",
    "nscen = 100000\n",
    "dates = pd.date_range(datetime.today().date(),periods=ndays).astype('str')\n",
    "\n",
    "ret = np.random.choice(values[1:], (ndays,nscen), p = prob)\n",
    "sim_ret_hist = pd.DataFrame(ret,index=dates)\n",
    "sim_closes_hist = S0*np.exp(sim_ret_hist.cumsum())"
   ]
  },
  {
   "cell_type": "code",
   "execution_count": 25,
   "metadata": {},
   "outputs": [],
   "source": [
    "B = 110    # Precio barrera\n",
    "barrier = pd.DataFrame(B*np.ones((ndays, nscen)),index=dates)\n",
    "I = (sim_closes_hist>barrier).cumsum()>0"
   ]
  },
  {
   "cell_type": "code",
   "execution_count": 26,
   "metadata": {},
   "outputs": [
    {
     "data": {
      "image/png": "[encoded data removed]",
      "text/plain": [
       "<Figure size 432x288 with 1 Axes>"
      ]
     },
     "metadata": {
      "needs_background": "light"
     },
     "output_type": "display_data"
    }
   ],
   "source": [
    "strike = pd.DataFrame(K*np.ones((ndays, nscen)),index=dates)\n",
    "put=pd.DataFrame({'Prima Europea':np.exp(-r*ndays)*np.fmax(strike-sim_closes_hist,np.zeros([ndays,nscen])).T.mean()},index=dates)\n",
    "putuo = pd.DataFrame({'Prima Up-and-Out':np.exp(-r*ndays)*(I*np.fmax(strike-sim_closes_hist,np.zeros((ndays,nscen)))).T.mean()},index=dates)\n",
    "ax = putuo.plot();\n",
    "put.plot(ax=ax);"
   ]
  }
 ],
 "metadata": {
  "kernelspec": {
   "display_name": "Python 3",
   "language": "python",
   "name": "python3"
  },
  "language_info": {
   "codemirror_mode": {
    "name": "ipython",
    "version": 3
   },
   "file_extension": ".py",
   "mimetype": "text/x-python",
   "name": "python",
   "nbconvert_exporter": "python",
   "pygments_lexer": "ipython3",
   "version": "3.7.0"
  }
 },
 "nbformat": 4,
 "nbformat_minor": 2
}
