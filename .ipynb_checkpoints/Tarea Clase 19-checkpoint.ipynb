{
 "cells": [
  {
   "cell_type": "markdown",
   "metadata": {},
   "source": [
    "# Tarea\n",
    "\n",
    "Implementar el método de esquemas del trapecio, para valuar la opción call y put asiática con precio inicial, $S_0 = 100$, precio de ejercicio $K = 100$, tasa libre de riesgo $r = 0.10$, volatilidad $\\sigma = 0.20$ y $T = 1$ año. Cuyo precio es $\\approx 7.04$. Realizar la simulación en base a la siguiente tabla:\n",
    "![imagen.png](attachment:imagen.png)\n",
    "\n",
    "Observe que en esta tabla se encuentran los intervalos de confianza de la aproximación obtenida y además el tiempo de simulación que tarda en encontrar la respuesta cada método. \n",
    "- Se debe entonces realizar una simulación para la misma cantidad de trayectorias y número de pasos y construir una Dataframe de pandas para reportar todos los resultados obtenidos.**(70 puntos)**\n",
    "- Compare los resultados obtenidos con los resultados arrojados por la función `Riemann_approach`. Concluya. **(30 puntos)**"
   ]
  },
  {
   "cell_type": "code",
   "execution_count": 1,
   "metadata": {},
   "outputs": [],
   "source": [
    "#importar los paquetes que se van a usar\n",
    "import pandas as pd\n",
    "import pandas_datareader.data as web\n",
    "import numpy as np\n",
    "import datetime\n",
    "import matplotlib.pyplot as plt\n",
    "import scipy.stats as st\n",
    "import seaborn as sns\n",
    "%matplotlib inline\n",
    "#algunas opciones para Pandas\n",
    "pd.set_option('display.notebook_repr_html', True)\n",
    "pd.set_option('display.max_columns', 9)\n",
    "pd.set_option('display.max_rows', 10)\n",
    "pd.set_option('display.width', 78)\n",
    "pd.set_option('precision', 3)"
   ]
  },
  {
   "cell_type": "code",
   "execution_count": 2,
   "metadata": {},
   "outputs": [],
   "source": [
    "def BSprices(mu,sigma,S0,NbTraj,NbStep):\n",
    "    T = 1\n",
    "    nu = mu-(sigma**2)/2\n",
    "    \n",
    "    DeltaT = T/NbStep\n",
    "    SqDeltaT = np.sqrt(DeltaT)\n",
    "    \n",
    "    #for i in range(NbStep):\n",
    "    DeltaW = SqDeltaT*np.random.randn(NbTraj,NbStep-1)\n",
    "    increments = nu*DeltaT + sigma*DeltaW\n",
    "    concat = np.concatenate((np.log(S0)*np.ones([NbTraj,1]),increments),axis=1)\n",
    "    LogSt = np.cumsum(concat,axis=1)\n",
    "    St = np.exp(LogSt)\n",
    "    t = np.arange(0,1,DeltaT)\n",
    "\n",
    "    return St.T,t"
   ]
  },
  {
   "cell_type": "code",
   "execution_count": 3,
   "metadata": {},
   "outputs": [],
   "source": [
    "def calc_daily_ret(closes):\n",
    "    return np.log(closes/closes.shift(1)).iloc[1:]"
   ]
  },
  {
   "cell_type": "markdown",
   "metadata": {},
   "source": [
    "# CALL"
   ]
  },
  {
   "cell_type": "code",
   "execution_count": 4,
   "metadata": {},
   "outputs": [],
   "source": [
    "def TrapC(K:'Strike price',r:'Tasa libre de riesgo',S0:'Precio inicial',\n",
    "                     NbTraj:'Número trayectorias',NbStep:'Cantidad de pasos a simular',\n",
    "                     sigma:'Volatilidad'):\n",
    " \n",
    "    # Resolvemos la ecuación de black scholes para obtener los precios\n",
    "    St,t = BSprices(r,sigma,S0,NbTraj,NbStep)\n",
    "    t = t*NbStep\n",
    "    \n",
    "    # Almacenamos los precios en un dataframe\n",
    "    prices = pd.DataFrame(St,index=t)\n",
    "    \n",
    "    # Obtenemos los precios promedios\n",
    "    #Average_t = prices.expanding().mean()\n",
    "    \n",
    "    vnormal = np.random.randn(NbStep,NbTraj)*sigma+2+r*(T/NbStep)\n",
    "    suma = np.cumsum(np.multiply(prices,vnormal)*((T/NbStep)/(2*T)))\n",
    "    \n",
    "    # Definimos el dataframe de strikes\n",
    "    strike = pd.DataFrame(K*np.ones([NbStep,NbTraj]), index=t)\n",
    "    \n",
    "    # Calculamos el call de la opción según la formula obtenida para Sumas de Riemann #cambiaaaa\n",
    "    call = pd.DataFrame({'Prima':np.exp(-r*T) \\\n",
    "                 *np.fmax(suma-strike,np.zeros([NbStep,NbTraj])).mean(axis=1)}, index=t)\n",
    "    \n",
    "    # intervalos de confianza\n",
    "    confianza = 0.95\n",
    "    sigma_est = call.sem().Prima\n",
    "    mean_est = call.iloc[-1].Prima\n",
    "    i1 = st.norm.interval(confianza, loc=mean_est, scale=sigma_est)\n",
    "    \n",
    "    #return np.array([call.iloc[-1].Prima,i1[0],i1[1]])\n",
    "    return call.iloc[-1].Prima"
   ]
  },
  {
   "cell_type": "code",
   "execution_count": null,
   "metadata": {},
   "outputs": [],
   "source": []
  },
  {
   "cell_type": "code",
   "execution_count": 5,
   "metadata": {},
   "outputs": [],
   "source": [
    "NbTraj = [1000,5000,10000]\n",
    "NbStep = [10,50,100]\n",
    "\n",
    "S0 = 100     # Precio inicial\n",
    "r = 0.10     # Tasa libre de riesgo \n",
    "sigma = 0.2  # volatilidad\n",
    "K = 100      # Strike price\n",
    "T = 1        # Tiempo de cierre - años\n",
    "\n",
    "# Call = np.zeros([len(NbTraj),len(NbStep)])\n",
    "# intervalos = []#np.zeros([len(NbTraj),len(NbStep)])\n",
    "M = list(map(lambda N_tra:list(map(lambda N_ste:TrapC(K,r,S0,N_tra,N_ste,sigma),\n",
    "                                   NbStep)),\n",
    "                                   NbTraj))\n",
    "M = np.asmatrix(M)"
   ]
  },
  {
   "cell_type": "code",
   "execution_count": 6,
   "metadata": {},
   "outputs": [
    {
     "data": {
      "text/html": [
       "<div>\n",
       "<style scoped>\n",
       "    .dataframe tbody tr th:only-of-type {\n",
       "        vertical-align: middle;\n",
       "    }\n",
       "\n",
       "    .dataframe tbody tr th {\n",
       "        vertical-align: top;\n",
       "    }\n",
       "\n",
       "    .dataframe thead th {\n",
       "        text-align: right;\n",
       "    }\n",
       "</style>\n",
       "<table border=\"1\" class=\"dataframe\">\n",
       "  <thead>\n",
       "    <tr style=\"text-align: right;\">\n",
       "      <th></th>\n",
       "      <th>NbStep = 10</th>\n",
       "      <th>NbStep = 50</th>\n",
       "      <th>NbStep = 100</th>\n",
       "    </tr>\n",
       "  </thead>\n",
       "  <tbody>\n",
       "    <tr>\n",
       "      <th>Nbtray = 1000</th>\n",
       "      <td>6.665</td>\n",
       "      <td>7.066</td>\n",
       "      <td>7.350</td>\n",
       "    </tr>\n",
       "    <tr>\n",
       "      <th>Nbtray = 5000</th>\n",
       "      <td>7.026</td>\n",
       "      <td>7.134</td>\n",
       "      <td>6.780</td>\n",
       "    </tr>\n",
       "    <tr>\n",
       "      <th>Nbtray = 10000</th>\n",
       "      <td>6.866</td>\n",
       "      <td>7.065</td>\n",
       "      <td>7.017</td>\n",
       "    </tr>\n",
       "  </tbody>\n",
       "</table>\n",
       "</div>"
      ],
      "text/plain": [
       "                NbStep = 10  NbStep = 50  NbStep = 100\n",
       "Nbtray = 1000         6.665        7.066         7.350\n",
       "Nbtray = 5000         7.026        7.134         6.780\n",
       "Nbtray = 10000        6.866        7.065         7.017"
      ]
     },
     "execution_count": 6,
     "metadata": {},
     "output_type": "execute_result"
    }
   ],
   "source": [
    "# Visualización de datos \n",
    "filas = ['Nbtray = %i' %i for i in NbTraj]\n",
    "col = ['NbStep = %i' %i for i in NbStep]\n",
    "df = pd.DataFrame(index=filas,columns=col)\n",
    "df.loc[:,:] = M\n",
    "df"
   ]
  },
  {
   "cell_type": "markdown",
   "metadata": {},
   "source": [
    "# PUT"
   ]
  },
  {
   "cell_type": "code",
   "execution_count": 7,
   "metadata": {},
   "outputs": [],
   "source": [
    "def TrapP(K:'Strike price',r:'Tasa libre de riesgo',S0:'Precio inicial',\n",
    "                     NbTraj:'Número trayectorias',NbStep:'Cantidad de pasos a simular',\n",
    "                     sigma:'Volatilidad'):\n",
    "    \n",
    "    # Resolvemos la ecuación de black scholes para obtener los precios\n",
    "    St,t = BSprices(r,sigma,S0,NbTraj,NbStep)\n",
    "    t = t*NbStep\n",
    "    \n",
    "    # Almacenamos los precios en un dataframe\n",
    "    prices = pd.DataFrame(St,index=t)\n",
    "    \n",
    "    # Obtenemos los precios promedios\n",
    "    #Average_t = prices.expanding().mean()\n",
    "    vnormal = np.random.randn(NbStep,NbTraj)*sigma+2+r*(T/NbStep)\n",
    "    suma = np.cumsum(np.multiply(prices,vnormal)*((T/NbStep)/(2*T)))\n",
    "    \n",
    "    # Definimos el dataframe de strikes\n",
    "    strike = pd.DataFrame(K*np.ones([NbStep,NbTraj]), index=t)\n",
    "    \n",
    "    # Calculamos el call de la opción según la formula obtenida para Sumas de Riemann #cambiaaaa\n",
    "    put = pd.DataFrame({'Prima':np.exp(-r*T) \\\n",
    "                 *np.fmax(strike-suma,np.zeros([NbStep,NbTraj])).mean(axis=1)}, index=t)\n",
    "    \n",
    "    # intervalos de confianza\n",
    "    confianza = 0.95\n",
    "    sigma_est = put.sem().Prima\n",
    "    mean_est = put.iloc[-1].Prima\n",
    "    i1 = st.norm.interval(confianza, loc=mean_est, scale=sigma_est)\n",
    "    \n",
    "#     return np.array([call.iloc[-1].Prima,i1[0],i1[1]])\n",
    "    return put.iloc[-1].Prima"
   ]
  },
  {
   "cell_type": "code",
   "execution_count": 8,
   "metadata": {},
   "outputs": [],
   "source": [
    "M = list(map(lambda N_tra:list(map(lambda N_ste:TrapP(K,r,S0,N_tra,N_ste,sigma),\n",
    "                                   NbStep)),\n",
    "                                   NbTraj))\n",
    "M = np.asmatrix(M)"
   ]
  },
  {
   "cell_type": "code",
   "execution_count": 9,
   "metadata": {},
   "outputs": [
    {
     "data": {
      "text/html": [
       "<div>\n",
       "<style scoped>\n",
       "    .dataframe tbody tr th:only-of-type {\n",
       "        vertical-align: middle;\n",
       "    }\n",
       "\n",
       "    .dataframe tbody tr th {\n",
       "        vertical-align: top;\n",
       "    }\n",
       "\n",
       "    .dataframe thead th {\n",
       "        text-align: right;\n",
       "    }\n",
       "</style>\n",
       "<table border=\"1\" class=\"dataframe\">\n",
       "  <thead>\n",
       "    <tr style=\"text-align: right;\">\n",
       "      <th></th>\n",
       "      <th>NbStep = 10</th>\n",
       "      <th>NbStep = 50</th>\n",
       "      <th>NbStep = 100</th>\n",
       "    </tr>\n",
       "  </thead>\n",
       "  <tbody>\n",
       "    <tr>\n",
       "      <th>Nbtray = 1000</th>\n",
       "      <td>2.385</td>\n",
       "      <td>2.452</td>\n",
       "      <td>2.109</td>\n",
       "    </tr>\n",
       "    <tr>\n",
       "      <th>Nbtray = 5000</th>\n",
       "      <td>2.270</td>\n",
       "      <td>2.305</td>\n",
       "      <td>2.263</td>\n",
       "    </tr>\n",
       "    <tr>\n",
       "      <th>Nbtray = 10000</th>\n",
       "      <td>2.271</td>\n",
       "      <td>2.338</td>\n",
       "      <td>2.327</td>\n",
       "    </tr>\n",
       "  </tbody>\n",
       "</table>\n",
       "</div>"
      ],
      "text/plain": [
       "                NbStep = 10  NbStep = 50  NbStep = 100\n",
       "Nbtray = 1000         2.385        2.452         2.109\n",
       "Nbtray = 5000         2.270        2.305         2.263\n",
       "Nbtray = 10000        2.271        2.338         2.327"
      ]
     },
     "execution_count": 9,
     "metadata": {},
     "output_type": "execute_result"
    }
   ],
   "source": [
    "# Visualización de datos \n",
    "filas = ['Nbtray = %i' %i for i in NbTraj]\n",
    "col = ['NbStep = %i' %i for i in NbStep]\n",
    "df = pd.DataFrame(index=filas,columns=col)\n",
    "df.loc[:,:] = M\n",
    "df"
   ]
  },
  {
   "cell_type": "code",
   "execution_count": null,
   "metadata": {},
   "outputs": [],
   "source": []
  }
 ],
 "metadata": {
  "kernelspec": {
   "display_name": "Python 3",
   "language": "python",
   "name": "python3"
  },
  "language_info": {
   "codemirror_mode": {
    "name": "ipython",
    "version": 3
   },
   "file_extension": ".py",
   "mimetype": "text/x-python",
   "name": "python",
   "nbconvert_exporter": "python",
   "pygments_lexer": "ipython3",
   "version": "3.6.4"
  }
 },
 "nbformat": 4,
 "nbformat_minor": 2
}
