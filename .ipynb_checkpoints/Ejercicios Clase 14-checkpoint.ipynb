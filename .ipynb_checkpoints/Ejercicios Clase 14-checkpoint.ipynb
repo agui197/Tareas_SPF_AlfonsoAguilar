{
 "cells": [
  {
   "cell_type": "code",
   "execution_count": 2,
   "metadata": {},
   "outputs": [],
   "source": [
    "import numpy as np\n",
    "import matplotlib.pyplot as plt\n",
    "from itertools import cycle  # Librería para hacer ciclos\n",
    "import matplotlib.pyplot as plt\n",
    "import scipy.stats as st     # Librería estadística\n",
    "import pandas as pd"
   ]
  },
  {
   "cell_type": "code",
   "execution_count": 17,
   "metadata": {},
   "outputs": [],
   "source": [
    "##acumulada pero equivocada por no estar el dominio correcto\n",
    "def fun(x):\n",
    "    return 1-1/x"
   ]
  },
  {
   "cell_type": "code",
   "execution_count": 24,
   "metadata": {},
   "outputs": [],
   "source": [
    "#funcion inversa con los dominios correctos\n",
    "def fun_inv(x):\n",
    "    return np.sqrt(1/x)"
   ]
  },
  {
   "cell_type": "code",
   "execution_count": 25,
   "metadata": {},
   "outputs": [
    {
     "data": {
      "text/plain": [
       "1.5498896317092554"
      ]
     },
     "execution_count": 25,
     "metadata": {},
     "output_type": "execute_result"
    }
   ],
   "source": [
    "N = 10\n",
    "u1 = np.random.rand(N)\n",
    "f_u1 = list(map(lambda x: fun_inv(x),u1))\n",
    "media_montecarlo = np.mean(f_u1)\n",
    "media_montecarlo"
   ]
  },
  {
   "cell_type": "code",
   "execution_count": 26,
   "metadata": {},
   "outputs": [
    {
     "data": {
      "text/plain": [
       "2.4969683360334782"
      ]
     },
     "execution_count": 26,
     "metadata": {},
     "output_type": "execute_result"
    }
   ],
   "source": [
    "u1 =np.random.uniform(0,.6,3)\n",
    "u2 =np.random.uniform(.6,.9,3)\n",
    "u3 =np.random.uniform(0.9,1,4)\n",
    "u  = [u1,u2,u3]\n",
    "m  = range(len(u))\n",
    "w  = [.5,1,4]\n",
    "xi = list(map(lambda x:fun_inv(x),u))\n",
    "muestras = list(map(lambda wi,xi:xi/wi,w,xi))\n",
    "montecarlo_estratificado=np.concatenate(muestras).mean()\n",
    "montecarlo_estratificado"
   ]
  },
  {
   "cell_type": "code",
   "execution_count": 27,
   "metadata": {},
   "outputs": [
    {
     "data": {
      "text/plain": [
       "1.438387325484748"
      ]
     },
     "execution_count": 27,
     "metadata": {},
     "output_type": "execute_result"
    }
   ],
   "source": [
    "u1 = np.random.rand(N)\n",
    "u2 = 1-u1\n",
    "f_u2 = list(map(lambda x:fun_inv(x),u2))\n",
    "media_complementario = (np.mean(f_u2)+media_montecarlo)/2\n",
    "media_complementario"
   ]
  },
  {
   "cell_type": "code",
   "execution_count": null,
   "metadata": {},
   "outputs": [],
   "source": []
  }
 ],
 "metadata": {
  "kernelspec": {
   "display_name": "Python 3",
   "language": "python",
   "name": "python3"
  },
  "language_info": {
   "codemirror_mode": {
    "name": "ipython",
    "version": 3
   },
   "file_extension": ".py",
   "mimetype": "text/x-python",
   "name": "python",
   "nbconvert_exporter": "python",
   "pygments_lexer": "ipython3",
   "version": "3.6.5"
  }
 },
 "nbformat": 4,
 "nbformat_minor": 2
}
