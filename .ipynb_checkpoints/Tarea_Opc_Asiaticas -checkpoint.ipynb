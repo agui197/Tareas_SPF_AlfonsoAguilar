{
 "cells": [
  {
   "cell_type": "markdown",
   "metadata": {},
   "source": [
    "# Tarea\n",
    "\n",
    "Implementar el método de esquemas del trapecio, para valuar la opción call y put asiática con precio inicial, $S_0 = 100$, precio de ejercicio $K = 100$, tasa libre de riesgo $r = 0.10$, volatilidad $\\sigma = 0.20$ y $T = 1$ año. Cuyo precio es $\\approx 7.04$."
   ]
  },
  {
   "cell_type": "code",
   "execution_count": 64,
   "metadata": {},
   "outputs": [],
   "source": [
    "#importar los paquetes que se van a usar\n",
    "import pandas as pd\n",
    "import pandas_datareader.data as web\n",
    "import numpy as np\n",
    "import datetime\n",
    "import matplotlib.pyplot as plt\n",
    "import scipy.stats as st\n",
    "import seaborn as sns\n",
    "%matplotlib inline\n",
    "\n",
    "import time,math \n",
    "#algunas opciones para Pandas\n",
    "pd.set_option('display.notebook_repr_html', True)\n",
    "pd.set_option('display.max_columns', 9)\n",
    "pd.set_option('display.max_rows', 10)\n",
    "pd.set_option('display.width', 78)\n",
    "pd.set_option('precision', 3)"
   ]
  },
  {
   "cell_type": "code",
   "execution_count": 65,
   "metadata": {},
   "outputs": [],
   "source": [
    "def BSprices(mu,sigma,S0,NbTraj,NbStep):\n",
    "    T = 1\n",
    "    nu = mu-(sigma**2)/2\n",
    "    \n",
    "    DeltaT = T/NbStep\n",
    "    SqDeltaT = np.sqrt(DeltaT)\n",
    "    \n",
    "    #for i in range(NbStep):\n",
    "    DeltaW = SqDeltaT*np.random.randn(NbTraj,NbStep-1)\n",
    "    increments = nu*DeltaT + sigma*DeltaW\n",
    "    concat = np.concatenate((np.log(S0)*np.ones([NbTraj,1]),increments),axis=1)\n",
    "    LogSt = np.cumsum(concat,axis=1)\n",
    "    St = np.exp(LogSt)\n",
    "    t = np.arange(0,1,DeltaT)\n",
    "\n",
    "    return St.T,t\n",
    "\n",
    "def calc_daily_ret(closes):\n",
    "    return np.log(closes/closes.shift(1)).iloc[1:]"
   ]
  },
  {
   "cell_type": "code",
   "execution_count": 66,
   "metadata": {},
   "outputs": [],
   "source": [
    "np.random.seed(5555)\n",
    "NbTraj = 2\n",
    "NbStep = 100\n",
    "S0 = 100\n",
    "r = 0.10\n",
    "sigma = 0.2\n",
    "K = 100\n",
    "T = 1\n",
    "\n",
    "\n",
    "\n",
    "# Resolvemos la ecuación de black scholes para obtener los precios\n",
    "St,t = BSprices(r,sigma,S0,NbTraj,NbStep)\n",
    "t = t*NbStep\n",
    "\n",
    "prices = pd.DataFrame(St,index=t)\n",
    "vnormal = np.random.randn(len(t),NbTraj)*sigma+2+r*(T/NbStep)\n",
    "nprices = np.multiply(prices,vnormal)\n",
    "\n",
    "# Obtenemos los precios promedios en todo el tiempo\n",
    "suma = ((T/NbStep)/(2*T))*nprices.cumsum()\n",
    "\n",
    "\n"
   ]
  },
  {
   "cell_type": "markdown",
   "metadata": {},
   "source": [
    "## Esquema del trapecio"
   ]
  },
  {
   "cell_type": "markdown",
   "metadata": {},
   "source": [
    "# CALL"
   ]
  },
  {
   "cell_type": "code",
   "execution_count": 67,
   "metadata": {},
   "outputs": [],
   "source": [
    "def TrapC(K:'Strike price',r:'Tasa libre de riesgo',S0:'Precio inicial',\n",
    "                     NbTraj:'Número trayectorias',NbStep:'Cantidad de pasos a simular',\n",
    "                     sigma:'Volatilidad'):\n",
    " \n",
    "    # Resolvemos la ecuación de black scholes para obtener los precios\n",
    "    St,t = BSprices(r,sigma,S0,NbTraj,NbStep)\n",
    "    t = t*NbStep\n",
    "    \n",
    "    # Almacenamos los precios en un dataframe\n",
    "    prices = pd.DataFrame(St,index=t)\n",
    "    \n",
    "    # Obtenemos los precios promedios\n",
    "    #Average_t = prices.expanding().mean()\n",
    "    \n",
    "    vnormal = np.random.randn(NbStep,NbTraj)*sigma+2+r*(T/NbStep)\n",
    "    suma = np.cumsum(np.multiply(prices,vnormal)*((T/NbStep)/(2*T)))\n",
    "    \n",
    "    # Definimos el dataframe de strikes\n",
    "    strike = pd.DataFrame(K*np.ones([NbStep,NbTraj]), index=t)\n",
    "    \n",
    "    # Calculamos el call de la opción según la formula obtenida para Sumas de Riemann #cambiaaaa\n",
    "    call = pd.DataFrame({'Prima':np.exp(-r*T) \\\n",
    "                 *np.fmax(suma-strike,np.zeros([NbStep,NbTraj])).mean(axis=1)}, index=t)\n",
    "    \n",
    "    # intervalos de confianza\n",
    "    confianza = 0.95\n",
    "    sigma_est = call.sem().Prima\n",
    "    mean_est = call.iloc[-1].Prima\n",
    "    i1 = st.norm.interval(confianza, loc=mean_est, scale=sigma_est)\n",
    "    \n",
    "    #return np.array([call.iloc[-1].Prima,i1[0],i1[1]])\n",
    "    return call.iloc[-1].Prima"
   ]
  },
  {
   "cell_type": "code",
   "execution_count": 68,
   "metadata": {},
   "outputs": [
    {
     "name": "stdout",
     "output_type": "stream",
     "text": [
      "Usando 1000 toma 13.516433238983154 segundos\n"
     ]
    }
   ],
   "source": [
    "speed = []\n",
    "t1=time.time()\n",
    "NbTraj = [1000,5000,10000,50000,100000]#,500000,1000000]\n",
    "NbStep = [10,50,100]\n",
    "\n",
    "S0 = 100     # Precio inicial\n",
    "r = 0.10     # Tasa libre de riesgo \n",
    "sigma = 0.2  # volatilidad\n",
    "K = 100      # Strike price\n",
    "T = 1        # Tiempo de cierre - años\n",
    "\n",
    "M = list(map(lambda N_tra:list(map(lambda N_ste:TrapC(K,r,S0,N_tra,N_ste,sigma),\n",
    "                                   NbStep)),\n",
    "                                   NbTraj))\n",
    "M = np.asmatrix(M)\n",
    "\n",
    "\n",
    "\n",
    "\n",
    "########### Usando numpy\n",
    "\n",
    "t2 = time.time()\n",
    "print(\"Usando 1000 toma {} segundos\".format(t2-t1))\n",
    "speed.append(t2-t1)"
   ]
  },
  {
   "cell_type": "code",
   "execution_count": 69,
   "metadata": {},
   "outputs": [
    {
     "name": "stdout",
     "output_type": "stream",
     "text": [
      "[[6.55939801 7.25216675 7.2480156 ]\n",
      " [7.04258831 7.16616131 6.89296964]\n",
      " [6.79874606 6.88414076 6.93040327]\n",
      " [6.84727358 7.03094485 7.00837399]\n",
      " [6.91786102 7.00290478 7.03715955]]\n"
     ]
    }
   ],
   "source": [
    "print(M)"
   ]
  },
  {
   "cell_type": "code",
   "execution_count": 70,
   "metadata": {},
   "outputs": [
    {
     "data": {
      "text/html": [
       "<div>\n",
       "<style scoped>\n",
       "    .dataframe tbody tr th:only-of-type {\n",
       "        vertical-align: middle;\n",
       "    }\n",
       "\n",
       "    .dataframe tbody tr th {\n",
       "        vertical-align: top;\n",
       "    }\n",
       "\n",
       "    .dataframe thead th {\n",
       "        text-align: right;\n",
       "    }\n",
       "</style>\n",
       "<table border=\"1\" class=\"dataframe\">\n",
       "  <thead>\n",
       "    <tr style=\"text-align: right;\">\n",
       "      <th></th>\n",
       "      <th>NbStep = 10</th>\n",
       "      <th>NbStep = 50</th>\n",
       "      <th>NbStep = 100</th>\n",
       "    </tr>\n",
       "  </thead>\n",
       "  <tbody>\n",
       "    <tr>\n",
       "      <th>Nbtray = 1000</th>\n",
       "      <td>6.559</td>\n",
       "      <td>7.252</td>\n",
       "      <td>7.248</td>\n",
       "    </tr>\n",
       "    <tr>\n",
       "      <th>Nbtray = 5000</th>\n",
       "      <td>7.043</td>\n",
       "      <td>7.166</td>\n",
       "      <td>6.893</td>\n",
       "    </tr>\n",
       "    <tr>\n",
       "      <th>Nbtray = 10000</th>\n",
       "      <td>6.799</td>\n",
       "      <td>6.884</td>\n",
       "      <td>6.930</td>\n",
       "    </tr>\n",
       "    <tr>\n",
       "      <th>Nbtray = 50000</th>\n",
       "      <td>6.847</td>\n",
       "      <td>7.031</td>\n",
       "      <td>7.008</td>\n",
       "    </tr>\n",
       "    <tr>\n",
       "      <th>Nbtray = 100000</th>\n",
       "      <td>6.918</td>\n",
       "      <td>7.003</td>\n",
       "      <td>7.037</td>\n",
       "    </tr>\n",
       "  </tbody>\n",
       "</table>\n",
       "</div>"
      ],
      "text/plain": [
       "                 NbStep = 10  NbStep = 50  NbStep = 100\n",
       "Nbtray = 1000          6.559        7.252         7.248\n",
       "Nbtray = 5000          7.043        7.166         6.893\n",
       "Nbtray = 10000         6.799        6.884         6.930\n",
       "Nbtray = 50000         6.847        7.031         7.008\n",
       "Nbtray = 100000        6.918        7.003         7.037"
      ]
     },
     "execution_count": 70,
     "metadata": {},
     "output_type": "execute_result"
    }
   ],
   "source": [
    "# Visualización de datos \n",
    "filas = ['Nbtray = %i' %i for i in NbTraj]\n",
    "col = ['NbStep = %i' %i for i in NbStep]\n",
    "df = pd.DataFrame(index=filas,columns=col)\n",
    "df.loc[:,:] = M\n",
    "df"
   ]
  },
  {
   "cell_type": "markdown",
   "metadata": {},
   "source": [
    "# PUT"
   ]
  },
  {
   "cell_type": "code",
   "execution_count": 24,
   "metadata": {},
   "outputs": [],
   "source": [
    "def TrapP(K:'Strike price',r:'Tasa libre de riesgo',S0:'Precio inicial',\n",
    "                     NbTraj:'Número trayectorias',NbStep:'Cantidad de pasos a simular',\n",
    "                     sigma:'Volatilidad'):\n",
    "    \n",
    "    # Resolvemos la ecuación de black scholes para obtener los precios\n",
    "    St,t = BSprices(r,sigma,S0,NbTraj,NbStep)\n",
    "    t = t*NbStep\n",
    "    \n",
    "    # Almacenamos los precios en un dataframe\n",
    "    prices = pd.DataFrame(St,index=t)\n",
    "    \n",
    "    # Obtenemos los precios promedios\n",
    "    #Average_t = prices.expanding().mean()\n",
    "    vnormal = np.random.randn(NbStep,NbTraj)*sigma+2+r*(T/NbStep)\n",
    "    suma = np.cumsum(np.multiply(prices,vnormal)*((T/NbStep)/(2*T)))\n",
    "    \n",
    "    # Definimos el dataframe de strikes\n",
    "    strike = pd.DataFrame(K*np.ones([NbStep,NbTraj]), index=t)\n",
    "    \n",
    "    # Calculamos el call de la opción según la formula obtenida para Sumas de Riemann #cambiaaaa\n",
    "    put = pd.DataFrame({'Prima':np.exp(-r*T) \\\n",
    "                 *np.fmax(strike-suma,np.zeros([NbStep,NbTraj])).mean(axis=1)}, index=t)\n",
    "    \n",
    "    # intervalos de confianza\n",
    "    confianza = 0.95\n",
    "    sigma_est = put.sem().Prima\n",
    "    mean_est = put.iloc[-1].Prima\n",
    "    i1 = st.norm.interval(confianza, loc=mean_est, scale=sigma_est)\n",
    "    \n",
    "#     return np.array([call.iloc[-1].Prima,i1[0],i1[1]])\n",
    "    return put.iloc[-1].Prima"
   ]
  },
  {
   "cell_type": "code",
   "execution_count": 25,
   "metadata": {},
   "outputs": [],
   "source": [
    "NbTraj = [1000,5000,10000,50000,100000]\n",
    "NbStep = [10,50,100]\n",
    "\n",
    "S0 = 100     # Precio inicial\n",
    "r = 0.10     # Tasa libre de riesgo \n",
    "sigma = 0.2  # volatilidad\n",
    "K = 100      # Strike price\n",
    "T = 1        # Tiempo de cierre - años\n",
    "\n",
    "M = list(map(lambda N_tra:list(map(lambda N_ste:TrapP(K,r,S0,N_tra,N_ste,sigma),\n",
    "                                   NbStep)),\n",
    "                                   NbTraj))\n",
    "M = np.asmatrix(M)"
   ]
  },
  {
   "cell_type": "code",
   "execution_count": 26,
   "metadata": {},
   "outputs": [
    {
     "data": {
      "text/html": [
       "<div>\n",
       "<style scoped>\n",
       "    .dataframe tbody tr th:only-of-type {\n",
       "        vertical-align: middle;\n",
       "    }\n",
       "\n",
       "    .dataframe tbody tr th {\n",
       "        vertical-align: top;\n",
       "    }\n",
       "\n",
       "    .dataframe thead th {\n",
       "        text-align: right;\n",
       "    }\n",
       "</style>\n",
       "<table border=\"1\" class=\"dataframe\">\n",
       "  <thead>\n",
       "    <tr style=\"text-align: right;\">\n",
       "      <th></th>\n",
       "      <th>NbStep = 10</th>\n",
       "      <th>NbStep = 50</th>\n",
       "      <th>NbStep = 100</th>\n",
       "    </tr>\n",
       "  </thead>\n",
       "  <tbody>\n",
       "    <tr>\n",
       "      <th>Nbtray = 1000</th>\n",
       "      <td>1.986</td>\n",
       "      <td>2.417</td>\n",
       "      <td>2.277</td>\n",
       "    </tr>\n",
       "    <tr>\n",
       "      <th>Nbtray = 5000</th>\n",
       "      <td>2.339</td>\n",
       "      <td>2.229</td>\n",
       "      <td>2.361</td>\n",
       "    </tr>\n",
       "    <tr>\n",
       "      <th>Nbtray = 10000</th>\n",
       "      <td>2.237</td>\n",
       "      <td>2.345</td>\n",
       "      <td>2.283</td>\n",
       "    </tr>\n",
       "    <tr>\n",
       "      <th>Nbtray = 50000</th>\n",
       "      <td>2.219</td>\n",
       "      <td>2.347</td>\n",
       "      <td>2.326</td>\n",
       "    </tr>\n",
       "    <tr>\n",
       "      <th>Nbtray = 100000</th>\n",
       "      <td>2.219</td>\n",
       "      <td>2.352</td>\n",
       "      <td>2.354</td>\n",
       "    </tr>\n",
       "  </tbody>\n",
       "</table>\n",
       "</div>"
      ],
      "text/plain": [
       "                 NbStep = 10  NbStep = 50  NbStep = 100\n",
       "Nbtray = 1000          1.986        2.417         2.277\n",
       "Nbtray = 5000          2.339        2.229         2.361\n",
       "Nbtray = 10000         2.237        2.345         2.283\n",
       "Nbtray = 50000         2.219        2.347         2.326\n",
       "Nbtray = 100000        2.219        2.352         2.354"
      ]
     },
     "execution_count": 26,
     "metadata": {},
     "output_type": "execute_result"
    }
   ],
   "source": [
    "# Visualización de datos \n",
    "filas = ['Nbtray = %i' %i for i in NbTraj]\n",
    "col = ['NbStep = %i' %i for i in NbStep]\n",
    "df = pd.DataFrame(index=filas,columns=col)\n",
    "df.loc[:,:] = M\n",
    "df"
   ]
  },
  {
   "cell_type": "code",
   "execution_count": null,
   "metadata": {},
   "outputs": [],
   "source": []
  },
  {
   "cell_type": "code",
   "execution_count": null,
   "metadata": {},
   "outputs": [],
   "source": []
  }
 ],
 "metadata": {
  "kernelspec": {
   "display_name": "Python 3",
   "language": "python",
   "name": "python3"
  },
  "language_info": {
   "codemirror_mode": {
    "name": "ipython",
    "version": 3
   },
   "file_extension": ".py",
   "mimetype": "text/x-python",
   "name": "python",
   "nbconvert_exporter": "python",
   "pygments_lexer": "ipython3",
   "version": "3.6.4"
  }
 },
 "nbformat": 4,
 "nbformat_minor": 2
}
